{
 "cells": [
  {
   "attachments": {},
   "cell_type": "markdown",
   "metadata": {},
   "source": [
    "# Imports\n",
    "\n",
    "First, we'll import the necessary libraries."
   ]
  },
  {
   "cell_type": "code",
   "execution_count": 36,
   "metadata": {
    "ExecuteTime": {
     "start_time": "2023-05-10T10:54:18.672023Z",
     "end_time": "2023-05-10T10:54:18.789920Z"
    }
   },
   "outputs": [],
   "source": [
    "import requests\n",
    "import pandas as pd\n",
    "import geopandas as gpd\n",
    "from shapely.geometry import Polygon\n",
    "import matplotlib.pyplot as plt\n",
    "import datetime\n",
    "import io\n",
    "import zipfile\n",
    "import rasterio\n",
    "from rasterio.plot import show\n",
    "import sklearn\n",
    "from sklearn.neighbors import KernelDensity\n",
    "import numpy as np\n",
    "import mapclassify\n",
    "import collections\n",
    "\n",
    "# in response to an error importing collections, I used this: https://stackoverflow.com/questions/72032032/importerror-cannot-import-name-iterable-from-collections-in-python\n",
    "\n",
    "from collections.abc import Iterable\n",
    "\n",
    "collections.Iterable = collections.abc.Iterable\n",
    "collections.Mapping = collections.abc.Mapping\n",
    "collections.MutableSet = collections.abc.MutableSet\n",
    "collections.MutableMapping = collections.abc.MutableMapping"
   ]
  },
  {
   "attachments": {},
   "cell_type": "markdown",
   "metadata": {},
   "source": [
    "Next, we'll query the City of Philadelphia data via the ArcGIS REST API using the `requests` library. We'll also use the `json` library to parse the response.\n",
    "\n",
    "Finally, we'll use the `geopandas` library to create a geodataframe from the response."
   ]
  },
  {
   "attachments": {},
   "cell_type": "markdown",
   "metadata": {},
   "source": [
    "We have three different datasets to import from the City's ArcGIS server. These are:"
   ]
  },
  {
   "attachments": {},
   "cell_type": "markdown",
   "metadata": {},
   "source": [
    "### 1. Vacant Land"
   ]
  },
  {
   "cell_type": "code",
   "execution_count": 37,
   "metadata": {
    "ExecuteTime": {
     "start_time": "2023-05-10T10:54:18.699543Z",
     "end_time": "2023-05-10T10:54:31.669688Z"
    }
   },
   "outputs": [],
   "source": [
    "# Define the URL for the Vacant_Indicators_Land feature service\n",
    "land_url = 'https://services.arcgis.com/fLeGjb7u4uXqeF9q/ArcGIS/rest/services/Vacant_Indicators_Land/FeatureServer/0/query'\n",
    "\n",
    "# Define the parameters for the Vacant_Indicators_Land API request\n",
    "land_params = {\n",
    "    'where': '1=1',\n",
    "    'outFields': '*',\n",
    "    'returnGeometry': 'true',\n",
    "    'f': 'json',\n",
    "    'resultRecordCount': 2000 # Number of features to return per request\n",
    "}\n",
    "\n",
    "# Make the Vacant_Indicators_Land API requests\n",
    "land_dfs = []\n",
    "land_offset = 0\n",
    "while True:\n",
    "    # Add the offset parameter to the API request\n",
    "    land_params['resultOffset'] = land_offset\n",
    "    land_response = requests.get(land_url, params=land_params)\n",
    "    \n",
    "    if land_response.status_code == 200:\n",
    "        # Convert the Vacant_Indicators_Land JSON data to a geopandas geodataframe; convert to CRS 3857\n",
    "        land_data = land_response.json()\n",
    "\n",
    "        # convert the JSON data to a pandas dataframe\n",
    "        land_df = pd.DataFrame(land_data['features'])\n",
    "\n",
    "        # separate the attributes column into one column per attribute\n",
    "        land_df = pd.concat([land_df.drop(['attributes'], axis=1), land_df['attributes'].apply(pd.Series)], axis=1)\n",
    "\n",
    "        # make the `geometry` column a shapely geometry object\n",
    "        land_df['geometry'] = land_df['geometry'].apply(lambda x: Polygon(x['rings'][0]))\n",
    "\n",
    "        # convert the pandas dataframe to a geopandas geodataframe\n",
    "        land_gdf = gpd.GeoDataFrame(land_df, geometry='geometry', crs='EPSG:3857')\n",
    "        land_gdf.to_crs(epsg=2272, inplace=True)\n",
    "\n",
    "        land_dfs.append(land_gdf)\n",
    "        land_offset += len(land_gdf)\n",
    "        \n",
    "        if len(land_gdf) < 2000:\n",
    "            break  # If there are fewer than 2000 features returned, it means we have all the data\n",
    "        \n",
    "    else:\n",
    "        print('Vacant_Indicators_Land Request failed with status code:', land_response.status_code)\n",
    "        break\n",
    "\n",
    "# Concatenate the dataframes into a single geodataframe\n",
    "land_gdf = gpd.GeoDataFrame(pd.concat(land_dfs, ignore_index=True), crs='EPSG:2272')\n"
   ]
  },
  {
   "cell_type": "code",
   "execution_count": 38,
   "metadata": {
    "ExecuteTime": {
     "start_time": "2023-05-10T10:54:31.671688Z",
     "end_time": "2023-05-10T10:54:31.686715Z"
    }
   },
   "outputs": [
    {
     "data": {
      "text/plain": "(26249, 14)"
     },
     "execution_count": 38,
     "metadata": {},
     "output_type": "execute_result"
    }
   ],
   "source": [
    "land_gdf.shape"
   ]
  },
  {
   "attachments": {},
   "cell_type": "markdown",
   "metadata": {},
   "source": [
    "### 2. Vacant Buildings"
   ]
  },
  {
   "cell_type": "code",
   "execution_count": 39,
   "metadata": {
    "ExecuteTime": {
     "start_time": "2023-05-10T10:54:31.688715Z",
     "end_time": "2023-05-10T10:54:37.494391Z"
    }
   },
   "outputs": [],
   "source": [
    "# Define the URL for the Vacant_Indicators_Bldg feature service\n",
    "bldg_url = 'https://services.arcgis.com/fLeGjb7u4uXqeF9q/ArcGIS/rest/services/Vacant_Indicators_Bldg/FeatureServer/0/query'\n",
    "\n",
    "# Define the parameters for the Vacant_Indicators_Bldg API request\n",
    "bldg_params = {\n",
    "    'where': '1=1',\n",
    "    'outFields': '*',\n",
    "    'returnGeometry': 'true',\n",
    "    'f': 'json',\n",
    "    'resultRecordCount': 2000 # Number of features to return per request\n",
    "}\n",
    "\n",
    "# Make the Vacant_Indicators_Bldg API requests\n",
    "bldg_dfs = []\n",
    "bldg_offset = 0\n",
    "while True:\n",
    "    # Add the offset parameter to the API request\n",
    "    bldg_params['resultOffset'] = bldg_offset\n",
    "    bldg_response = requests.get(bldg_url, params=bldg_params)\n",
    "    \n",
    "    if bldg_response.status_code == 200:\n",
    "        # Convert the Vacant_Indicators_bldg JSON data to a geopandas geodataframe; convert to CRS 3857\n",
    "        bldg_data = bldg_response.json()\n",
    "\n",
    "        # convert the JSON data to a pandas dataframe\n",
    "        bldg_df = pd.DataFrame(bldg_data['features'])\n",
    "\n",
    "        # separate the attributes column into one column per attribute\n",
    "        bldg_df = pd.concat([bldg_df.drop(['attributes'], axis=1), bldg_df['attributes'].apply(pd.Series)], axis=1)\n",
    "\n",
    "        # make the `geometry` column a shapely geometry object\n",
    "        bldg_df['geometry'] = bldg_df['geometry'].apply(lambda x: Polygon(x['rings'][0]))\n",
    "\n",
    "        # convert the pandas dataframe to a geopandas geodataframe\n",
    "        bldg_gdf = gpd.GeoDataFrame(bldg_df, geometry='geometry', crs='EPSG:3857')\n",
    "        bldg_gdf.to_crs(epsg=2272, inplace=True)\n",
    "\n",
    "        bldg_dfs.append(bldg_gdf)\n",
    "        bldg_offset += len(bldg_gdf)\n",
    "        \n",
    "        if len(bldg_gdf) < 2000:\n",
    "            break  # If there are fewer than 2000 features returned, it means we have all the data\n",
    "        \n",
    "    else:\n",
    "        print('Vacant_Indicators_Bldg Request failed with status code:', bldg_response.status_code)\n",
    "        break\n",
    "\n",
    "# Concatenate the dataframes into a single geodataframe\n",
    "bldg_gdf = gpd.GeoDataFrame(pd.concat(bldg_dfs, ignore_index=True), crs='EPSG:2272')"
   ]
  },
  {
   "cell_type": "code",
   "execution_count": 40,
   "metadata": {
    "ExecuteTime": {
     "start_time": "2023-05-10T10:54:37.495390Z",
     "end_time": "2023-05-10T10:54:37.509203Z"
    }
   },
   "outputs": [
    {
     "data": {
      "text/plain": "(9771, 14)"
     },
     "execution_count": 40,
     "metadata": {},
     "output_type": "execute_result"
    }
   ],
   "source": [
    "bldg_gdf.shape"
   ]
  },
  {
   "attachments": {},
   "cell_type": "markdown",
   "metadata": {},
   "source": [
    "### Now, combine the two datasets in preparation for string cleaning."
   ]
  },
  {
   "cell_type": "code",
   "execution_count": 41,
   "metadata": {
    "ExecuteTime": {
     "start_time": "2023-05-10T10:54:37.512187Z",
     "end_time": "2023-05-10T10:54:37.553937Z"
    }
   },
   "outputs": [],
   "source": [
    "columns = ['geometry', 'ADDRESS', 'BLDG_DESC',\n",
    "       'OPA_ID','COUNCILDISTRICT',\n",
    "       'ZIPCODE','OWNER1', 'OWNER2']\n",
    "\n",
    "# reduce gdfs to only the columns we want\n",
    "land_gdf = land_gdf[columns]\n",
    "\n",
    "bldg_gdf = bldg_gdf[columns]\n",
    "\n",
    "land_gdf['type'] = 'Lot'\n",
    "\n",
    "bldg_gdf['type'] = 'Building'"
   ]
  },
  {
   "cell_type": "code",
   "execution_count": 42,
   "metadata": {
    "ExecuteTime": {
     "start_time": "2023-05-10T10:54:37.541789Z",
     "end_time": "2023-05-10T10:54:37.573960Z"
    }
   },
   "outputs": [],
   "source": [
    "# bind the two geodataframes together using pandas.concat\n",
    "full_gdf = pd.concat([land_gdf, bldg_gdf], axis=0)"
   ]
  },
  {
   "cell_type": "code",
   "execution_count": 43,
   "metadata": {
    "ExecuteTime": {
     "start_time": "2023-05-10T10:54:37.573960Z",
     "end_time": "2023-05-10T10:54:37.613270Z"
    }
   },
   "outputs": [
    {
     "data": {
      "text/plain": "                                            geometry           ADDRESS  \\\n0  POLYGON ((2687288.658 256633.610, 2687182.517 ...    3232 HENRY AVE   \n1  POLYGON ((2675581.284 242098.205, 2675611.529 ...     633 N 53RD ST   \n2  POLYGON ((2694596.085 250002.568, 2694596.038 ...    2424 N MOLE ST   \n3  POLYGON ((2699251.414 246745.626, 2699244.611 ...  437 ARLINGTON ST   \n4  POLYGON ((2695074.333 251699.409, 2695026.589 ...   2735 N HICKS ST   \n\n                BLDG_DESC     OPA_ID COUNCILDISTRICT ZIPCODE  \\\n0  COM.CONDO.1STY MASONRY  882921188               4   19129   \n1     VAC LAND RES < ACRE  442316810               3   19131   \n2     VAC LAND RES < ACRE  161064101               5   19132   \n3     VAC LAND RES < ACRE  183194500               7   19122   \n4     VAC LAND RES < ACRE  111168200               8   19132   \n\n                    OWNER1           OWNER2 type  \n0  NEWCOURTLAND ELDER SVCS             None  Lot  \n1  REDEVELOPMENT AUTHORITY  OF PHILADELPHIA  Lot  \n2  REDEVELOPMENT AUTHORITY  OF PHILADELPHIA  Lot  \n3              MCHUGH JOHN             None  Lot  \n4         HERBERT MITCHELL         VICTORIA  Lot  ",
      "text/html": "<div>\n<style scoped>\n    .dataframe tbody tr th:only-of-type {\n        vertical-align: middle;\n    }\n\n    .dataframe tbody tr th {\n        vertical-align: top;\n    }\n\n    .dataframe thead th {\n        text-align: right;\n    }\n</style>\n<table border=\"1\" class=\"dataframe\">\n  <thead>\n    <tr style=\"text-align: right;\">\n      <th></th>\n      <th>geometry</th>\n      <th>ADDRESS</th>\n      <th>BLDG_DESC</th>\n      <th>OPA_ID</th>\n      <th>COUNCILDISTRICT</th>\n      <th>ZIPCODE</th>\n      <th>OWNER1</th>\n      <th>OWNER2</th>\n      <th>type</th>\n    </tr>\n  </thead>\n  <tbody>\n    <tr>\n      <th>0</th>\n      <td>POLYGON ((2687288.658 256633.610, 2687182.517 ...</td>\n      <td>3232 HENRY AVE</td>\n      <td>COM.CONDO.1STY MASONRY</td>\n      <td>882921188</td>\n      <td>4</td>\n      <td>19129</td>\n      <td>NEWCOURTLAND ELDER SVCS</td>\n      <td>None</td>\n      <td>Lot</td>\n    </tr>\n    <tr>\n      <th>1</th>\n      <td>POLYGON ((2675581.284 242098.205, 2675611.529 ...</td>\n      <td>633 N 53RD ST</td>\n      <td>VAC LAND RES &lt; ACRE</td>\n      <td>442316810</td>\n      <td>3</td>\n      <td>19131</td>\n      <td>REDEVELOPMENT AUTHORITY</td>\n      <td>OF PHILADELPHIA</td>\n      <td>Lot</td>\n    </tr>\n    <tr>\n      <th>2</th>\n      <td>POLYGON ((2694596.085 250002.568, 2694596.038 ...</td>\n      <td>2424 N MOLE ST</td>\n      <td>VAC LAND RES &lt; ACRE</td>\n      <td>161064101</td>\n      <td>5</td>\n      <td>19132</td>\n      <td>REDEVELOPMENT AUTHORITY</td>\n      <td>OF PHILADELPHIA</td>\n      <td>Lot</td>\n    </tr>\n    <tr>\n      <th>3</th>\n      <td>POLYGON ((2699251.414 246745.626, 2699244.611 ...</td>\n      <td>437 ARLINGTON ST</td>\n      <td>VAC LAND RES &lt; ACRE</td>\n      <td>183194500</td>\n      <td>7</td>\n      <td>19122</td>\n      <td>MCHUGH JOHN</td>\n      <td>None</td>\n      <td>Lot</td>\n    </tr>\n    <tr>\n      <th>4</th>\n      <td>POLYGON ((2695074.333 251699.409, 2695026.589 ...</td>\n      <td>2735 N HICKS ST</td>\n      <td>VAC LAND RES &lt; ACRE</td>\n      <td>111168200</td>\n      <td>8</td>\n      <td>19132</td>\n      <td>HERBERT MITCHELL</td>\n      <td>VICTORIA</td>\n      <td>Lot</td>\n    </tr>\n  </tbody>\n</table>\n</div>"
     },
     "execution_count": 43,
     "metadata": {},
     "output_type": "execute_result"
    }
   ],
   "source": [
    "full_gdf.head()"
   ]
  },
  {
   "attachments": {},
   "cell_type": "markdown",
   "metadata": {},
   "source": [
    "### Now we'll apply string cleaning to the OWNER1 and OWNER2 columns to identify public vs. private ownership."
   ]
  },
  {
   "cell_type": "code",
   "execution_count": 44,
   "metadata": {
    "ExecuteTime": {
     "start_time": "2023-05-10T10:54:37.602727Z",
     "end_time": "2023-05-10T10:54:37.621279Z"
    }
   },
   "outputs": [],
   "source": [
    "public_owners = ['PHILADELPHIA LAND BANK',\n",
    "                'PHILADELPHIA HOUSING AUTH',\n",
    "                'CITY OF PHILA',\n",
    "                'REDEVELOPMENT AUTHORITY OF PHILADELPHIA',\n",
    "                'CITY OF PHILADELPHIA',\n",
    "                'DEPT OF PUBLC PROP; CITY OF PHILA',\n",
    "                'DEPT OF PUBLIC PROP; CITY OF PHILA',\n",
    "                'DEPT PUB PROP; CITY OF PHILA',\n",
    "                'REDEVELOPMENT AUTHORITY OF PHILA',\n",
    "                'PHILA REDEVELOPMENT AUTH',\n",
    "                'PHILADELPHIA LAND INVESTM',\n",
    "                'REDEVELOPMENT AUTHORITY O',\n",
    "                'PHILADELPHIA REDEVELOPMEN',\n",
    "                'PHILA HOUSING AUTHORITY',\n",
    "                'KENSINGTON HOUSING AUTHOR',\n",
    "                'DEVELOPMENT CORPORATION; PHILADELPHIA HOUSING',\n",
    "                'PHILA REDEVELOPMENT AUTHO',\n",
    "                'DEPT OF PUB PROP; CITY OF PHILA',\n",
    "                'PHILA HOUSING DEV CORP',\n",
    "                'DEP OF PUB PROP; CITY OF PHILA',\n",
    "                'REDEVELOPMENT AUTHORITY',\n",
    "                'COMMONWEALTH OF PA',\n",
    "                'COMMONWEALTH OF PENNA',\n",
    "                'DEPT OF PUBLIC PROP; CITY OF PHILADELPHIA',\n",
    "                'DEPT PUBLIC PROP R E DIV; CITY OF PHILA',\n",
    "                'PUBLIC PROP DIV; CITY OF PHILA',\n",
    "                'PUBLIC PROP REAL ESTATE; CITY OF PHILA',\n",
    "                'REAL ESTATE DIV; CITY OF PHILA',\n",
    "                'REAL ESTATE DIVISION; CITY OF PHILA',\n",
    "                'URBAN DEVELOPMENT; SECRETARY OF HOUSING'\n",
    "                'URBAN DEVELOPMENT; SECRETARY OF HOUSING AND',\n",
    "                'PHILADELPHIA REDEVELOPMENT AUTHORITY',\n",
    "                'PHILADELPHIA REDEVELOPMENT AUTH',\n",
    "                'PHILADELPHIA HOUSING AUTHORITY',\n",
    "                'PHILADELPHIA LAND BANK',\n",
    "                'REDEVELOPMENT AUTHORITY OF PHILADELPHIA',\n",
    "                'PHILADELPHIA HOUSING AUTHORITY',\n",
    "                'CITY OF PHILADELPHIA',\n",
    "                'CITY OF PHILADELPHIA DEPARTMENT OF PUBLIC PROPERTY',\n",
    "                'REDEVELOPMENT AUTHORITY OF PHILADELPHIA',\n",
    "                'PHILADELPHIA LAND INVESTMENT',\n",
    "                'PHILADELPHIA REDEVELOPMENT AUTHORITY',\n",
    "                'PHILADELPHIA HOUSING AUTHORITY',\n",
    "                'KENSINGTON HOUSING AUTHORITY',\n",
    "                'PHILADELPHIA HOUSING DEVELOPMENT CORPORATION',\n",
    "                'REDEVELOPMENT AUTHORITY OF PHILADELPHIA',\n",
    "                'CITY OF PHILADELPHIA DEPARTMENT OF PUBLIC PROPERTY',\n",
    "                'PHILADELPHIA HOUSING DEVELOPMENT CORPORATION',\n",
    "                'CITY OF PHILADELPHIA DEPARTMENT OF PUBLIC PROPERTY',\n",
    "                'REDEVELOPMENT AUTHORITY OF PHILADELPHIA',\n",
    "                'COMMONWEALTH OF PENNSYLVANIA',\n",
    "                'CITY OF PHILADELPHIA DEPARTMENT OF PUBLIC PROPERTY',\n",
    "                'SECRETARY OF HOUSING AND URBAN DEVELOPMENT',\n",
    "                'REDEVELOPMENT AUTHORITY OF PHILADELPHIA',\n",
    "                'PHILADELPHIA LAND INVESTMENT',\n",
    "                'CITY OF PHILADELPHIA DEPARTMENT OF PUBLIC PROPERTY',\n",
    "                'PENNDOT'\n",
    "]\n",
    "\n",
    "# return unique public_owners\n",
    "public_owners = list(set(public_owners))"
   ]
  },
  {
   "cell_type": "code",
   "execution_count": 45,
   "metadata": {
    "ExecuteTime": {
     "start_time": "2023-05-10T10:54:37.619281Z",
     "end_time": "2023-05-10T10:54:39.195990Z"
    }
   },
   "outputs": [],
   "source": [
    "# create a new column that combines the OWNER1 and OWNER2 columns according to the following rules:\n",
    "# if OWNER1 is not null and OWNER2 is null, then the new column is OWNER1\n",
    "# if OWNER1 is null and OWNER2 is not null, then the new column is OWNER2\n",
    "# if OWNER2 starts with a preposition, then the new column is OWNER1 + OWNER2 separated by a space\n",
    "# if OWNER2 does not start with a preposition, then the new column is OWNER2 + OWNER1 separated by a se\n",
    "\n",
    "\n",
    "# define a function to check if a string starts with a preposition\n",
    "def starts_with_preposition(string):\n",
    "    prepositions = ['a', 'an', 'and', 'as', 'at', 'but', 'by', 'for', 'from', 'in', 'into', 'nor', 'of', 'on', 'or', 'so', 'the', 'to', 'up', 'yet']\n",
    "    if string.split(' ')[0].lower() in prepositions:\n",
    "        return True\n",
    "    else:\n",
    "        return False\n",
    "    \n",
    "# define a function to combine the OWNER1 and OWNER2 columns\n",
    "def combine_owners(row):\n",
    "    if pd.isnull(row['OWNER1']) and pd.isnull(row['OWNER2']):\n",
    "        return None\n",
    "    elif pd.isnull(row['OWNER1']) and not pd.isnull(row['OWNER2']):\n",
    "        return row['OWNER2']\n",
    "    elif not pd.isnull(row['OWNER1']) and pd.isnull(row['OWNER2']):\n",
    "        return row['OWNER1']\n",
    "    elif starts_with_preposition(row['OWNER2']):\n",
    "        return row['OWNER1'] + ' ' + row['OWNER2']\n",
    "    else:\n",
    "        return row['OWNER2'] + '; ' + row['OWNER1']\n",
    "    \n",
    "# apply the combine_owners function to the full_gdf dataframe\n",
    "full_gdf['OWNER'] = full_gdf.apply(combine_owners, axis=1)\n",
    "\n",
    "# if OWNER is 'PHILADELPHIA HOUSING AUTH' or 'PHILA HOUSING AUTHORITY', replace with 'PHILADELPHIA HOUSING AUTHORITY'\n",
    "full_gdf.loc[full_gdf['OWNER'] == 'PHILADELPHIA HOUSING AUTH', 'OWNER'] = 'PHILADELPHIA HOUSING AUTHORITY'\n",
    "full_gdf.loc[full_gdf['OWNER'] == 'PHILA HOUSING AUTHORITY', 'OWNER'] = 'PHILADELPHIA HOUSING AUTHORITY'\n",
    "\n",
    "# redevelopment authority typos\n",
    "redev_owner_variations = ['REDEVELOPMENT AUTHORITY OF PHILA', 'PHILA REDEVELOPMENT AUTH',\n",
    "'REDEVELOPMENT AUTHORITY O', 'PHILADELPHIA REDEVELOPMEN',\n",
    "'PHILA REDEVELOPMENT AUTHO', 'REDEVELOPMENT AUTHORITY',\n",
    "'REDEVELOPMENT AUTH']\n",
    "\n",
    "for var in redev_owner_variations:\n",
    "    full_gdf.loc[full_gdf['OWNER'] == var, 'OWNER'] = 'REDEVELOPMENT AUTHORITY OF PHILADELPHIA'\n",
    "\n",
    "# department of public property typos\n",
    "dpp_owner_variations = ['DEPT OF PUBLIC PROPERTY', 'DEPT OF PUBLIC PROPERT', 'DEPT OF PUBLC PROP; CITY OF PHILA',\n",
    "                        'DEPT OF PUBLIC PROP; CITY OF PHILA', 'DEPT OF PUBLIC PROPERTY; CITY OF PHILA', 'DEPT PUB PROP; CITY OF PHILA',\n",
    "                        'DEPT OF PUB PROP; CITY OF PHILA', 'DEP OF PUB PROP; CITY OF PHILA', 'DEPT OF PUBLIC PROP; CITY OF PHILADELPHIA',\n",
    "                        'DEPT PUBLIC PROP R E DIV; CITY OF PHILA', 'PUBLIC PROP DIV; CITY OF PHILA', 'PUBLIC PROP REAL ESTATE; CITY OF PHILA',\n",
    "                        'REAL ESTATE DIV; CITY OF PHILA', 'REAL ESTATE DIVISION; CITY OF PHILA']\n",
    "\n",
    "for var in dpp_owner_variations:\n",
    "    full_gdf.loc[full_gdf['OWNER'] == var, 'OWNER'] = 'CITY OF PHILADELPHIA DEPARTMENT OF PUBLIC PROPERTY'\n",
    "\n",
    "# HUD\n",
    "full_gdf.loc[full_gdf['OWNER'] == 'URBAN DEVELOPMENT; SECRETARY OF HOUSING', 'OWNER'] = 'SECRETARY OF HOUSING AND URBAN DEVELOPMENT'\n",
    "full_gdf.loc[full_gdf['OWNER'] == 'URBAN DEVELOPMENT; SECRETARY OF HOUSING AND', 'OWNER'] = 'SECRETARY OF HOUSING AND URBAN DEVELOPMENT'\n",
    "\n",
    "# commonwealth of pennsylvania\n",
    "full_gdf.loc[full_gdf['OWNER'] == 'COMMONWEALTH OF PA', 'OWNER'] = 'COMMONWEALTH OF PENNSYLVANIA'\n",
    "full_gdf.loc[full_gdf['OWNER'] == 'COMMONWEALTH OF PENNA', 'OWNER'] = 'COMMONWEALTH OF PENNSYLVANIA'\n",
    "\n",
    "# phdc\n",
    "full_gdf.loc[full_gdf['OWNER'] == 'DEVELOPMENT CORPORATION; PHILADELPHIA HOUSING', 'OWNER'] = 'PHILADELPHIA HOUSING DEVELOPMENT CORPORATION'\n",
    "full_gdf.loc[full_gdf['OWNER'] == 'PHILA HOUSING DEV CORP', 'OWNER'] = 'PHILADELPHIA HOUSING DEVELOPMENT CORPORATION'\n",
    "\n",
    "# PennDOT\n",
    "full_gdf.loc[full_gdf['OWNER'] == 'DEPARTMENT OF TRANSPORTAT; COMMONWEALTH OF PENNSYLVA', 'OWNER'] = 'PENNDOT'\n",
    "\n",
    "# city of Philadelphia\n",
    "full_gdf.loc[full_gdf['OWNER'] == 'CITY OF PHILADELPHIA', 'OWNER'] = 'CITY OF PHILA'\n",
    "\n",
    "# create a new column called 'public_owner' that is True if the OWNER column is in the public_owners list\n",
    "full_gdf['public_owner'] = full_gdf['OWNER'].isin(public_owners)\n",
    "\n",
    "# drop the OWNER1 and OWNER2 columns\n",
    "full_gdf = full_gdf.drop(['OWNER1', 'OWNER2'], axis=1)"
   ]
  },
  {
   "cell_type": "code",
   "execution_count": 46,
   "metadata": {
    "ExecuteTime": {
     "start_time": "2023-05-10T10:54:39.193990Z",
     "end_time": "2023-05-10T10:54:39.211130Z"
    }
   },
   "outputs": [
    {
     "data": {
      "text/plain": "                                                geometry              ADDRESS  \\\n12722  POLYGON ((2692428.662 253622.496, 2692414.587 ...    2126 W TORONTO ST   \n6906   POLYGON ((2675009.358 228634.646, 2674963.904 ...    1938 S SALFORD ST   \n565    POLYGON ((2692034.069 249395.734, 2692031.768 ...       2246 N 21ST ST   \n17166  POLYGON ((2692497.524 269222.354, 2692501.915 ...     5601 MCMAHON AVE   \n5180   POLYGON ((2673814.414 235934.859, 2673813.915 ...      5552 ADDISON ST   \n5421   POLYGON ((2695626.268 260086.547, 2695617.839 ...      1648 DOUNTON ST   \n5536   POLYGON ((2692115.182 250001.412, 2692112.740 ...       2350 N 21ST ST   \n23185  POLYGON ((2692342.507 265841.791, 2692358.343 ...  230 E BRINGHURST ST   \n19018  POLYGON ((2685751.167 229129.934, 2685749.166 ...      1547 S DOVER ST   \n23610  POLYGON ((2673647.721 264315.247, 2673639.816 ...        128 WRIGHT ST   \n\n                 BLDG_DESC     OPA_ID COUNCILDISTRICT ZIPCODE      type  \\\n12722  VAC LAND RES < ACRE  111098600               8   19132       Lot   \n6906     ROW 2 STY MASONRY  401079800               2   19143       Lot   \n565    VAC LAND RES < ACRE  162183400               5   19132       Lot   \n17166  VAC LAND RES < ACRE  122206100               8   19144       Lot   \n5180     ROW 2 STY MASONRY  604130700               3   19143  Building   \n5421     ROW 2 STY MASONRY  132293100               8   19140  Building   \n5536   VAC LAND RES < ACRE  162186901               5   19132       Lot   \n23185  VAC LAND RES < ACRE  121105605               8   19144       Lot   \n19018  VAC LAND RES < ACRE  364380715               2   19146       Lot   \n23610  VAC LAND RES < ACRE  211000038               4   19127       Lot   \n\n                                         OWNER  public_owner  \n12722     ARIEL VIEW CONSTRUCTION & REALTY LLC         False  \n6906                                 KENAN LLC         False  \n565         A TO Z REAL ESTATE TRANSACTION LLC         False  \n17166                       PANELING J H S INC         False  \n5180               LUBLIN WILLIAM; WALSH JAMES         False  \n5421                           MILLS BLESSENCE         False  \n5536            PHILADELPHIA HOUSING AUTHORITY          True  \n23185                 CMC INVESTMENT GROUP LLC         False  \n19018  REDEVELOPMENT AUTHORITY OF PHILADELPHIA          True  \n23610       PENN CENTRAL CORP A PA CORPORATION         False  ",
      "text/html": "<div>\n<style scoped>\n    .dataframe tbody tr th:only-of-type {\n        vertical-align: middle;\n    }\n\n    .dataframe tbody tr th {\n        vertical-align: top;\n    }\n\n    .dataframe thead th {\n        text-align: right;\n    }\n</style>\n<table border=\"1\" class=\"dataframe\">\n  <thead>\n    <tr style=\"text-align: right;\">\n      <th></th>\n      <th>geometry</th>\n      <th>ADDRESS</th>\n      <th>BLDG_DESC</th>\n      <th>OPA_ID</th>\n      <th>COUNCILDISTRICT</th>\n      <th>ZIPCODE</th>\n      <th>type</th>\n      <th>OWNER</th>\n      <th>public_owner</th>\n    </tr>\n  </thead>\n  <tbody>\n    <tr>\n      <th>12722</th>\n      <td>POLYGON ((2692428.662 253622.496, 2692414.587 ...</td>\n      <td>2126 W TORONTO ST</td>\n      <td>VAC LAND RES &lt; ACRE</td>\n      <td>111098600</td>\n      <td>8</td>\n      <td>19132</td>\n      <td>Lot</td>\n      <td>ARIEL VIEW CONSTRUCTION &amp; REALTY LLC</td>\n      <td>False</td>\n    </tr>\n    <tr>\n      <th>6906</th>\n      <td>POLYGON ((2675009.358 228634.646, 2674963.904 ...</td>\n      <td>1938 S SALFORD ST</td>\n      <td>ROW 2 STY MASONRY</td>\n      <td>401079800</td>\n      <td>2</td>\n      <td>19143</td>\n      <td>Lot</td>\n      <td>KENAN LLC</td>\n      <td>False</td>\n    </tr>\n    <tr>\n      <th>565</th>\n      <td>POLYGON ((2692034.069 249395.734, 2692031.768 ...</td>\n      <td>2246 N 21ST ST</td>\n      <td>VAC LAND RES &lt; ACRE</td>\n      <td>162183400</td>\n      <td>5</td>\n      <td>19132</td>\n      <td>Lot</td>\n      <td>A TO Z REAL ESTATE TRANSACTION LLC</td>\n      <td>False</td>\n    </tr>\n    <tr>\n      <th>17166</th>\n      <td>POLYGON ((2692497.524 269222.354, 2692501.915 ...</td>\n      <td>5601 MCMAHON AVE</td>\n      <td>VAC LAND RES &lt; ACRE</td>\n      <td>122206100</td>\n      <td>8</td>\n      <td>19144</td>\n      <td>Lot</td>\n      <td>PANELING J H S INC</td>\n      <td>False</td>\n    </tr>\n    <tr>\n      <th>5180</th>\n      <td>POLYGON ((2673814.414 235934.859, 2673813.915 ...</td>\n      <td>5552 ADDISON ST</td>\n      <td>ROW 2 STY MASONRY</td>\n      <td>604130700</td>\n      <td>3</td>\n      <td>19143</td>\n      <td>Building</td>\n      <td>LUBLIN WILLIAM; WALSH JAMES</td>\n      <td>False</td>\n    </tr>\n    <tr>\n      <th>5421</th>\n      <td>POLYGON ((2695626.268 260086.547, 2695617.839 ...</td>\n      <td>1648 DOUNTON ST</td>\n      <td>ROW 2 STY MASONRY</td>\n      <td>132293100</td>\n      <td>8</td>\n      <td>19140</td>\n      <td>Building</td>\n      <td>MILLS BLESSENCE</td>\n      <td>False</td>\n    </tr>\n    <tr>\n      <th>5536</th>\n      <td>POLYGON ((2692115.182 250001.412, 2692112.740 ...</td>\n      <td>2350 N 21ST ST</td>\n      <td>VAC LAND RES &lt; ACRE</td>\n      <td>162186901</td>\n      <td>5</td>\n      <td>19132</td>\n      <td>Lot</td>\n      <td>PHILADELPHIA HOUSING AUTHORITY</td>\n      <td>True</td>\n    </tr>\n    <tr>\n      <th>23185</th>\n      <td>POLYGON ((2692342.507 265841.791, 2692358.343 ...</td>\n      <td>230 E BRINGHURST ST</td>\n      <td>VAC LAND RES &lt; ACRE</td>\n      <td>121105605</td>\n      <td>8</td>\n      <td>19144</td>\n      <td>Lot</td>\n      <td>CMC INVESTMENT GROUP LLC</td>\n      <td>False</td>\n    </tr>\n    <tr>\n      <th>19018</th>\n      <td>POLYGON ((2685751.167 229129.934, 2685749.166 ...</td>\n      <td>1547 S DOVER ST</td>\n      <td>VAC LAND RES &lt; ACRE</td>\n      <td>364380715</td>\n      <td>2</td>\n      <td>19146</td>\n      <td>Lot</td>\n      <td>REDEVELOPMENT AUTHORITY OF PHILADELPHIA</td>\n      <td>True</td>\n    </tr>\n    <tr>\n      <th>23610</th>\n      <td>POLYGON ((2673647.721 264315.247, 2673639.816 ...</td>\n      <td>128 WRIGHT ST</td>\n      <td>VAC LAND RES &lt; ACRE</td>\n      <td>211000038</td>\n      <td>4</td>\n      <td>19127</td>\n      <td>Lot</td>\n      <td>PENN CENTRAL CORP A PA CORPORATION</td>\n      <td>False</td>\n    </tr>\n  </tbody>\n</table>\n</div>"
     },
     "execution_count": 46,
     "metadata": {},
     "output_type": "execute_result"
    }
   ],
   "source": [
    "# randomly sample ten rows from the full_gdf dataframe\n",
    "full_gdf.sample(10)"
   ]
  },
  {
   "attachments": {},
   "cell_type": "markdown",
   "metadata": {},
   "source": [
    "### 3. PHS LandCare Parcels"
   ]
  },
  {
   "attachments": {},
   "cell_type": "markdown",
   "metadata": {},
   "source": [
    "Now we can import the PHS Community and Philadelphia LandCare parcels and spatially join them to our full_gdf, which contains all of the vacant parcels in the city (both lots and buildings).\n",
    "\n",
    "(Note that Community LandCare parcels are taken care of by community groups, while LandCare parcels are taken care of by PHS. There are roughly three times as many Philadelphia LandCare parcels as Community LandCare parcels.)"
   ]
  },
  {
   "cell_type": "code",
   "execution_count": 47,
   "metadata": {
    "ExecuteTime": {
     "start_time": "2023-05-10T10:54:39.212131Z",
     "end_time": "2023-05-10T10:54:41.127251Z"
    }
   },
   "outputs": [],
   "source": [
    "# Define the URL for the PHS_CommunityLandcare feature service\n",
    "phs_landcare_url = 'https://services.arcgis.com/fLeGjb7u4uXqeF9q/ArcGIS/rest/services/PHS_CommunityLandcare/FeatureServer/0/query'\n",
    "\n",
    "# Define the parameters for the PHS_CommunityLandcare API request\n",
    "phs_landcare_params = {\n",
    "    'where': '1=1',\n",
    "    'outFields': '*',\n",
    "    'returnGeometry': 'true',\n",
    "    'f': 'json',\n",
    "    'resultRecordCount': 2000 # Number of features to return per request\n",
    "}\n",
    "\n",
    "# Make the PHS_CommunityLandcare API requests\n",
    "phs_dfs = []\n",
    "phs_offset = 0\n",
    "while True:\n",
    "    # Add the offset parameter to the API request\n",
    "    phs_landcare_params['resultOffset'] = phs_offset\n",
    "    phs_landcare_response = requests.get(phs_landcare_url, params=phs_landcare_params)\n",
    "    \n",
    "    if phs_landcare_response.status_code == 200:\n",
    "        # Convert the PHS_CommunityLandcare JSON data to a geopandas geodataframe; convert to CRS 3857\n",
    "        phs_landcare_data = phs_landcare_response.json()\n",
    "\n",
    "        # convert the JSON data to a pandas dataframe\n",
    "        phs_landcare_df = pd.DataFrame(phs_landcare_data['features'])\n",
    "\n",
    "        # separate the attributes column into one column per attribute\n",
    "        phs_landcare_df = pd.concat([phs_landcare_df.drop(['attributes'], axis=1), phs_landcare_df['attributes'].apply(pd.Series)], axis=1)\n",
    "\n",
    "        # make the `geometry` column a shapely geometry object\n",
    "        phs_landcare_df['geometry'] = phs_landcare_df['geometry'].apply(lambda x: Polygon(x['rings'][0]))\n",
    "\n",
    "        # convert the pandas dataframe to a geopandas geodataframe\n",
    "        phs_landcare_gdf = gpd.GeoDataFrame(phs_landcare_df, geometry='geometry', crs='EPSG:3857')\n",
    "        phs_landcare_gdf.to_crs(epsg=2272, inplace=True)\n",
    "\n",
    "        phs_dfs.append(phs_landcare_gdf)\n",
    "        phs_offset += len(phs_landcare_gdf)\n",
    "        \n",
    "        if len(phs_landcare_gdf) < 2000:\n",
    "            break  # If there are fewer than 2000 features returned, it means we have all the data\n",
    "        \n",
    "    else:\n",
    "        print('PHS_CommunityLandcare Request failed with status code:', phs_landcare_response.status_code)\n",
    "        break\n",
    "\n",
    "# Concatenate the dataframes into a single geodataframe\n",
    "phs_landcare_gdf = gpd.GeoDataFrame(pd.concat(phs_dfs, ignore_index=True), crs='EPSG:2272')\n",
    "\n",
    "phs_cols = ['geometry', 'COMM_PARTN']\n",
    "\n",
    "phs_landcare_gdf = phs_landcare_gdf[phs_cols]"
   ]
  },
  {
   "cell_type": "code",
   "execution_count": 48,
   "metadata": {
    "ExecuteTime": {
     "start_time": "2023-05-10T10:54:41.129196Z",
     "end_time": "2023-05-10T10:54:41.143670Z"
    }
   },
   "outputs": [
    {
     "data": {
      "text/plain": "(2263, 2)"
     },
     "execution_count": 48,
     "metadata": {},
     "output_type": "execute_result"
    }
   ],
   "source": [
    "phs_landcare_gdf.shape"
   ]
  },
  {
   "cell_type": "code",
   "execution_count": 49,
   "outputs": [],
   "source": [
    "# Import necessary libraries\n",
    "import requests\n",
    "import pandas as pd\n",
    "import geopandas as gpd\n",
    "from shapely.geometry import Polygon\n",
    "\n",
    "# Define the URL for the PHS_PhilaLandCare_Maintenance feature service\n",
    "phs_maintenance_url = 'https://services.arcgis.com/fLeGjb7u4uXqeF9q/ArcGIS/rest/services/PHS_PhilaLandCare_Maintenance/FeatureServer/0/query'\n",
    "\n",
    "# Define the parameters for the PHS_PhilaLandCare_Maintenance API request\n",
    "phs_maintenance_params = {\n",
    "    'where': '1=1',\n",
    "    'outFields': '*',\n",
    "    'returnGeometry': 'true',\n",
    "    'f': 'json',\n",
    "    'resultRecordCount': 2000 # Number of features to return per request\n",
    "}\n",
    "\n",
    "# Make the PHS_PhilaLandCare_Maintenance API requests\n",
    "phs_maintenance_dfs = []\n",
    "phs_maintenance_offset = 0\n",
    "while True:\n",
    "    # Add the offset parameter to the API request\n",
    "    phs_maintenance_params['resultOffset'] = phs_maintenance_offset\n",
    "    phs_maintenance_response = requests.get(phs_maintenance_url, params=phs_maintenance_params)\n",
    "\n",
    "    if phs_maintenance_response.status_code == 200:\n",
    "        # Convert the PHS_PhilaLandCare_Maintenance JSON data to a geopandas geodataframe; convert to CRS 2272\n",
    "        phs_maintenance_data = phs_maintenance_response.json()\n",
    "\n",
    "        # Convert the JSON data to a pandas dataframe\n",
    "        phs_maintenance_df = pd.DataFrame(phs_maintenance_data['features'])\n",
    "\n",
    "        # Separate the attributes column into one column per attribute\n",
    "        phs_maintenance_df = pd.concat([phs_maintenance_df.drop(['attributes'], axis=1), phs_maintenance_df['attributes'].apply(pd.Series)], axis=1)\n",
    "\n",
    "        # Make the `geometry` column a shapely geometry object\n",
    "        phs_maintenance_df['geometry'] = phs_maintenance_df['geometry'].apply(lambda x: Polygon(x['rings'][0]))\n",
    "\n",
    "        # Convert the pandas dataframe to a geopandas geodataframe\n",
    "        phs_maintenance_gdf = gpd.GeoDataFrame(phs_maintenance_df, geometry='geometry', crs='EPSG:3857')\n",
    "        phs_maintenance_gdf.to_crs(epsg=2272, inplace=True)\n",
    "\n",
    "        phs_maintenance_dfs.append(phs_maintenance_gdf)\n",
    "        phs_maintenance_offset += len(phs_maintenance_gdf)\n",
    "\n",
    "        if len(phs_maintenance_gdf) < 2000:\n",
    "            break  # If there are fewer than 2000 features returned, it means we have all the data\n",
    "\n",
    "    else:\n",
    "        print('PHS_PhilaLandCare_Maintenance request failed with status code:', phs_maintenance_response.status_code)\n",
    "        break\n",
    "\n",
    "# Concatenate the dataframes into a single geodataframe\n",
    "phs_maintenance_gdf = gpd.GeoDataFrame(pd.concat(phs_maintenance_dfs, ignore_index=True), crs='EPSG:2272')"
   ],
   "metadata": {
    "collapsed": false,
    "ExecuteTime": {
     "start_time": "2023-05-10T10:54:41.145687Z",
     "end_time": "2023-05-10T10:54:44.985766Z"
    }
   }
  },
  {
   "cell_type": "code",
   "execution_count": 50,
   "outputs": [
    {
     "data": {
      "text/plain": "                                            geometry  OBJECTID     TENCODE  \\\n0  POLYGON ((38072906.949 9038661.368, 38072735.2...         1  5386002312   \n1  POLYGON ((38072793.021 9037859.769, 38072982.1...         2  8793002301   \n2  POLYGON ((38077466.257 9033586.477, 38077307.4...         3  8795002027   \n3  POLYGON ((38069053.463 8996069.382, 38069099.6...         4  8834001439   \n4  POLYGON ((38082328.371 9033585.867, 38082383.1...         5  5386001825   \n\n              ADDRESS                    OWNER1 OWNER2 BLDG_CODE  \\\n0  2312 N MARSHALL ST  PHILA REDEVELOPMENT AUTH               SR   \n1   2301-03 N 07TH ST             CITY OF PHILA               SC   \n2      2027 N 08TH ST           COMET HOMES INC               SR   \n3      1439 N 28TH ST              HARRISON INC               SR   \n4  1825 N MARSHALL ST             CITY OF PHILA               SR   \n\n               BLDG_DESC     BRT_ID  GROSS_AREA  ...     TARGETAREA GROUP_  \\\n0    VAC LAND RES < ACRE  371049900        1273  ...  Eastern North   None   \n1  VAC LAND COMM. < ACRE  886810561        3067  ...  Eastern North   None   \n2    VAC LAND RES < ACRE  202097400        1147  ...  Eastern North   None   \n3    VAC LAND RES < ACRE  292094500         999  ...  North Central   None   \n4    VAC LAND RES < ACRE  201131201         905  ...  Eastern North   None   \n\n  GRID  CCD         CCD_PERSON                   ADDR_RANGE ZIPCODE  \\\n0  278    5  Darrell L. Clarke    2310-2316 MARSHALL STREET   19133   \n1  278    5  Darrell L. Clarke            2303 N 7TH STREET   19133   \n2  278    5  Darrell L. Clarke            2027 N 8TH STREET   19122   \n3  290    5  Darrell L. Clarke            1439-41 N 28TH ST   19121   \n4  292    5  Darrell L. Clarke  1821-1827 N MARSHALL STREET   19122   \n\n   Shape__Area  Shape__Length  COMM_PARTN  \n0  1279.597046     195.672676         PHS  \n1  3170.937927     245.624697         PHS  \n2  1137.090088     179.889029         PHS  \n3   992.503540     171.520004         PHS  \n4   935.317322     148.531771         PHS  \n\n[5 rows x 26 columns]",
      "text/html": "<div>\n<style scoped>\n    .dataframe tbody tr th:only-of-type {\n        vertical-align: middle;\n    }\n\n    .dataframe tbody tr th {\n        vertical-align: top;\n    }\n\n    .dataframe thead th {\n        text-align: right;\n    }\n</style>\n<table border=\"1\" class=\"dataframe\">\n  <thead>\n    <tr style=\"text-align: right;\">\n      <th></th>\n      <th>geometry</th>\n      <th>OBJECTID</th>\n      <th>TENCODE</th>\n      <th>ADDRESS</th>\n      <th>OWNER1</th>\n      <th>OWNER2</th>\n      <th>BLDG_CODE</th>\n      <th>BLDG_DESC</th>\n      <th>BRT_ID</th>\n      <th>GROSS_AREA</th>\n      <th>...</th>\n      <th>TARGETAREA</th>\n      <th>GROUP_</th>\n      <th>GRID</th>\n      <th>CCD</th>\n      <th>CCD_PERSON</th>\n      <th>ADDR_RANGE</th>\n      <th>ZIPCODE</th>\n      <th>Shape__Area</th>\n      <th>Shape__Length</th>\n      <th>COMM_PARTN</th>\n    </tr>\n  </thead>\n  <tbody>\n    <tr>\n      <th>0</th>\n      <td>POLYGON ((38072906.949 9038661.368, 38072735.2...</td>\n      <td>1</td>\n      <td>5386002312</td>\n      <td>2312 N MARSHALL ST</td>\n      <td>PHILA REDEVELOPMENT AUTH</td>\n      <td></td>\n      <td>SR</td>\n      <td>VAC LAND RES &lt; ACRE</td>\n      <td>371049900</td>\n      <td>1273</td>\n      <td>...</td>\n      <td>Eastern North</td>\n      <td>None</td>\n      <td>278</td>\n      <td>5</td>\n      <td>Darrell L. Clarke</td>\n      <td>2310-2316 MARSHALL STREET</td>\n      <td>19133</td>\n      <td>1279.597046</td>\n      <td>195.672676</td>\n      <td>PHS</td>\n    </tr>\n    <tr>\n      <th>1</th>\n      <td>POLYGON ((38072793.021 9037859.769, 38072982.1...</td>\n      <td>2</td>\n      <td>8793002301</td>\n      <td>2301-03 N 07TH ST</td>\n      <td>CITY OF PHILA</td>\n      <td></td>\n      <td>SC</td>\n      <td>VAC LAND COMM. &lt; ACRE</td>\n      <td>886810561</td>\n      <td>3067</td>\n      <td>...</td>\n      <td>Eastern North</td>\n      <td>None</td>\n      <td>278</td>\n      <td>5</td>\n      <td>Darrell L. Clarke</td>\n      <td>2303 N 7TH STREET</td>\n      <td>19133</td>\n      <td>3170.937927</td>\n      <td>245.624697</td>\n      <td>PHS</td>\n    </tr>\n    <tr>\n      <th>2</th>\n      <td>POLYGON ((38077466.257 9033586.477, 38077307.4...</td>\n      <td>3</td>\n      <td>8795002027</td>\n      <td>2027 N 08TH ST</td>\n      <td>COMET HOMES INC</td>\n      <td></td>\n      <td>SR</td>\n      <td>VAC LAND RES &lt; ACRE</td>\n      <td>202097400</td>\n      <td>1147</td>\n      <td>...</td>\n      <td>Eastern North</td>\n      <td>None</td>\n      <td>278</td>\n      <td>5</td>\n      <td>Darrell L. Clarke</td>\n      <td>2027 N 8TH STREET</td>\n      <td>19122</td>\n      <td>1137.090088</td>\n      <td>179.889029</td>\n      <td>PHS</td>\n    </tr>\n    <tr>\n      <th>3</th>\n      <td>POLYGON ((38069053.463 8996069.382, 38069099.6...</td>\n      <td>4</td>\n      <td>8834001439</td>\n      <td>1439 N 28TH ST</td>\n      <td>HARRISON INC</td>\n      <td></td>\n      <td>SR</td>\n      <td>VAC LAND RES &lt; ACRE</td>\n      <td>292094500</td>\n      <td>999</td>\n      <td>...</td>\n      <td>North Central</td>\n      <td>None</td>\n      <td>290</td>\n      <td>5</td>\n      <td>Darrell L. Clarke</td>\n      <td>1439-41 N 28TH ST</td>\n      <td>19121</td>\n      <td>992.503540</td>\n      <td>171.520004</td>\n      <td>PHS</td>\n    </tr>\n    <tr>\n      <th>4</th>\n      <td>POLYGON ((38082328.371 9033585.867, 38082383.1...</td>\n      <td>5</td>\n      <td>5386001825</td>\n      <td>1825 N MARSHALL ST</td>\n      <td>CITY OF PHILA</td>\n      <td></td>\n      <td>SR</td>\n      <td>VAC LAND RES &lt; ACRE</td>\n      <td>201131201</td>\n      <td>905</td>\n      <td>...</td>\n      <td>Eastern North</td>\n      <td>None</td>\n      <td>292</td>\n      <td>5</td>\n      <td>Darrell L. Clarke</td>\n      <td>1821-1827 N MARSHALL STREET</td>\n      <td>19122</td>\n      <td>935.317322</td>\n      <td>148.531771</td>\n      <td>PHS</td>\n    </tr>\n  </tbody>\n</table>\n<p>5 rows × 26 columns</p>\n</div>"
     },
     "execution_count": 50,
     "metadata": {},
     "output_type": "execute_result"
    }
   ],
   "source": [
    "# add a column called 'COMM_PARTN' to phs_maintenance_gdf\n",
    "phs_maintenance_gdf['COMM_PARTN'] = 'PHS'\n",
    "\n",
    "phs_maintenance_gdf.head()"
   ],
   "metadata": {
    "collapsed": false,
    "ExecuteTime": {
     "start_time": "2023-05-10T10:54:44.989284Z",
     "end_time": "2023-05-10T10:54:45.054821Z"
    }
   }
  },
  {
   "cell_type": "code",
   "execution_count": 51,
   "outputs": [
    {
     "data": {
      "text/plain": "(6788, 26)"
     },
     "execution_count": 51,
     "metadata": {},
     "output_type": "execute_result"
    }
   ],
   "source": [
    "phs_maintenance_gdf.shape"
   ],
   "metadata": {
    "collapsed": false,
    "ExecuteTime": {
     "start_time": "2023-05-10T10:54:45.020309Z",
     "end_time": "2023-05-10T10:54:45.055822Z"
    }
   }
  },
  {
   "cell_type": "code",
   "execution_count": 52,
   "outputs": [],
   "source": [
    "# Select the columns of interest\n",
    "phs_maintenance_cols = ['geometry', 'COMM_PARTN']\n",
    "phs_maintenance_gdf = phs_maintenance_gdf[phs_maintenance_cols]"
   ],
   "metadata": {
    "collapsed": false,
    "ExecuteTime": {
     "start_time": "2023-05-10T10:54:45.035308Z",
     "end_time": "2023-05-10T10:54:45.055822Z"
    }
   }
  },
  {
   "cell_type": "code",
   "execution_count": 53,
   "outputs": [
    {
     "name": "stderr",
     "output_type": "stream",
     "text": [
      "C:\\Users\\Nissim\\AppData\\Local\\Temp\\ipykernel_27396\\1389667071.py:2: FutureWarning: The frame.append method is deprecated and will be removed from pandas in a future version. Use pandas.concat instead.\n",
      "  phs_gdf = phs_maintenance_gdf.append(phs_landcare_gdf, ignore_index=True)\n"
     ]
    }
   ],
   "source": [
    "# append phs_maintenance_gdf and phs_landcare_gdf; call the new gdf phs_gdf\n",
    "phs_gdf = phs_maintenance_gdf.append(phs_landcare_gdf, ignore_index=True)"
   ],
   "metadata": {
    "collapsed": false,
    "ExecuteTime": {
     "start_time": "2023-05-10T10:54:45.050817Z",
     "end_time": "2023-05-10T10:54:45.155880Z"
    }
   }
  },
  {
   "cell_type": "code",
   "execution_count": 54,
   "metadata": {
    "ExecuteTime": {
     "start_time": "2023-05-10T10:54:45.081829Z",
     "end_time": "2023-05-10T10:54:49.708175Z"
    }
   },
   "outputs": [],
   "source": [
    "# spatially join phs_landcare_gdf to full_gdf\n",
    "joined_gdf = gpd.sjoin(full_gdf, phs_gdf, how='left', predicate='intersects')\n",
    "\n",
    "# drop the index_right column and the ADDRESS_right column\n",
    "joined_gdf = joined_gdf.drop(['index_right'], axis=1)\n",
    "\n",
    "joined_gdf['COMM_PARTN'] = joined_gdf['COMM_PARTN'].fillna('None', inplace=True)"
   ]
  },
  {
   "cell_type": "code",
   "execution_count": 55,
   "outputs": [
    {
     "data": {
      "text/plain": "                                            geometry           ADDRESS  \\\n0  POLYGON ((2687288.658 256633.610, 2687182.517 ...    3232 HENRY AVE   \n1  POLYGON ((2675581.284 242098.205, 2675611.529 ...     633 N 53RD ST   \n2  POLYGON ((2694596.085 250002.568, 2694596.038 ...    2424 N MOLE ST   \n3  POLYGON ((2699251.414 246745.626, 2699244.611 ...  437 ARLINGTON ST   \n4  POLYGON ((2695074.333 251699.409, 2695026.589 ...   2735 N HICKS ST   \n\n                BLDG_DESC     OPA_ID COUNCILDISTRICT ZIPCODE type  \\\n0  COM.CONDO.1STY MASONRY  882921188               4   19129  Lot   \n1     VAC LAND RES < ACRE  442316810               3   19131  Lot   \n2     VAC LAND RES < ACRE  161064101               5   19132  Lot   \n3     VAC LAND RES < ACRE  183194500               7   19122  Lot   \n4     VAC LAND RES < ACRE  111168200               8   19132  Lot   \n\n                                     OWNER  public_owner COMM_PARTN  \n0                  NEWCOURTLAND ELDER SVCS         False       None  \n1  REDEVELOPMENT AUTHORITY OF PHILADELPHIA          True       None  \n2  REDEVELOPMENT AUTHORITY OF PHILADELPHIA          True       None  \n3                              MCHUGH JOHN         False       None  \n4               VICTORIA; HERBERT MITCHELL         False       None  ",
      "text/html": "<div>\n<style scoped>\n    .dataframe tbody tr th:only-of-type {\n        vertical-align: middle;\n    }\n\n    .dataframe tbody tr th {\n        vertical-align: top;\n    }\n\n    .dataframe thead th {\n        text-align: right;\n    }\n</style>\n<table border=\"1\" class=\"dataframe\">\n  <thead>\n    <tr style=\"text-align: right;\">\n      <th></th>\n      <th>geometry</th>\n      <th>ADDRESS</th>\n      <th>BLDG_DESC</th>\n      <th>OPA_ID</th>\n      <th>COUNCILDISTRICT</th>\n      <th>ZIPCODE</th>\n      <th>type</th>\n      <th>OWNER</th>\n      <th>public_owner</th>\n      <th>COMM_PARTN</th>\n    </tr>\n  </thead>\n  <tbody>\n    <tr>\n      <th>0</th>\n      <td>POLYGON ((2687288.658 256633.610, 2687182.517 ...</td>\n      <td>3232 HENRY AVE</td>\n      <td>COM.CONDO.1STY MASONRY</td>\n      <td>882921188</td>\n      <td>4</td>\n      <td>19129</td>\n      <td>Lot</td>\n      <td>NEWCOURTLAND ELDER SVCS</td>\n      <td>False</td>\n      <td>None</td>\n    </tr>\n    <tr>\n      <th>1</th>\n      <td>POLYGON ((2675581.284 242098.205, 2675611.529 ...</td>\n      <td>633 N 53RD ST</td>\n      <td>VAC LAND RES &lt; ACRE</td>\n      <td>442316810</td>\n      <td>3</td>\n      <td>19131</td>\n      <td>Lot</td>\n      <td>REDEVELOPMENT AUTHORITY OF PHILADELPHIA</td>\n      <td>True</td>\n      <td>None</td>\n    </tr>\n    <tr>\n      <th>2</th>\n      <td>POLYGON ((2694596.085 250002.568, 2694596.038 ...</td>\n      <td>2424 N MOLE ST</td>\n      <td>VAC LAND RES &lt; ACRE</td>\n      <td>161064101</td>\n      <td>5</td>\n      <td>19132</td>\n      <td>Lot</td>\n      <td>REDEVELOPMENT AUTHORITY OF PHILADELPHIA</td>\n      <td>True</td>\n      <td>None</td>\n    </tr>\n    <tr>\n      <th>3</th>\n      <td>POLYGON ((2699251.414 246745.626, 2699244.611 ...</td>\n      <td>437 ARLINGTON ST</td>\n      <td>VAC LAND RES &lt; ACRE</td>\n      <td>183194500</td>\n      <td>7</td>\n      <td>19122</td>\n      <td>Lot</td>\n      <td>MCHUGH JOHN</td>\n      <td>False</td>\n      <td>None</td>\n    </tr>\n    <tr>\n      <th>4</th>\n      <td>POLYGON ((2695074.333 251699.409, 2695026.589 ...</td>\n      <td>2735 N HICKS ST</td>\n      <td>VAC LAND RES &lt; ACRE</td>\n      <td>111168200</td>\n      <td>8</td>\n      <td>19132</td>\n      <td>Lot</td>\n      <td>VICTORIA; HERBERT MITCHELL</td>\n      <td>False</td>\n      <td>None</td>\n    </tr>\n  </tbody>\n</table>\n</div>"
     },
     "execution_count": 55,
     "metadata": {},
     "output_type": "execute_result"
    }
   ],
   "source": [
    "joined_gdf.head()"
   ],
   "metadata": {
    "collapsed": false,
    "ExecuteTime": {
     "start_time": "2023-05-10T10:54:49.709175Z",
     "end_time": "2023-05-10T10:54:49.772737Z"
    }
   }
  },
  {
   "cell_type": "code",
   "execution_count": 56,
   "outputs": [
    {
     "data": {
      "text/plain": "36020"
     },
     "execution_count": 56,
     "metadata": {},
     "output_type": "execute_result"
    }
   ],
   "source": [
    "# return the number of rows in joined_gdf where COMM_PARTN is not None\n",
    "len(joined_gdf[joined_gdf['COMM_PARTN'] != 'None'])"
   ],
   "metadata": {
    "collapsed": false,
    "ExecuteTime": {
     "start_time": "2023-05-10T10:54:49.741226Z",
     "end_time": "2023-05-10T10:54:49.773737Z"
    }
   }
  },
  {
   "cell_type": "code",
   "execution_count": 57,
   "outputs": [
    {
     "data": {
      "text/plain": "                                            geometry           ADDRESS  \\\n0  POLYGON ((2687288.658 256633.610, 2687182.517 ...    3232 HENRY AVE   \n1  POLYGON ((2675581.284 242098.205, 2675611.529 ...     633 N 53RD ST   \n2  POLYGON ((2694596.085 250002.568, 2694596.038 ...    2424 N MOLE ST   \n3  POLYGON ((2699251.414 246745.626, 2699244.611 ...  437 ARLINGTON ST   \n4  POLYGON ((2695074.333 251699.409, 2695026.589 ...   2735 N HICKS ST   \n\n                BLDG_DESC     OPA_ID COUNCILDISTRICT ZIPCODE type  \\\n0  COM.CONDO.1STY MASONRY  882921188               4   19129  Lot   \n1     VAC LAND RES < ACRE  442316810               3   19131  Lot   \n2     VAC LAND RES < ACRE  161064101               5   19132  Lot   \n3     VAC LAND RES < ACRE  183194500               7   19122  Lot   \n4     VAC LAND RES < ACRE  111168200               8   19132  Lot   \n\n                                     OWNER  public_owner COMM_PARTN  \n0                  NEWCOURTLAND ELDER SVCS         False       None  \n1  REDEVELOPMENT AUTHORITY OF PHILADELPHIA          True       None  \n2  REDEVELOPMENT AUTHORITY OF PHILADELPHIA          True       None  \n3                              MCHUGH JOHN         False       None  \n4               VICTORIA; HERBERT MITCHELL         False       None  ",
      "text/html": "<div>\n<style scoped>\n    .dataframe tbody tr th:only-of-type {\n        vertical-align: middle;\n    }\n\n    .dataframe tbody tr th {\n        vertical-align: top;\n    }\n\n    .dataframe thead th {\n        text-align: right;\n    }\n</style>\n<table border=\"1\" class=\"dataframe\">\n  <thead>\n    <tr style=\"text-align: right;\">\n      <th></th>\n      <th>geometry</th>\n      <th>ADDRESS</th>\n      <th>BLDG_DESC</th>\n      <th>OPA_ID</th>\n      <th>COUNCILDISTRICT</th>\n      <th>ZIPCODE</th>\n      <th>type</th>\n      <th>OWNER</th>\n      <th>public_owner</th>\n      <th>COMM_PARTN</th>\n    </tr>\n  </thead>\n  <tbody>\n    <tr>\n      <th>0</th>\n      <td>POLYGON ((2687288.658 256633.610, 2687182.517 ...</td>\n      <td>3232 HENRY AVE</td>\n      <td>COM.CONDO.1STY MASONRY</td>\n      <td>882921188</td>\n      <td>4</td>\n      <td>19129</td>\n      <td>Lot</td>\n      <td>NEWCOURTLAND ELDER SVCS</td>\n      <td>False</td>\n      <td>None</td>\n    </tr>\n    <tr>\n      <th>1</th>\n      <td>POLYGON ((2675581.284 242098.205, 2675611.529 ...</td>\n      <td>633 N 53RD ST</td>\n      <td>VAC LAND RES &lt; ACRE</td>\n      <td>442316810</td>\n      <td>3</td>\n      <td>19131</td>\n      <td>Lot</td>\n      <td>REDEVELOPMENT AUTHORITY OF PHILADELPHIA</td>\n      <td>True</td>\n      <td>None</td>\n    </tr>\n    <tr>\n      <th>2</th>\n      <td>POLYGON ((2694596.085 250002.568, 2694596.038 ...</td>\n      <td>2424 N MOLE ST</td>\n      <td>VAC LAND RES &lt; ACRE</td>\n      <td>161064101</td>\n      <td>5</td>\n      <td>19132</td>\n      <td>Lot</td>\n      <td>REDEVELOPMENT AUTHORITY OF PHILADELPHIA</td>\n      <td>True</td>\n      <td>None</td>\n    </tr>\n    <tr>\n      <th>3</th>\n      <td>POLYGON ((2699251.414 246745.626, 2699244.611 ...</td>\n      <td>437 ARLINGTON ST</td>\n      <td>VAC LAND RES &lt; ACRE</td>\n      <td>183194500</td>\n      <td>7</td>\n      <td>19122</td>\n      <td>Lot</td>\n      <td>MCHUGH JOHN</td>\n      <td>False</td>\n      <td>None</td>\n    </tr>\n    <tr>\n      <th>4</th>\n      <td>POLYGON ((2695074.333 251699.409, 2695026.589 ...</td>\n      <td>2735 N HICKS ST</td>\n      <td>VAC LAND RES &lt; ACRE</td>\n      <td>111168200</td>\n      <td>8</td>\n      <td>19132</td>\n      <td>Lot</td>\n      <td>VICTORIA; HERBERT MITCHELL</td>\n      <td>False</td>\n      <td>None</td>\n    </tr>\n  </tbody>\n</table>\n</div>"
     },
     "execution_count": 57,
     "metadata": {},
     "output_type": "execute_result"
    }
   ],
   "source": [
    "# return the first five rows of joined_gdf where COMM_PARTN is not None\n",
    "joined_gdf[joined_gdf['COMM_PARTN'] != 'None'].head()"
   ],
   "metadata": {
    "collapsed": false,
    "ExecuteTime": {
     "start_time": "2023-05-10T10:54:49.772737Z",
     "end_time": "2023-05-10T10:54:49.862538Z"
    }
   }
  },
  {
   "cell_type": "code",
   "execution_count": 58,
   "metadata": {
    "ExecuteTime": {
     "start_time": "2023-05-10T10:54:49.804754Z",
     "end_time": "2023-05-10T10:54:49.928994Z"
    }
   },
   "outputs": [
    {
     "data": {
      "text/plain": "Index(['geometry', 'ADDRESS', 'BLDG_DESC', 'OPA_ID', 'COUNCILDISTRICT',\n       'ZIPCODE', 'type', 'OWNER', 'public_owner', 'COMM_PARTN'],\n      dtype='object')"
     },
     "execution_count": 58,
     "metadata": {},
     "output_type": "execute_result"
    }
   ],
   "source": [
    "joined_gdf.columns"
   ]
  },
  {
   "attachments": {},
   "cell_type": "markdown",
   "metadata": {},
   "source": [
    "Now we need to import two more datasets from the City's Carto database (SQL)."
   ]
  },
  {
   "attachments": {},
   "cell_type": "markdown",
   "metadata": {},
   "source": [
    "### 1. L&I Complaints"
   ]
  },
  {
   "cell_type": "code",
   "execution_count": 72,
   "metadata": {
    "ExecuteTime": {
     "start_time": "2023-05-10T11:11:08.436588Z",
     "end_time": "2023-05-10T11:11:30.643736Z"
    }
   },
   "outputs": [],
   "source": [
    "# Calculate one year ago from today's date\n",
    "one_year_ago = (datetime.datetime.now() - datetime.timedelta(days=365)).strftime(\"%Y-%m-%d\")\n",
    "\n",
    "# Create the SQL query\n",
    "complaints_sql_query = \"SELECT address, service_request_id, subject, status, service_name, service_code, lat, lon FROM public_cases_fc WHERE requested_datetime >= '{}'\".format(one_year_ago)\n",
    "\n",
    "# Make the GET request\n",
    "complaints_response = requests.get(\"https://phl.carto.com/api/v2/sql\", params={\"q\": complaints_sql_query})\n",
    "\n",
    "# Get the data\n",
    "complaints_data = complaints_response.json()[\"rows\"]\n",
    "\n",
    "# convert complaints_data to a pandas dataframe\n",
    "complaints_df = pd.DataFrame(complaints_data)\n",
    "\n",
    "# Convert the data to a geopandas dataframe\n",
    "complaints_gdf = gpd.GeoDataFrame(complaints_df, geometry=gpd.points_from_xy(complaints_df.lon, complaints_df.lat), crs='EPSG:2272')"
   ]
  },
  {
   "cell_type": "code",
   "execution_count": 73,
   "outputs": [
    {
     "data": {
      "text/plain": "<Axes: >"
     },
     "execution_count": 73,
     "metadata": {},
     "output_type": "execute_result"
    },
    {
     "data": {
      "text/plain": "<Figure size 640x480 with 1 Axes>",
      "image/png": "[encoded data removed]"
     },
     "metadata": {},
     "output_type": "display_data"
    }
   ],
   "source": [
    "complaints_gdf.plot()"
   ],
   "metadata": {
    "collapsed": false,
    "ExecuteTime": {
     "start_time": "2023-05-10T11:11:30.644739Z",
     "end_time": "2023-05-10T11:11:39.915290Z"
    }
   }
  },
  {
   "cell_type": "code",
   "execution_count": 59,
   "outputs": [],
   "source": [
    "# drop the lat and lon columns\n",
    "complaints_gdf.drop(['lat', 'lon'], axis=1, inplace=True)\n",
    "\n",
    "# filter for only Status = 'Open'\n",
    "complaints_gdf = complaints_gdf[complaints_gdf['status'] == 'Open']\n",
    "\n",
    "# collapse complaints_gdf by address and concatenate the violationcodetitle values into a list with a semicolon separator\n",
    "complaints_gdf = complaints_gdf.groupby('address')['service_name'].apply(lambda x: '; '.join([val for val in x if val is not None])).reset_index()\n",
    "\n",
    "# rename the column to 'li_complaints'\n",
    "complaints_gdf.rename(columns={'service_name': 'li_complaints'}, inplace=True)"
   ],
   "metadata": {
    "collapsed": false
   }
  },
  {
   "cell_type": "code",
   "execution_count": 60,
   "metadata": {
    "ExecuteTime": {
     "start_time": "2023-05-10T10:55:27.652828Z",
     "end_time": "2023-05-10T10:55:27.667500Z"
    }
   },
   "outputs": [
    {
     "data": {
      "text/plain": "(40888, 2)"
     },
     "execution_count": 60,
     "metadata": {},
     "output_type": "execute_result"
    }
   ],
   "source": [
    "complaints_gdf.shape"
   ]
  },
  {
   "cell_type": "code",
   "execution_count": 69,
   "outputs": [
    {
     "ename": "TypeError",
     "evalue": "no numeric data to plot",
     "output_type": "error",
     "traceback": [
      "\u001B[1;31m---------------------------------------------------------------------------\u001B[0m",
      "\u001B[1;31mTypeError\u001B[0m                                 Traceback (most recent call last)",
      "Cell \u001B[1;32mIn [69], line 2\u001B[0m\n\u001B[0;32m      1\u001B[0m \u001B[38;5;66;03m# plot the complaints_gdf\u001B[39;00m\n\u001B[1;32m----> 2\u001B[0m \u001B[43mcomplaints_gdf\u001B[49m\u001B[38;5;241;43m.\u001B[39;49m\u001B[43mplot\u001B[49m\u001B[43m(\u001B[49m\u001B[43m)\u001B[49m\n",
      "File \u001B[1;32m~\\AppData\\Roaming\\Python\\Python310\\site-packages\\pandas\\plotting\\_core.py:1000\u001B[0m, in \u001B[0;36mPlotAccessor.__call__\u001B[1;34m(self, *args, **kwargs)\u001B[0m\n\u001B[0;32m    997\u001B[0m             label_name \u001B[38;5;241m=\u001B[39m label_kw \u001B[38;5;129;01mor\u001B[39;00m data\u001B[38;5;241m.\u001B[39mcolumns\n\u001B[0;32m    998\u001B[0m             data\u001B[38;5;241m.\u001B[39mcolumns \u001B[38;5;241m=\u001B[39m label_name\n\u001B[1;32m-> 1000\u001B[0m \u001B[38;5;28;01mreturn\u001B[39;00m plot_backend\u001B[38;5;241m.\u001B[39mplot(data, kind\u001B[38;5;241m=\u001B[39mkind, \u001B[38;5;241m*\u001B[39m\u001B[38;5;241m*\u001B[39mkwargs)\n",
      "File \u001B[1;32m~\\AppData\\Roaming\\Python\\Python310\\site-packages\\pandas\\plotting\\_matplotlib\\__init__.py:71\u001B[0m, in \u001B[0;36mplot\u001B[1;34m(data, kind, **kwargs)\u001B[0m\n\u001B[0;32m     69\u001B[0m         kwargs[\u001B[38;5;124m\"\u001B[39m\u001B[38;5;124max\u001B[39m\u001B[38;5;124m\"\u001B[39m] \u001B[38;5;241m=\u001B[39m \u001B[38;5;28mgetattr\u001B[39m(ax, \u001B[38;5;124m\"\u001B[39m\u001B[38;5;124mleft_ax\u001B[39m\u001B[38;5;124m\"\u001B[39m, ax)\n\u001B[0;32m     70\u001B[0m plot_obj \u001B[38;5;241m=\u001B[39m PLOT_CLASSES[kind](data, \u001B[38;5;241m*\u001B[39m\u001B[38;5;241m*\u001B[39mkwargs)\n\u001B[1;32m---> 71\u001B[0m \u001B[43mplot_obj\u001B[49m\u001B[38;5;241;43m.\u001B[39;49m\u001B[43mgenerate\u001B[49m\u001B[43m(\u001B[49m\u001B[43m)\u001B[49m\n\u001B[0;32m     72\u001B[0m plot_obj\u001B[38;5;241m.\u001B[39mdraw()\n\u001B[0;32m     73\u001B[0m \u001B[38;5;28;01mreturn\u001B[39;00m plot_obj\u001B[38;5;241m.\u001B[39mresult\n",
      "File \u001B[1;32m~\\AppData\\Roaming\\Python\\Python310\\site-packages\\pandas\\plotting\\_matplotlib\\core.py:450\u001B[0m, in \u001B[0;36mMPLPlot.generate\u001B[1;34m(self)\u001B[0m\n\u001B[0;32m    448\u001B[0m \u001B[38;5;28;01mdef\u001B[39;00m \u001B[38;5;21mgenerate\u001B[39m(\u001B[38;5;28mself\u001B[39m) \u001B[38;5;241m-\u001B[39m\u001B[38;5;241m>\u001B[39m \u001B[38;5;28;01mNone\u001B[39;00m:\n\u001B[0;32m    449\u001B[0m     \u001B[38;5;28mself\u001B[39m\u001B[38;5;241m.\u001B[39m_args_adjust()\n\u001B[1;32m--> 450\u001B[0m     \u001B[38;5;28;43mself\u001B[39;49m\u001B[38;5;241;43m.\u001B[39;49m\u001B[43m_compute_plot_data\u001B[49m\u001B[43m(\u001B[49m\u001B[43m)\u001B[49m\n\u001B[0;32m    451\u001B[0m     \u001B[38;5;28mself\u001B[39m\u001B[38;5;241m.\u001B[39m_setup_subplots()\n\u001B[0;32m    452\u001B[0m     \u001B[38;5;28mself\u001B[39m\u001B[38;5;241m.\u001B[39m_make_plot()\n",
      "File \u001B[1;32m~\\AppData\\Roaming\\Python\\Python310\\site-packages\\pandas\\plotting\\_matplotlib\\core.py:635\u001B[0m, in \u001B[0;36mMPLPlot._compute_plot_data\u001B[1;34m(self)\u001B[0m\n\u001B[0;32m    633\u001B[0m \u001B[38;5;66;03m# no non-numeric frames or series allowed\u001B[39;00m\n\u001B[0;32m    634\u001B[0m \u001B[38;5;28;01mif\u001B[39;00m is_empty:\n\u001B[1;32m--> 635\u001B[0m     \u001B[38;5;28;01mraise\u001B[39;00m \u001B[38;5;167;01mTypeError\u001B[39;00m(\u001B[38;5;124m\"\u001B[39m\u001B[38;5;124mno numeric data to plot\u001B[39m\u001B[38;5;124m\"\u001B[39m)\n\u001B[0;32m    637\u001B[0m \u001B[38;5;28mself\u001B[39m\u001B[38;5;241m.\u001B[39mdata \u001B[38;5;241m=\u001B[39m numeric_data\u001B[38;5;241m.\u001B[39mapply(\u001B[38;5;28mself\u001B[39m\u001B[38;5;241m.\u001B[39m_convert_to_ndarray)\n",
      "\u001B[1;31mTypeError\u001B[0m: no numeric data to plot"
     ]
    }
   ],
   "source": [
    "# plot the complaints_gdf\n",
    "complaints_gdf.plot()"
   ],
   "metadata": {
    "collapsed": false
   }
  },
  {
   "cell_type": "code",
   "execution_count": 61,
   "outputs": [
    {
     "data": {
      "text/plain": "                address                         li_complaints\n0        (615) 840-0518                 Maintenance Complaint\n1    1 BLACKWELL PL # 1                          Street Trees\n2  1 CHRISTIAN ST # 23U                     Abandoned Vehicle\n3   1 FOUNTAIN GREEN DR                     Abandoned Vehicle\n4  1 FRANKLIN TOWN BLVD   Maintenance Complaint; Street Trees\n5         1 LONGFORD ST  Abandoned Vehicle; Abandoned Vehicle\n6           1 N 30TH ST                         Manhole Cover\n7      1 N KINGS OAK LN        Other (Streets); Street Defect\n8            1 QUEEN ST                      Graffiti Removal\n9         1 RED LION RD  Street Defect; Maintenance Complaint",
      "text/html": "<div>\n<style scoped>\n    .dataframe tbody tr th:only-of-type {\n        vertical-align: middle;\n    }\n\n    .dataframe tbody tr th {\n        vertical-align: top;\n    }\n\n    .dataframe thead th {\n        text-align: right;\n    }\n</style>\n<table border=\"1\" class=\"dataframe\">\n  <thead>\n    <tr style=\"text-align: right;\">\n      <th></th>\n      <th>address</th>\n      <th>li_complaints</th>\n    </tr>\n  </thead>\n  <tbody>\n    <tr>\n      <th>0</th>\n      <td>(615) 840-0518</td>\n      <td>Maintenance Complaint</td>\n    </tr>\n    <tr>\n      <th>1</th>\n      <td>1 BLACKWELL PL # 1</td>\n      <td>Street Trees</td>\n    </tr>\n    <tr>\n      <th>2</th>\n      <td>1 CHRISTIAN ST # 23U</td>\n      <td>Abandoned Vehicle</td>\n    </tr>\n    <tr>\n      <th>3</th>\n      <td>1 FOUNTAIN GREEN DR</td>\n      <td>Abandoned Vehicle</td>\n    </tr>\n    <tr>\n      <th>4</th>\n      <td>1 FRANKLIN TOWN BLVD</td>\n      <td>Maintenance Complaint; Street Trees</td>\n    </tr>\n    <tr>\n      <th>5</th>\n      <td>1 LONGFORD ST</td>\n      <td>Abandoned Vehicle; Abandoned Vehicle</td>\n    </tr>\n    <tr>\n      <th>6</th>\n      <td>1 N 30TH ST</td>\n      <td>Manhole Cover</td>\n    </tr>\n    <tr>\n      <th>7</th>\n      <td>1 N KINGS OAK LN</td>\n      <td>Other (Streets); Street Defect</td>\n    </tr>\n    <tr>\n      <th>8</th>\n      <td>1 QUEEN ST</td>\n      <td>Graffiti Removal</td>\n    </tr>\n    <tr>\n      <th>9</th>\n      <td>1 RED LION RD</td>\n      <td>Street Defect; Maintenance Complaint</td>\n    </tr>\n  </tbody>\n</table>\n</div>"
     },
     "execution_count": 61,
     "metadata": {},
     "output_type": "execute_result"
    }
   ],
   "source": [
    "complaints_gdf.head(10)"
   ],
   "metadata": {
    "collapsed": false,
    "ExecuteTime": {
     "start_time": "2023-05-10T10:55:27.668500Z",
     "end_time": "2023-05-10T10:55:27.727546Z"
    }
   }
  },
  {
   "cell_type": "markdown",
   "metadata": {},
   "source": [
    "### 2. L&I Code Violations"
   ]
  },
  {
   "cell_type": "code",
   "execution_count": 78,
   "metadata": {
    "ExecuteTime": {
     "start_time": "2023-05-10T11:20:29.177768Z",
     "end_time": "2023-05-10T11:20:34.083983Z"
    }
   },
   "outputs": [],
   "source": [
    "# Calculate one year ago from today's date\n",
    "one_year_ago = (datetime.datetime.now() - datetime.timedelta(days=365)).strftime(\"%Y-%m-%d\")\n",
    "\n",
    "# Create the SQL query\n",
    "violations_sql_query = \"SELECT parcel_id_num, casenumber, casecreateddate, casetype, casestatus, violationnumber, violationcodetitle, violationstatus, opa_account_num, address, opa_owner, geocode_x, geocode_y FROM violations WHERE violationdate >= '{}'\".format(one_year_ago)\n",
    "\n",
    "# Make the GET request\n",
    "violations_response = requests.get(\"https://phl.carto.com/api/v2/sql\", params={\"q\": violations_sql_query})\n",
    "\n",
    "# Get the data\n",
    "violations_data = violations_response.json()[\"rows\"]\n",
    "\n",
    "# convert violations_data to a pandas dataframe\n",
    "violations_df = pd.DataFrame(violations_data)\n",
    "\n",
    "# Convert the data to a geopandas dataframe\n",
    "violations_gdf = gpd.GeoDataFrame(violations_df, geometry=gpd.points_from_xy(violations_df.geocode_x, violations_df.geocode_y), crs='EPSG:2272')"
   ]
  },
  {
   "cell_type": "code",
   "execution_count": 75,
   "outputs": [
    {
     "data": {
      "text/plain": "<Axes: >"
     },
     "execution_count": 75,
     "metadata": {},
     "output_type": "execute_result"
    },
    {
     "data": {
      "text/plain": "<Figure size 640x480 with 1 Axes>",
      "image/png": "[encoded data removed]"
     },
     "metadata": {},
     "output_type": "display_data"
    }
   ],
   "source": [
    "violations_gdf.plot()"
   ],
   "metadata": {
    "collapsed": false,
    "ExecuteTime": {
     "start_time": "2023-05-10T11:19:22.584846Z",
     "end_time": "2023-05-10T11:19:24.784635Z"
    }
   }
  },
  {
   "cell_type": "code",
   "execution_count": 87,
   "outputs": [],
   "source": [
    "all_violations_count_df = violations_gdf.groupby('opa_account_num').count().reset_index()[['opa_account_num', 'violationnumber']]\n",
    "all_violations_count_df = all_violations_count_df.rename(columns={'violationnumber': 'all_violations_past_year'})"
   ],
   "metadata": {
    "collapsed": false,
    "ExecuteTime": {
     "start_time": "2023-05-10T11:24:12.612009Z",
     "end_time": "2023-05-10T11:24:12.771593Z"
    }
   }
  },
  {
   "cell_type": "code",
   "execution_count": 88,
   "outputs": [
    {
     "data": {
      "text/plain": "  opa_account_num  all_violations_past_year\n0       011020300                         3\n1       011026000                         1\n2       011075500                         3\n3       011075600                         3\n4       011079900                         2\n5       011082200                         1\n6       011084500                         8\n7       011088800                         1\n8       011089700                         1\n9       011091900                         3",
      "text/html": "<div>\n<style scoped>\n    .dataframe tbody tr th:only-of-type {\n        vertical-align: middle;\n    }\n\n    .dataframe tbody tr th {\n        vertical-align: top;\n    }\n\n    .dataframe thead th {\n        text-align: right;\n    }\n</style>\n<table border=\"1\" class=\"dataframe\">\n  <thead>\n    <tr style=\"text-align: right;\">\n      <th></th>\n      <th>opa_account_num</th>\n      <th>all_violations_past_year</th>\n    </tr>\n  </thead>\n  <tbody>\n    <tr>\n      <th>0</th>\n      <td>011020300</td>\n      <td>3</td>\n    </tr>\n    <tr>\n      <th>1</th>\n      <td>011026000</td>\n      <td>1</td>\n    </tr>\n    <tr>\n      <th>2</th>\n      <td>011075500</td>\n      <td>3</td>\n    </tr>\n    <tr>\n      <th>3</th>\n      <td>011075600</td>\n      <td>3</td>\n    </tr>\n    <tr>\n      <th>4</th>\n      <td>011079900</td>\n      <td>2</td>\n    </tr>\n    <tr>\n      <th>5</th>\n      <td>011082200</td>\n      <td>1</td>\n    </tr>\n    <tr>\n      <th>6</th>\n      <td>011084500</td>\n      <td>8</td>\n    </tr>\n    <tr>\n      <th>7</th>\n      <td>011088800</td>\n      <td>1</td>\n    </tr>\n    <tr>\n      <th>8</th>\n      <td>011089700</td>\n      <td>1</td>\n    </tr>\n    <tr>\n      <th>9</th>\n      <td>011091900</td>\n      <td>3</td>\n    </tr>\n  </tbody>\n</table>\n</div>"
     },
     "execution_count": 88,
     "metadata": {},
     "output_type": "execute_result"
    }
   ],
   "source": [
    "all_violations_count_df.head(10)"
   ],
   "metadata": {
    "collapsed": false,
    "ExecuteTime": {
     "start_time": "2023-05-10T11:24:14.194586Z",
     "end_time": "2023-05-10T11:24:14.207094Z"
    }
   }
  },
  {
   "cell_type": "code",
   "execution_count": 89,
   "outputs": [],
   "source": [
    "# drop the lat and lon columns\n",
    "#violations_gdf.drop(['geocode_x', 'geocode_y'], axis=1, inplace=True)\n",
    "\n",
    "# filter for only cases where the casestatus is 'IN VIOLATION' or 'UNDER INVESTIGATION'\n",
    "violations_gdf = violations_gdf[(violations_gdf['violationstatus'] == 'OPEN')]\n",
    "\n",
    "open_violations_count_df = violations_gdf.groupby('opa_account_num').count().reset_index()[['opa_account_num', 'violationnumber']]\n",
    "open_violations_count_df = open_violations_count_df.rename(columns={'violationnumber': 'open_violations_past_year'})"
   ],
   "metadata": {
    "collapsed": false,
    "ExecuteTime": {
     "start_time": "2023-05-10T11:24:24.956861Z",
     "end_time": "2023-05-10T11:24:25.062066Z"
    }
   }
  },
  {
   "cell_type": "code",
   "execution_count": 90,
   "outputs": [
    {
     "data": {
      "text/plain": "  opa_account_num  open_violations_past_year\n0       011020300                          3\n1       011075600                          2\n2       011079900                          2\n3       011082200                          1\n4       011108600                          3\n5       011118600                         11\n6       011138600                          1\n7       011149300                          1\n8       011151200                          5\n9       011231200                          3",
      "text/html": "<div>\n<style scoped>\n    .dataframe tbody tr th:only-of-type {\n        vertical-align: middle;\n    }\n\n    .dataframe tbody tr th {\n        vertical-align: top;\n    }\n\n    .dataframe thead th {\n        text-align: right;\n    }\n</style>\n<table border=\"1\" class=\"dataframe\">\n  <thead>\n    <tr style=\"text-align: right;\">\n      <th></th>\n      <th>opa_account_num</th>\n      <th>open_violations_past_year</th>\n    </tr>\n  </thead>\n  <tbody>\n    <tr>\n      <th>0</th>\n      <td>011020300</td>\n      <td>3</td>\n    </tr>\n    <tr>\n      <th>1</th>\n      <td>011075600</td>\n      <td>2</td>\n    </tr>\n    <tr>\n      <th>2</th>\n      <td>011079900</td>\n      <td>2</td>\n    </tr>\n    <tr>\n      <th>3</th>\n      <td>011082200</td>\n      <td>1</td>\n    </tr>\n    <tr>\n      <th>4</th>\n      <td>011108600</td>\n      <td>3</td>\n    </tr>\n    <tr>\n      <th>5</th>\n      <td>011118600</td>\n      <td>11</td>\n    </tr>\n    <tr>\n      <th>6</th>\n      <td>011138600</td>\n      <td>1</td>\n    </tr>\n    <tr>\n      <th>7</th>\n      <td>011149300</td>\n      <td>1</td>\n    </tr>\n    <tr>\n      <th>8</th>\n      <td>011151200</td>\n      <td>5</td>\n    </tr>\n    <tr>\n      <th>9</th>\n      <td>011231200</td>\n      <td>3</td>\n    </tr>\n  </tbody>\n</table>\n</div>"
     },
     "execution_count": 90,
     "metadata": {},
     "output_type": "execute_result"
    }
   ],
   "source": [
    "open_violations_count_df.head(10)"
   ],
   "metadata": {
    "collapsed": false,
    "ExecuteTime": {
     "start_time": "2023-05-10T11:24:31.998281Z",
     "end_time": "2023-05-10T11:24:32.008294Z"
    }
   }
  },
  {
   "cell_type": "code",
   "execution_count": 96,
   "outputs": [],
   "source": [
    "# join the all_violations_count_df and open_violations_count_df dataframes on opa_account_num\n",
    "violations_count_gdf = all_violations_count_df.merge(open_violations_count_df, how='left', on='opa_account_num')\n",
    "\n",
    "# replace NaN values with 0\n",
    "violations_count_gdf.fillna(0, inplace=True)\n",
    "\n",
    "# convert the all_violations_past_year and open_violations_past_year columns to integers\n",
    "violations_count_gdf['all_violations_past_year'] = violations_count_gdf['all_violations_past_year'].astype(int)\n",
    "violations_count_gdf['open_violations_past_year'] = violations_count_gdf['open_violations_past_year'].astype(int)"
   ],
   "metadata": {
    "collapsed": false,
    "ExecuteTime": {
     "start_time": "2023-05-10T11:26:34.055866Z",
     "end_time": "2023-05-10T11:26:34.096977Z"
    }
   }
  },
  {
   "cell_type": "code",
   "execution_count": 97,
   "outputs": [
    {
     "data": {
      "text/plain": "  opa_account_num  all_violations_past_year  open_violations_past_year\n0       011020300                         3                          3\n1       011026000                         1                          0\n2       011075500                         3                          0\n3       011075600                         3                          2\n4       011079900                         2                          2\n5       011082200                         1                          1\n6       011084500                         8                          0\n7       011088800                         1                          0\n8       011089700                         1                          0\n9       011091900                         3                          0",
      "text/html": "<div>\n<style scoped>\n    .dataframe tbody tr th:only-of-type {\n        vertical-align: middle;\n    }\n\n    .dataframe tbody tr th {\n        vertical-align: top;\n    }\n\n    .dataframe thead th {\n        text-align: right;\n    }\n</style>\n<table border=\"1\" class=\"dataframe\">\n  <thead>\n    <tr style=\"text-align: right;\">\n      <th></th>\n      <th>opa_account_num</th>\n      <th>all_violations_past_year</th>\n      <th>open_violations_past_year</th>\n    </tr>\n  </thead>\n  <tbody>\n    <tr>\n      <th>0</th>\n      <td>011020300</td>\n      <td>3</td>\n      <td>3</td>\n    </tr>\n    <tr>\n      <th>1</th>\n      <td>011026000</td>\n      <td>1</td>\n      <td>0</td>\n    </tr>\n    <tr>\n      <th>2</th>\n      <td>011075500</td>\n      <td>3</td>\n      <td>0</td>\n    </tr>\n    <tr>\n      <th>3</th>\n      <td>011075600</td>\n      <td>3</td>\n      <td>2</td>\n    </tr>\n    <tr>\n      <th>4</th>\n      <td>011079900</td>\n      <td>2</td>\n      <td>2</td>\n    </tr>\n    <tr>\n      <th>5</th>\n      <td>011082200</td>\n      <td>1</td>\n      <td>1</td>\n    </tr>\n    <tr>\n      <th>6</th>\n      <td>011084500</td>\n      <td>8</td>\n      <td>0</td>\n    </tr>\n    <tr>\n      <th>7</th>\n      <td>011088800</td>\n      <td>1</td>\n      <td>0</td>\n    </tr>\n    <tr>\n      <th>8</th>\n      <td>011089700</td>\n      <td>1</td>\n      <td>0</td>\n    </tr>\n    <tr>\n      <th>9</th>\n      <td>011091900</td>\n      <td>3</td>\n      <td>0</td>\n    </tr>\n  </tbody>\n</table>\n</div>"
     },
     "execution_count": 97,
     "metadata": {},
     "output_type": "execute_result"
    }
   ],
   "source": [
    "violations_count_gdf.head(10)"
   ],
   "metadata": {
    "collapsed": false,
    "ExecuteTime": {
     "start_time": "2023-05-10T11:26:37.770433Z",
     "end_time": "2023-05-10T11:26:37.789685Z"
    }
   }
  },
  {
   "cell_type": "code",
   "execution_count": 76,
   "outputs": [],
   "source": [
    "\n",
    "# collapse violations_gdf by address and concatenate the violationcodetitle values into a list with a semicolon separator\n",
    "violations_gdf = violations_gdf.groupby('opa_account_num')['violationcodetitle'].apply(lambda x: '; '.join([val for val in x if val is not None])).reset_index()\n",
    "\n",
    "# rename the column to 'li_violations'\n",
    "violations_gdf.rename(columns={'violationcodetitle': 'li_code_violations'}, inplace=True)"
   ],
   "metadata": {
    "collapsed": false
   }
  },
  {
   "cell_type": "code",
   "execution_count": 77,
   "outputs": [
    {
     "ename": "TypeError",
     "evalue": "no numeric data to plot",
     "output_type": "error",
     "traceback": [
      "\u001B[1;31m---------------------------------------------------------------------------\u001B[0m",
      "\u001B[1;31mTypeError\u001B[0m                                 Traceback (most recent call last)",
      "Cell \u001B[1;32mIn [77], line 1\u001B[0m\n\u001B[1;32m----> 1\u001B[0m \u001B[43mviolations_gdf\u001B[49m\u001B[38;5;241;43m.\u001B[39;49m\u001B[43mplot\u001B[49m\u001B[43m(\u001B[49m\u001B[43m)\u001B[49m\n",
      "File \u001B[1;32m~\\AppData\\Roaming\\Python\\Python310\\site-packages\\pandas\\plotting\\_core.py:1000\u001B[0m, in \u001B[0;36mPlotAccessor.__call__\u001B[1;34m(self, *args, **kwargs)\u001B[0m\n\u001B[0;32m    997\u001B[0m             label_name \u001B[38;5;241m=\u001B[39m label_kw \u001B[38;5;129;01mor\u001B[39;00m data\u001B[38;5;241m.\u001B[39mcolumns\n\u001B[0;32m    998\u001B[0m             data\u001B[38;5;241m.\u001B[39mcolumns \u001B[38;5;241m=\u001B[39m label_name\n\u001B[1;32m-> 1000\u001B[0m \u001B[38;5;28;01mreturn\u001B[39;00m plot_backend\u001B[38;5;241m.\u001B[39mplot(data, kind\u001B[38;5;241m=\u001B[39mkind, \u001B[38;5;241m*\u001B[39m\u001B[38;5;241m*\u001B[39mkwargs)\n",
      "File \u001B[1;32m~\\AppData\\Roaming\\Python\\Python310\\site-packages\\pandas\\plotting\\_matplotlib\\__init__.py:71\u001B[0m, in \u001B[0;36mplot\u001B[1;34m(data, kind, **kwargs)\u001B[0m\n\u001B[0;32m     69\u001B[0m         kwargs[\u001B[38;5;124m\"\u001B[39m\u001B[38;5;124max\u001B[39m\u001B[38;5;124m\"\u001B[39m] \u001B[38;5;241m=\u001B[39m \u001B[38;5;28mgetattr\u001B[39m(ax, \u001B[38;5;124m\"\u001B[39m\u001B[38;5;124mleft_ax\u001B[39m\u001B[38;5;124m\"\u001B[39m, ax)\n\u001B[0;32m     70\u001B[0m plot_obj \u001B[38;5;241m=\u001B[39m PLOT_CLASSES[kind](data, \u001B[38;5;241m*\u001B[39m\u001B[38;5;241m*\u001B[39mkwargs)\n\u001B[1;32m---> 71\u001B[0m \u001B[43mplot_obj\u001B[49m\u001B[38;5;241;43m.\u001B[39;49m\u001B[43mgenerate\u001B[49m\u001B[43m(\u001B[49m\u001B[43m)\u001B[49m\n\u001B[0;32m     72\u001B[0m plot_obj\u001B[38;5;241m.\u001B[39mdraw()\n\u001B[0;32m     73\u001B[0m \u001B[38;5;28;01mreturn\u001B[39;00m plot_obj\u001B[38;5;241m.\u001B[39mresult\n",
      "File \u001B[1;32m~\\AppData\\Roaming\\Python\\Python310\\site-packages\\pandas\\plotting\\_matplotlib\\core.py:450\u001B[0m, in \u001B[0;36mMPLPlot.generate\u001B[1;34m(self)\u001B[0m\n\u001B[0;32m    448\u001B[0m \u001B[38;5;28;01mdef\u001B[39;00m \u001B[38;5;21mgenerate\u001B[39m(\u001B[38;5;28mself\u001B[39m) \u001B[38;5;241m-\u001B[39m\u001B[38;5;241m>\u001B[39m \u001B[38;5;28;01mNone\u001B[39;00m:\n\u001B[0;32m    449\u001B[0m     \u001B[38;5;28mself\u001B[39m\u001B[38;5;241m.\u001B[39m_args_adjust()\n\u001B[1;32m--> 450\u001B[0m     \u001B[38;5;28;43mself\u001B[39;49m\u001B[38;5;241;43m.\u001B[39;49m\u001B[43m_compute_plot_data\u001B[49m\u001B[43m(\u001B[49m\u001B[43m)\u001B[49m\n\u001B[0;32m    451\u001B[0m     \u001B[38;5;28mself\u001B[39m\u001B[38;5;241m.\u001B[39m_setup_subplots()\n\u001B[0;32m    452\u001B[0m     \u001B[38;5;28mself\u001B[39m\u001B[38;5;241m.\u001B[39m_make_plot()\n",
      "File \u001B[1;32m~\\AppData\\Roaming\\Python\\Python310\\site-packages\\pandas\\plotting\\_matplotlib\\core.py:635\u001B[0m, in \u001B[0;36mMPLPlot._compute_plot_data\u001B[1;34m(self)\u001B[0m\n\u001B[0;32m    633\u001B[0m \u001B[38;5;66;03m# no non-numeric frames or series allowed\u001B[39;00m\n\u001B[0;32m    634\u001B[0m \u001B[38;5;28;01mif\u001B[39;00m is_empty:\n\u001B[1;32m--> 635\u001B[0m     \u001B[38;5;28;01mraise\u001B[39;00m \u001B[38;5;167;01mTypeError\u001B[39;00m(\u001B[38;5;124m\"\u001B[39m\u001B[38;5;124mno numeric data to plot\u001B[39m\u001B[38;5;124m\"\u001B[39m)\n\u001B[0;32m    637\u001B[0m \u001B[38;5;28mself\u001B[39m\u001B[38;5;241m.\u001B[39mdata \u001B[38;5;241m=\u001B[39m numeric_data\u001B[38;5;241m.\u001B[39mapply(\u001B[38;5;28mself\u001B[39m\u001B[38;5;241m.\u001B[39m_convert_to_ndarray)\n",
      "\u001B[1;31mTypeError\u001B[0m: no numeric data to plot"
     ]
    }
   ],
   "source": [
    "violations_gdf.plot()"
   ],
   "metadata": {
    "collapsed": false
   }
  },
  {
   "cell_type": "code",
   "execution_count": 63,
   "metadata": {
    "ExecuteTime": {
     "start_time": "2023-05-10T10:55:36.056583Z",
     "end_time": "2023-05-10T10:55:36.069816Z"
    }
   },
   "outputs": [
    {
     "data": {
      "text/plain": "(12356, 2)"
     },
     "execution_count": 63,
     "metadata": {},
     "output_type": "execute_result"
    }
   ],
   "source": [
    "violations_gdf.shape"
   ]
  },
  {
   "cell_type": "code",
   "execution_count": 64,
   "outputs": [
    {
     "data": {
      "text/plain": "  opa_account_num                                 li_code_violations\n0       011020300  UNSAFE STRUCTURE; EXTERIOR WALLS; ARCHITECT/EN...\n1       011075600         NEW STRUCTURE; ARCHITECT/ENGINEER SERVICES\n2       011079900  ZONING AND USE REGISTRATION PERMITS; OCCUPIED ...\n3       011082200                           VACANT STRUCTURE LICENSE\n4       011108600  HVAC SYSTEM; NEW PLUMBING; ALTER INTERIOR PORTION\n5       011118600  PERMB- CREATE WALL BREACH; ALTER INTERIOR PORT...\n6       011138600                                INTERIOR DEMOLITION\n7       011149300                   PLUMBING SYSTEMS- STORM DRAINAGE\n8       011151200  VACANT STRUCTURE & LAND; EXTERIOR STRUCTURE  I...\n9       011231200  UNSAFE STRUCTURE; EXTERIOR WALLS; ARCHITECT/EN...",
      "text/html": "<div>\n<style scoped>\n    .dataframe tbody tr th:only-of-type {\n        vertical-align: middle;\n    }\n\n    .dataframe tbody tr th {\n        vertical-align: top;\n    }\n\n    .dataframe thead th {\n        text-align: right;\n    }\n</style>\n<table border=\"1\" class=\"dataframe\">\n  <thead>\n    <tr style=\"text-align: right;\">\n      <th></th>\n      <th>opa_account_num</th>\n      <th>li_code_violations</th>\n    </tr>\n  </thead>\n  <tbody>\n    <tr>\n      <th>0</th>\n      <td>011020300</td>\n      <td>UNSAFE STRUCTURE; EXTERIOR WALLS; ARCHITECT/EN...</td>\n    </tr>\n    <tr>\n      <th>1</th>\n      <td>011075600</td>\n      <td>NEW STRUCTURE; ARCHITECT/ENGINEER SERVICES</td>\n    </tr>\n    <tr>\n      <th>2</th>\n      <td>011079900</td>\n      <td>ZONING AND USE REGISTRATION PERMITS; OCCUPIED ...</td>\n    </tr>\n    <tr>\n      <th>3</th>\n      <td>011082200</td>\n      <td>VACANT STRUCTURE LICENSE</td>\n    </tr>\n    <tr>\n      <th>4</th>\n      <td>011108600</td>\n      <td>HVAC SYSTEM; NEW PLUMBING; ALTER INTERIOR PORTION</td>\n    </tr>\n    <tr>\n      <th>5</th>\n      <td>011118600</td>\n      <td>PERMB- CREATE WALL BREACH; ALTER INTERIOR PORT...</td>\n    </tr>\n    <tr>\n      <th>6</th>\n      <td>011138600</td>\n      <td>INTERIOR DEMOLITION</td>\n    </tr>\n    <tr>\n      <th>7</th>\n      <td>011149300</td>\n      <td>PLUMBING SYSTEMS- STORM DRAINAGE</td>\n    </tr>\n    <tr>\n      <th>8</th>\n      <td>011151200</td>\n      <td>VACANT STRUCTURE &amp; LAND; EXTERIOR STRUCTURE  I...</td>\n    </tr>\n    <tr>\n      <th>9</th>\n      <td>011231200</td>\n      <td>UNSAFE STRUCTURE; EXTERIOR WALLS; ARCHITECT/EN...</td>\n    </tr>\n  </tbody>\n</table>\n</div>"
     },
     "execution_count": 64,
     "metadata": {},
     "output_type": "execute_result"
    }
   ],
   "source": [
    "violations_gdf.head(10)"
   ],
   "metadata": {
    "collapsed": false,
    "ExecuteTime": {
     "start_time": "2023-05-10T10:55:36.070816Z",
     "end_time": "2023-05-10T10:55:36.113143Z"
    }
   }
  },
  {
   "cell_type": "code",
   "execution_count": 68,
   "metadata": {
    "ExecuteTime": {
     "start_time": "2023-05-10T11:04:24.827844Z",
     "end_time": "2023-05-10T11:04:24.899779Z"
    }
   },
   "outputs": [
    {
     "ename": "KeyError",
     "evalue": "'opa_account_num'",
     "output_type": "error",
     "traceback": [
      "\u001B[1;31m---------------------------------------------------------------------------\u001B[0m",
      "\u001B[1;31mKeyError\u001B[0m                                  Traceback (most recent call last)",
      "Cell \u001B[1;32mIn [68], line 2\u001B[0m\n\u001B[0;32m      1\u001B[0m \u001B[38;5;66;03m# left join the complaints_gdf to the joined_gdf on address\u001B[39;00m\n\u001B[1;32m----> 2\u001B[0m joined_gdf \u001B[38;5;241m=\u001B[39m \u001B[43mjoined_gdf\u001B[49m\u001B[38;5;241;43m.\u001B[39;49m\u001B[43mmerge\u001B[49m\u001B[43m(\u001B[49m\u001B[43mcomplaints_gdf\u001B[49m\u001B[43m,\u001B[49m\u001B[43m \u001B[49m\u001B[43mhow\u001B[49m\u001B[38;5;241;43m=\u001B[39;49m\u001B[38;5;124;43m'\u001B[39;49m\u001B[38;5;124;43mleft\u001B[39;49m\u001B[38;5;124;43m'\u001B[39;49m\u001B[43m,\u001B[49m\u001B[43m \u001B[49m\u001B[43mleft_on\u001B[49m\u001B[38;5;241;43m=\u001B[39;49m\u001B[38;5;124;43m'\u001B[39;49m\u001B[38;5;124;43mOPA_ID\u001B[39;49m\u001B[38;5;124;43m'\u001B[39;49m\u001B[43m,\u001B[49m\u001B[43m \u001B[49m\u001B[43mright_on\u001B[49m\u001B[38;5;241;43m=\u001B[39;49m\u001B[38;5;124;43m'\u001B[39;49m\u001B[38;5;124;43mopa_account_num\u001B[39;49m\u001B[38;5;124;43m'\u001B[39;49m\u001B[43m)\u001B[49m\n",
      "File \u001B[1;32m~\\AppData\\Roaming\\Python\\Python310\\site-packages\\geopandas\\geodataframe.py:1378\u001B[0m, in \u001B[0;36mGeoDataFrame.merge\u001B[1;34m(self, *args, **kwargs)\u001B[0m\n\u001B[0;32m   1357\u001B[0m \u001B[38;5;28;01mdef\u001B[39;00m \u001B[38;5;21mmerge\u001B[39m(\u001B[38;5;28mself\u001B[39m, \u001B[38;5;241m*\u001B[39margs, \u001B[38;5;241m*\u001B[39m\u001B[38;5;241m*\u001B[39mkwargs):\n\u001B[0;32m   1358\u001B[0m     \u001B[38;5;124mr\u001B[39m\u001B[38;5;124;03m\"\"\"Merge two ``GeoDataFrame`` objects with a database-style join.\u001B[39;00m\n\u001B[0;32m   1359\u001B[0m \n\u001B[0;32m   1360\u001B[0m \u001B[38;5;124;03m    Returns a ``GeoDataFrame`` if a geometry column is present; otherwise,\u001B[39;00m\n\u001B[1;32m   (...)\u001B[0m\n\u001B[0;32m   1376\u001B[0m \n\u001B[0;32m   1377\u001B[0m \u001B[38;5;124;03m    \"\"\"\u001B[39;00m\n\u001B[1;32m-> 1378\u001B[0m     result \u001B[38;5;241m=\u001B[39m DataFrame\u001B[38;5;241m.\u001B[39mmerge(\u001B[38;5;28mself\u001B[39m, \u001B[38;5;241m*\u001B[39margs, \u001B[38;5;241m*\u001B[39m\u001B[38;5;241m*\u001B[39mkwargs)\n\u001B[0;32m   1379\u001B[0m     geo_col \u001B[38;5;241m=\u001B[39m \u001B[38;5;28mself\u001B[39m\u001B[38;5;241m.\u001B[39m_geometry_column_name\n\u001B[0;32m   1380\u001B[0m     \u001B[38;5;28;01mif\u001B[39;00m \u001B[38;5;28misinstance\u001B[39m(result, DataFrame) \u001B[38;5;129;01mand\u001B[39;00m geo_col \u001B[38;5;129;01min\u001B[39;00m result:\n",
      "File \u001B[1;32m~\\AppData\\Roaming\\Python\\Python310\\site-packages\\pandas\\core\\frame.py:10090\u001B[0m, in \u001B[0;36mDataFrame.merge\u001B[1;34m(self, right, how, on, left_on, right_on, left_index, right_index, sort, suffixes, copy, indicator, validate)\u001B[0m\n\u001B[0;32m  10071\u001B[0m \u001B[38;5;129m@Substitution\u001B[39m(\u001B[38;5;124m\"\u001B[39m\u001B[38;5;124m\"\u001B[39m)\n\u001B[0;32m  10072\u001B[0m \u001B[38;5;129m@Appender\u001B[39m(_merge_doc, indents\u001B[38;5;241m=\u001B[39m\u001B[38;5;241m2\u001B[39m)\n\u001B[0;32m  10073\u001B[0m \u001B[38;5;28;01mdef\u001B[39;00m \u001B[38;5;21mmerge\u001B[39m(\n\u001B[1;32m   (...)\u001B[0m\n\u001B[0;32m  10086\u001B[0m     validate: \u001B[38;5;28mstr\u001B[39m \u001B[38;5;241m|\u001B[39m \u001B[38;5;28;01mNone\u001B[39;00m \u001B[38;5;241m=\u001B[39m \u001B[38;5;28;01mNone\u001B[39;00m,\n\u001B[0;32m  10087\u001B[0m ) \u001B[38;5;241m-\u001B[39m\u001B[38;5;241m>\u001B[39m DataFrame:\n\u001B[0;32m  10088\u001B[0m     \u001B[38;5;28;01mfrom\u001B[39;00m \u001B[38;5;21;01mpandas\u001B[39;00m\u001B[38;5;21;01m.\u001B[39;00m\u001B[38;5;21;01mcore\u001B[39;00m\u001B[38;5;21;01m.\u001B[39;00m\u001B[38;5;21;01mreshape\u001B[39;00m\u001B[38;5;21;01m.\u001B[39;00m\u001B[38;5;21;01mmerge\u001B[39;00m \u001B[38;5;28;01mimport\u001B[39;00m merge\n\u001B[1;32m> 10090\u001B[0m     \u001B[38;5;28;01mreturn\u001B[39;00m \u001B[43mmerge\u001B[49m\u001B[43m(\u001B[49m\n\u001B[0;32m  10091\u001B[0m \u001B[43m        \u001B[49m\u001B[38;5;28;43mself\u001B[39;49m\u001B[43m,\u001B[49m\n\u001B[0;32m  10092\u001B[0m \u001B[43m        \u001B[49m\u001B[43mright\u001B[49m\u001B[43m,\u001B[49m\n\u001B[0;32m  10093\u001B[0m \u001B[43m        \u001B[49m\u001B[43mhow\u001B[49m\u001B[38;5;241;43m=\u001B[39;49m\u001B[43mhow\u001B[49m\u001B[43m,\u001B[49m\n\u001B[0;32m  10094\u001B[0m \u001B[43m        \u001B[49m\u001B[43mon\u001B[49m\u001B[38;5;241;43m=\u001B[39;49m\u001B[43mon\u001B[49m\u001B[43m,\u001B[49m\n\u001B[0;32m  10095\u001B[0m \u001B[43m        \u001B[49m\u001B[43mleft_on\u001B[49m\u001B[38;5;241;43m=\u001B[39;49m\u001B[43mleft_on\u001B[49m\u001B[43m,\u001B[49m\n\u001B[0;32m  10096\u001B[0m \u001B[43m        \u001B[49m\u001B[43mright_on\u001B[49m\u001B[38;5;241;43m=\u001B[39;49m\u001B[43mright_on\u001B[49m\u001B[43m,\u001B[49m\n\u001B[0;32m  10097\u001B[0m \u001B[43m        \u001B[49m\u001B[43mleft_index\u001B[49m\u001B[38;5;241;43m=\u001B[39;49m\u001B[43mleft_index\u001B[49m\u001B[43m,\u001B[49m\n\u001B[0;32m  10098\u001B[0m \u001B[43m        \u001B[49m\u001B[43mright_index\u001B[49m\u001B[38;5;241;43m=\u001B[39;49m\u001B[43mright_index\u001B[49m\u001B[43m,\u001B[49m\n\u001B[0;32m  10099\u001B[0m \u001B[43m        \u001B[49m\u001B[43msort\u001B[49m\u001B[38;5;241;43m=\u001B[39;49m\u001B[43msort\u001B[49m\u001B[43m,\u001B[49m\n\u001B[0;32m  10100\u001B[0m \u001B[43m        \u001B[49m\u001B[43msuffixes\u001B[49m\u001B[38;5;241;43m=\u001B[39;49m\u001B[43msuffixes\u001B[49m\u001B[43m,\u001B[49m\n\u001B[0;32m  10101\u001B[0m \u001B[43m        \u001B[49m\u001B[43mcopy\u001B[49m\u001B[38;5;241;43m=\u001B[39;49m\u001B[43mcopy\u001B[49m\u001B[43m,\u001B[49m\n\u001B[0;32m  10102\u001B[0m \u001B[43m        \u001B[49m\u001B[43mindicator\u001B[49m\u001B[38;5;241;43m=\u001B[39;49m\u001B[43mindicator\u001B[49m\u001B[43m,\u001B[49m\n\u001B[0;32m  10103\u001B[0m \u001B[43m        \u001B[49m\u001B[43mvalidate\u001B[49m\u001B[38;5;241;43m=\u001B[39;49m\u001B[43mvalidate\u001B[49m\u001B[43m,\u001B[49m\n\u001B[0;32m  10104\u001B[0m \u001B[43m    \u001B[49m\u001B[43m)\u001B[49m\n",
      "File \u001B[1;32m~\\AppData\\Roaming\\Python\\Python310\\site-packages\\pandas\\core\\reshape\\merge.py:110\u001B[0m, in \u001B[0;36mmerge\u001B[1;34m(left, right, how, on, left_on, right_on, left_index, right_index, sort, suffixes, copy, indicator, validate)\u001B[0m\n\u001B[0;32m     93\u001B[0m \u001B[38;5;129m@Substitution\u001B[39m(\u001B[38;5;124m\"\u001B[39m\u001B[38;5;130;01m\\n\u001B[39;00m\u001B[38;5;124mleft : DataFrame or named Series\u001B[39m\u001B[38;5;124m\"\u001B[39m)\n\u001B[0;32m     94\u001B[0m \u001B[38;5;129m@Appender\u001B[39m(_merge_doc, indents\u001B[38;5;241m=\u001B[39m\u001B[38;5;241m0\u001B[39m)\n\u001B[0;32m     95\u001B[0m \u001B[38;5;28;01mdef\u001B[39;00m \u001B[38;5;21mmerge\u001B[39m(\n\u001B[1;32m   (...)\u001B[0m\n\u001B[0;32m    108\u001B[0m     validate: \u001B[38;5;28mstr\u001B[39m \u001B[38;5;241m|\u001B[39m \u001B[38;5;28;01mNone\u001B[39;00m \u001B[38;5;241m=\u001B[39m \u001B[38;5;28;01mNone\u001B[39;00m,\n\u001B[0;32m    109\u001B[0m ) \u001B[38;5;241m-\u001B[39m\u001B[38;5;241m>\u001B[39m DataFrame:\n\u001B[1;32m--> 110\u001B[0m     op \u001B[38;5;241m=\u001B[39m \u001B[43m_MergeOperation\u001B[49m\u001B[43m(\u001B[49m\n\u001B[0;32m    111\u001B[0m \u001B[43m        \u001B[49m\u001B[43mleft\u001B[49m\u001B[43m,\u001B[49m\n\u001B[0;32m    112\u001B[0m \u001B[43m        \u001B[49m\u001B[43mright\u001B[49m\u001B[43m,\u001B[49m\n\u001B[0;32m    113\u001B[0m \u001B[43m        \u001B[49m\u001B[43mhow\u001B[49m\u001B[38;5;241;43m=\u001B[39;49m\u001B[43mhow\u001B[49m\u001B[43m,\u001B[49m\n\u001B[0;32m    114\u001B[0m \u001B[43m        \u001B[49m\u001B[43mon\u001B[49m\u001B[38;5;241;43m=\u001B[39;49m\u001B[43mon\u001B[49m\u001B[43m,\u001B[49m\n\u001B[0;32m    115\u001B[0m \u001B[43m        \u001B[49m\u001B[43mleft_on\u001B[49m\u001B[38;5;241;43m=\u001B[39;49m\u001B[43mleft_on\u001B[49m\u001B[43m,\u001B[49m\n\u001B[0;32m    116\u001B[0m \u001B[43m        \u001B[49m\u001B[43mright_on\u001B[49m\u001B[38;5;241;43m=\u001B[39;49m\u001B[43mright_on\u001B[49m\u001B[43m,\u001B[49m\n\u001B[0;32m    117\u001B[0m \u001B[43m        \u001B[49m\u001B[43mleft_index\u001B[49m\u001B[38;5;241;43m=\u001B[39;49m\u001B[43mleft_index\u001B[49m\u001B[43m,\u001B[49m\n\u001B[0;32m    118\u001B[0m \u001B[43m        \u001B[49m\u001B[43mright_index\u001B[49m\u001B[38;5;241;43m=\u001B[39;49m\u001B[43mright_index\u001B[49m\u001B[43m,\u001B[49m\n\u001B[0;32m    119\u001B[0m \u001B[43m        \u001B[49m\u001B[43msort\u001B[49m\u001B[38;5;241;43m=\u001B[39;49m\u001B[43msort\u001B[49m\u001B[43m,\u001B[49m\n\u001B[0;32m    120\u001B[0m \u001B[43m        \u001B[49m\u001B[43msuffixes\u001B[49m\u001B[38;5;241;43m=\u001B[39;49m\u001B[43msuffixes\u001B[49m\u001B[43m,\u001B[49m\n\u001B[0;32m    121\u001B[0m \u001B[43m        \u001B[49m\u001B[43mindicator\u001B[49m\u001B[38;5;241;43m=\u001B[39;49m\u001B[43mindicator\u001B[49m\u001B[43m,\u001B[49m\n\u001B[0;32m    122\u001B[0m \u001B[43m        \u001B[49m\u001B[43mvalidate\u001B[49m\u001B[38;5;241;43m=\u001B[39;49m\u001B[43mvalidate\u001B[49m\u001B[43m,\u001B[49m\n\u001B[0;32m    123\u001B[0m \u001B[43m    \u001B[49m\u001B[43m)\u001B[49m\n\u001B[0;32m    124\u001B[0m     \u001B[38;5;28;01mreturn\u001B[39;00m op\u001B[38;5;241m.\u001B[39mget_result(copy\u001B[38;5;241m=\u001B[39mcopy)\n",
      "File \u001B[1;32m~\\AppData\\Roaming\\Python\\Python310\\site-packages\\pandas\\core\\reshape\\merge.py:703\u001B[0m, in \u001B[0;36m_MergeOperation.__init__\u001B[1;34m(self, left, right, how, on, left_on, right_on, axis, left_index, right_index, sort, suffixes, indicator, validate)\u001B[0m\n\u001B[0;32m    696\u001B[0m \u001B[38;5;28mself\u001B[39m\u001B[38;5;241m.\u001B[39m_cross \u001B[38;5;241m=\u001B[39m cross_col\n\u001B[0;32m    698\u001B[0m \u001B[38;5;66;03m# note this function has side effects\u001B[39;00m\n\u001B[0;32m    699\u001B[0m (\n\u001B[0;32m    700\u001B[0m     \u001B[38;5;28mself\u001B[39m\u001B[38;5;241m.\u001B[39mleft_join_keys,\n\u001B[0;32m    701\u001B[0m     \u001B[38;5;28mself\u001B[39m\u001B[38;5;241m.\u001B[39mright_join_keys,\n\u001B[0;32m    702\u001B[0m     \u001B[38;5;28mself\u001B[39m\u001B[38;5;241m.\u001B[39mjoin_names,\n\u001B[1;32m--> 703\u001B[0m ) \u001B[38;5;241m=\u001B[39m \u001B[38;5;28;43mself\u001B[39;49m\u001B[38;5;241;43m.\u001B[39;49m\u001B[43m_get_merge_keys\u001B[49m\u001B[43m(\u001B[49m\u001B[43m)\u001B[49m\n\u001B[0;32m    705\u001B[0m \u001B[38;5;66;03m# validate the merge keys dtypes. We may need to coerce\u001B[39;00m\n\u001B[0;32m    706\u001B[0m \u001B[38;5;66;03m# to avoid incompatible dtypes\u001B[39;00m\n\u001B[0;32m    707\u001B[0m \u001B[38;5;28mself\u001B[39m\u001B[38;5;241m.\u001B[39m_maybe_coerce_merge_keys()\n",
      "File \u001B[1;32m~\\AppData\\Roaming\\Python\\Python310\\site-packages\\pandas\\core\\reshape\\merge.py:1162\u001B[0m, in \u001B[0;36m_MergeOperation._get_merge_keys\u001B[1;34m(self)\u001B[0m\n\u001B[0;32m   1160\u001B[0m rk \u001B[38;5;241m=\u001B[39m cast(Hashable, rk)\n\u001B[0;32m   1161\u001B[0m \u001B[38;5;28;01mif\u001B[39;00m rk \u001B[38;5;129;01mis\u001B[39;00m \u001B[38;5;129;01mnot\u001B[39;00m \u001B[38;5;28;01mNone\u001B[39;00m:\n\u001B[1;32m-> 1162\u001B[0m     right_keys\u001B[38;5;241m.\u001B[39mappend(\u001B[43mright\u001B[49m\u001B[38;5;241;43m.\u001B[39;49m\u001B[43m_get_label_or_level_values\u001B[49m\u001B[43m(\u001B[49m\u001B[43mrk\u001B[49m\u001B[43m)\u001B[49m)\n\u001B[0;32m   1163\u001B[0m \u001B[38;5;28;01melse\u001B[39;00m:\n\u001B[0;32m   1164\u001B[0m     \u001B[38;5;66;03m# work-around for merge_asof(right_index=True)\u001B[39;00m\n\u001B[0;32m   1165\u001B[0m     right_keys\u001B[38;5;241m.\u001B[39mappend(right\u001B[38;5;241m.\u001B[39mindex)\n",
      "File \u001B[1;32m~\\AppData\\Roaming\\Python\\Python310\\site-packages\\pandas\\core\\generic.py:1850\u001B[0m, in \u001B[0;36mNDFrame._get_label_or_level_values\u001B[1;34m(self, key, axis)\u001B[0m\n\u001B[0;32m   1844\u001B[0m     values \u001B[38;5;241m=\u001B[39m (\n\u001B[0;32m   1845\u001B[0m         \u001B[38;5;28mself\u001B[39m\u001B[38;5;241m.\u001B[39maxes[axis]\n\u001B[0;32m   1846\u001B[0m         \u001B[38;5;241m.\u001B[39mget_level_values(key)  \u001B[38;5;66;03m# type: ignore[assignment]\u001B[39;00m\n\u001B[0;32m   1847\u001B[0m         \u001B[38;5;241m.\u001B[39m_values\n\u001B[0;32m   1848\u001B[0m     )\n\u001B[0;32m   1849\u001B[0m \u001B[38;5;28;01melse\u001B[39;00m:\n\u001B[1;32m-> 1850\u001B[0m     \u001B[38;5;28;01mraise\u001B[39;00m \u001B[38;5;167;01mKeyError\u001B[39;00m(key)\n\u001B[0;32m   1852\u001B[0m \u001B[38;5;66;03m# Check for duplicates\u001B[39;00m\n\u001B[0;32m   1853\u001B[0m \u001B[38;5;28;01mif\u001B[39;00m values\u001B[38;5;241m.\u001B[39mndim \u001B[38;5;241m>\u001B[39m \u001B[38;5;241m1\u001B[39m:\n",
      "\u001B[1;31mKeyError\u001B[0m: 'opa_account_num'"
     ]
    }
   ],
   "source": [
    "# left join the complaints_gdf to the joined_gdf on address\n",
    "joined_gdf = joined_gdf.merge(complaints_gdf, how='left', left_on='ADDRESS', right_on='address')"
   ]
  },
  {
   "cell_type": "code",
   "execution_count": 67,
   "outputs": [
    {
     "data": {
      "text/plain": "                                            geometry            ADDRESS  \\\n0  POLYGON ((2687288.658 256633.610, 2687182.517 ...     3232 HENRY AVE   \n1  POLYGON ((2675581.284 242098.205, 2675611.529 ...      633 N 53RD ST   \n2  POLYGON ((2694596.085 250002.568, 2694596.038 ...     2424 N MOLE ST   \n3  POLYGON ((2699251.414 246745.626, 2699244.611 ...   437 ARLINGTON ST   \n4  POLYGON ((2695074.333 251699.409, 2695026.589 ...    2735 N HICKS ST   \n5  POLYGON ((2669606.650 269755.318, 2669527.656 ...   271 HILLSIDE AVE   \n6  POLYGON ((2669069.573 216755.483, 2669019.079 ...     2506 S 82ND ST   \n7  POLYGON ((2692305.769 267025.794, 2692287.878 ...  5313 BELFIELD AVE   \n8  POLYGON ((2671363.932 240660.448, 2671409.874 ...      252 N 61ST ST   \n9  POLYGON ((2689424.562 229524.639, 2689415.798 ...       2041 REED ST   \n\n                BLDG_DESC     OPA_ID COUNCILDISTRICT ZIPCODE type  \\\n0  COM.CONDO.1STY MASONRY  882921188               4   19129  Lot   \n1     VAC LAND RES < ACRE  442316810               3   19131  Lot   \n2     VAC LAND RES < ACRE  161064101               5   19132  Lot   \n3     VAC LAND RES < ACRE  183194500               7   19122  Lot   \n4     VAC LAND RES < ACRE  111168200               8   19132  Lot   \n5     VAC LAND RES < ACRE  212376000               4   19128  Lot   \n6     VAC LAND RES < ACRE  405818503               2   19153  Lot   \n7     VAC LAND RES < ACRE  122158700               8   19144  Lot   \n8       ROW 2 STY MASONRY  341145900               4   19139  Lot   \n9   VAC LAND COMM. < ACRE  885396760               2   19146  Lot   \n\n                                     OWNER  public_owner COMM_PARTN address  \\\n0                  NEWCOURTLAND ELDER SVCS         False       None     NaN   \n1  REDEVELOPMENT AUTHORITY OF PHILADELPHIA          True       None     NaN   \n2  REDEVELOPMENT AUTHORITY OF PHILADELPHIA          True       None     NaN   \n3                              MCHUGH JOHN         False       None     NaN   \n4               VICTORIA; HERBERT MITCHELL         False       None     NaN   \n5                 HAZLET SHAWMONT HOLDINGS         False       None     NaN   \n6                        NEW EASTWICK CORP         False       None     NaN   \n7                           SHIRLEY DWAYNE         False       None     NaN   \n8                CITY BLOCK ACQUISITION XI         False       None     NaN   \n9                GREATER DELIVERANCE TEMPL         False       None     NaN   \n\n  li_complaints  \n0           NaN  \n1           NaN  \n2           NaN  \n3           NaN  \n4           NaN  \n5           NaN  \n6           NaN  \n7           NaN  \n8           NaN  \n9           NaN  ",
      "text/html": "<div>\n<style scoped>\n    .dataframe tbody tr th:only-of-type {\n        vertical-align: middle;\n    }\n\n    .dataframe tbody tr th {\n        vertical-align: top;\n    }\n\n    .dataframe thead th {\n        text-align: right;\n    }\n</style>\n<table border=\"1\" class=\"dataframe\">\n  <thead>\n    <tr style=\"text-align: right;\">\n      <th></th>\n      <th>geometry</th>\n      <th>ADDRESS</th>\n      <th>BLDG_DESC</th>\n      <th>OPA_ID</th>\n      <th>COUNCILDISTRICT</th>\n      <th>ZIPCODE</th>\n      <th>type</th>\n      <th>OWNER</th>\n      <th>public_owner</th>\n      <th>COMM_PARTN</th>\n      <th>address</th>\n      <th>li_complaints</th>\n    </tr>\n  </thead>\n  <tbody>\n    <tr>\n      <th>0</th>\n      <td>POLYGON ((2687288.658 256633.610, 2687182.517 ...</td>\n      <td>3232 HENRY AVE</td>\n      <td>COM.CONDO.1STY MASONRY</td>\n      <td>882921188</td>\n      <td>4</td>\n      <td>19129</td>\n      <td>Lot</td>\n      <td>NEWCOURTLAND ELDER SVCS</td>\n      <td>False</td>\n      <td>None</td>\n      <td>NaN</td>\n      <td>NaN</td>\n    </tr>\n    <tr>\n      <th>1</th>\n      <td>POLYGON ((2675581.284 242098.205, 2675611.529 ...</td>\n      <td>633 N 53RD ST</td>\n      <td>VAC LAND RES &lt; ACRE</td>\n      <td>442316810</td>\n      <td>3</td>\n      <td>19131</td>\n      <td>Lot</td>\n      <td>REDEVELOPMENT AUTHORITY OF PHILADELPHIA</td>\n      <td>True</td>\n      <td>None</td>\n      <td>NaN</td>\n      <td>NaN</td>\n    </tr>\n    <tr>\n      <th>2</th>\n      <td>POLYGON ((2694596.085 250002.568, 2694596.038 ...</td>\n      <td>2424 N MOLE ST</td>\n      <td>VAC LAND RES &lt; ACRE</td>\n      <td>161064101</td>\n      <td>5</td>\n      <td>19132</td>\n      <td>Lot</td>\n      <td>REDEVELOPMENT AUTHORITY OF PHILADELPHIA</td>\n      <td>True</td>\n      <td>None</td>\n      <td>NaN</td>\n      <td>NaN</td>\n    </tr>\n    <tr>\n      <th>3</th>\n      <td>POLYGON ((2699251.414 246745.626, 2699244.611 ...</td>\n      <td>437 ARLINGTON ST</td>\n      <td>VAC LAND RES &lt; ACRE</td>\n      <td>183194500</td>\n      <td>7</td>\n      <td>19122</td>\n      <td>Lot</td>\n      <td>MCHUGH JOHN</td>\n      <td>False</td>\n      <td>None</td>\n      <td>NaN</td>\n      <td>NaN</td>\n    </tr>\n    <tr>\n      <th>4</th>\n      <td>POLYGON ((2695074.333 251699.409, 2695026.589 ...</td>\n      <td>2735 N HICKS ST</td>\n      <td>VAC LAND RES &lt; ACRE</td>\n      <td>111168200</td>\n      <td>8</td>\n      <td>19132</td>\n      <td>Lot</td>\n      <td>VICTORIA; HERBERT MITCHELL</td>\n      <td>False</td>\n      <td>None</td>\n      <td>NaN</td>\n      <td>NaN</td>\n    </tr>\n    <tr>\n      <th>5</th>\n      <td>POLYGON ((2669606.650 269755.318, 2669527.656 ...</td>\n      <td>271 HILLSIDE AVE</td>\n      <td>VAC LAND RES &lt; ACRE</td>\n      <td>212376000</td>\n      <td>4</td>\n      <td>19128</td>\n      <td>Lot</td>\n      <td>HAZLET SHAWMONT HOLDINGS</td>\n      <td>False</td>\n      <td>None</td>\n      <td>NaN</td>\n      <td>NaN</td>\n    </tr>\n    <tr>\n      <th>6</th>\n      <td>POLYGON ((2669069.573 216755.483, 2669019.079 ...</td>\n      <td>2506 S 82ND ST</td>\n      <td>VAC LAND RES &lt; ACRE</td>\n      <td>405818503</td>\n      <td>2</td>\n      <td>19153</td>\n      <td>Lot</td>\n      <td>NEW EASTWICK CORP</td>\n      <td>False</td>\n      <td>None</td>\n      <td>NaN</td>\n      <td>NaN</td>\n    </tr>\n    <tr>\n      <th>7</th>\n      <td>POLYGON ((2692305.769 267025.794, 2692287.878 ...</td>\n      <td>5313 BELFIELD AVE</td>\n      <td>VAC LAND RES &lt; ACRE</td>\n      <td>122158700</td>\n      <td>8</td>\n      <td>19144</td>\n      <td>Lot</td>\n      <td>SHIRLEY DWAYNE</td>\n      <td>False</td>\n      <td>None</td>\n      <td>NaN</td>\n      <td>NaN</td>\n    </tr>\n    <tr>\n      <th>8</th>\n      <td>POLYGON ((2671363.932 240660.448, 2671409.874 ...</td>\n      <td>252 N 61ST ST</td>\n      <td>ROW 2 STY MASONRY</td>\n      <td>341145900</td>\n      <td>4</td>\n      <td>19139</td>\n      <td>Lot</td>\n      <td>CITY BLOCK ACQUISITION XI</td>\n      <td>False</td>\n      <td>None</td>\n      <td>NaN</td>\n      <td>NaN</td>\n    </tr>\n    <tr>\n      <th>9</th>\n      <td>POLYGON ((2689424.562 229524.639, 2689415.798 ...</td>\n      <td>2041 REED ST</td>\n      <td>VAC LAND COMM. &lt; ACRE</td>\n      <td>885396760</td>\n      <td>2</td>\n      <td>19146</td>\n      <td>Lot</td>\n      <td>GREATER DELIVERANCE TEMPL</td>\n      <td>False</td>\n      <td>None</td>\n      <td>NaN</td>\n      <td>NaN</td>\n    </tr>\n  </tbody>\n</table>\n</div>"
     },
     "execution_count": 67,
     "metadata": {},
     "output_type": "execute_result"
    }
   ],
   "source": [
    "joined_gdf.head(10)"
   ],
   "metadata": {
    "collapsed": false,
    "ExecuteTime": {
     "start_time": "2023-05-10T11:04:44.497427Z",
     "end_time": "2023-05-10T11:04:44.510939Z"
    }
   }
  },
  {
   "cell_type": "code",
   "execution_count": 0,
   "outputs": [],
   "source": [
    "# left join the violations_gdf to the joined_gdf on opa_account_num\n",
    "joined_gdf = joined_gdf.merge(violations_gdf, how='left', left_on='OPA_ID', right_on='opa_account_num')"
   ],
   "metadata": {
    "collapsed": false
   }
  },
  {
   "cell_type": "code",
   "execution_count": 34,
   "outputs": [],
   "source": [
    "\n",
    "# drop the address and opa_account_num columns\n",
    "joined_gdf.drop(['address', 'opa_account_num'], axis=1, inplace=True)"
   ],
   "metadata": {
    "collapsed": false
   }
  },
  {
   "cell_type": "code",
   "execution_count": 35,
   "outputs": [
    {
     "data": {
      "text/plain": "                                            geometry           ADDRESS  \\\n0  POLYGON ((2687288.658 256633.610, 2687182.517 ...    3232 HENRY AVE   \n1  POLYGON ((2675581.284 242098.205, 2675611.529 ...     633 N 53RD ST   \n2  POLYGON ((2694596.085 250002.568, 2694596.038 ...    2424 N MOLE ST   \n3  POLYGON ((2699251.414 246745.626, 2699244.611 ...  437 ARLINGTON ST   \n4  POLYGON ((2695074.333 251699.409, 2695026.589 ...   2735 N HICKS ST   \n\n                BLDG_DESC     OPA_ID COUNCILDISTRICT ZIPCODE type  \\\n0  COM.CONDO.1STY MASONRY  882921188               4   19129  Lot   \n1     VAC LAND RES < ACRE  442316810               3   19131  Lot   \n2     VAC LAND RES < ACRE  161064101               5   19132  Lot   \n3     VAC LAND RES < ACRE  183194500               7   19122  Lot   \n4     VAC LAND RES < ACRE  111168200               8   19132  Lot   \n\n                                     OWNER  public_owner COMM_PARTN  \\\n0                  NEWCOURTLAND ELDER SVCS         False       None   \n1  REDEVELOPMENT AUTHORITY OF PHILADELPHIA          True       None   \n2  REDEVELOPMENT AUTHORITY OF PHILADELPHIA          True       None   \n3                              MCHUGH JOHN         False       None   \n4               VICTORIA; HERBERT MITCHELL         False       None   \n\n  li_complaints li_code_violations  \n0           NaN                NaN  \n1           NaN                NaN  \n2           NaN                NaN  \n3           NaN                NaN  \n4           NaN                NaN  ",
      "text/html": "<div>\n<style scoped>\n    .dataframe tbody tr th:only-of-type {\n        vertical-align: middle;\n    }\n\n    .dataframe tbody tr th {\n        vertical-align: top;\n    }\n\n    .dataframe thead th {\n        text-align: right;\n    }\n</style>\n<table border=\"1\" class=\"dataframe\">\n  <thead>\n    <tr style=\"text-align: right;\">\n      <th></th>\n      <th>geometry</th>\n      <th>ADDRESS</th>\n      <th>BLDG_DESC</th>\n      <th>OPA_ID</th>\n      <th>COUNCILDISTRICT</th>\n      <th>ZIPCODE</th>\n      <th>type</th>\n      <th>OWNER</th>\n      <th>public_owner</th>\n      <th>COMM_PARTN</th>\n      <th>li_complaints</th>\n      <th>li_code_violations</th>\n    </tr>\n  </thead>\n  <tbody>\n    <tr>\n      <th>0</th>\n      <td>POLYGON ((2687288.658 256633.610, 2687182.517 ...</td>\n      <td>3232 HENRY AVE</td>\n      <td>COM.CONDO.1STY MASONRY</td>\n      <td>882921188</td>\n      <td>4</td>\n      <td>19129</td>\n      <td>Lot</td>\n      <td>NEWCOURTLAND ELDER SVCS</td>\n      <td>False</td>\n      <td>None</td>\n      <td>NaN</td>\n      <td>NaN</td>\n    </tr>\n    <tr>\n      <th>1</th>\n      <td>POLYGON ((2675581.284 242098.205, 2675611.529 ...</td>\n      <td>633 N 53RD ST</td>\n      <td>VAC LAND RES &lt; ACRE</td>\n      <td>442316810</td>\n      <td>3</td>\n      <td>19131</td>\n      <td>Lot</td>\n      <td>REDEVELOPMENT AUTHORITY OF PHILADELPHIA</td>\n      <td>True</td>\n      <td>None</td>\n      <td>NaN</td>\n      <td>NaN</td>\n    </tr>\n    <tr>\n      <th>2</th>\n      <td>POLYGON ((2694596.085 250002.568, 2694596.038 ...</td>\n      <td>2424 N MOLE ST</td>\n      <td>VAC LAND RES &lt; ACRE</td>\n      <td>161064101</td>\n      <td>5</td>\n      <td>19132</td>\n      <td>Lot</td>\n      <td>REDEVELOPMENT AUTHORITY OF PHILADELPHIA</td>\n      <td>True</td>\n      <td>None</td>\n      <td>NaN</td>\n      <td>NaN</td>\n    </tr>\n    <tr>\n      <th>3</th>\n      <td>POLYGON ((2699251.414 246745.626, 2699244.611 ...</td>\n      <td>437 ARLINGTON ST</td>\n      <td>VAC LAND RES &lt; ACRE</td>\n      <td>183194500</td>\n      <td>7</td>\n      <td>19122</td>\n      <td>Lot</td>\n      <td>MCHUGH JOHN</td>\n      <td>False</td>\n      <td>None</td>\n      <td>NaN</td>\n      <td>NaN</td>\n    </tr>\n    <tr>\n      <th>4</th>\n      <td>POLYGON ((2695074.333 251699.409, 2695026.589 ...</td>\n      <td>2735 N HICKS ST</td>\n      <td>VAC LAND RES &lt; ACRE</td>\n      <td>111168200</td>\n      <td>8</td>\n      <td>19132</td>\n      <td>Lot</td>\n      <td>VICTORIA; HERBERT MITCHELL</td>\n      <td>False</td>\n      <td>None</td>\n      <td>NaN</td>\n      <td>NaN</td>\n    </tr>\n  </tbody>\n</table>\n</div>"
     },
     "execution_count": 35,
     "metadata": {},
     "output_type": "execute_result"
    }
   ],
   "source": [
    "joined_gdf.head()"
   ],
   "metadata": {
    "collapsed": false,
    "ExecuteTime": {
     "start_time": "2023-05-10T10:53:47.998025Z",
     "end_time": "2023-05-10T10:53:48.015030Z"
    }
   }
  },
  {
   "attachments": {},
   "cell_type": "markdown",
   "metadata": {},
   "source": [
    "### Next, we'll add a centroids column to the joined_gdf in order to make it easier to cleanly join neighborhoods, RCOs, tree canopy, and guncrime data."
   ]
  },
  {
   "attachments": {},
   "cell_type": "markdown",
   "metadata": {},
   "source": [
    "Joining by points rather than polygons makes it far less likely that a point straddles two polygons, which make the join ambiguous and potentially incorrect."
   ]
  },
  {
   "cell_type": "code",
   "execution_count": null,
   "metadata": {},
   "outputs": [],
   "source": [
    "# add a column for centroids geometry to use for joins and to extrct raster values\n",
    "joined_gdf['centroid'] = joined_gdf['geometry'].centroid\n",
    "\n",
    "# create a geodata of polygon geoms and opa_id\n",
    "poly_gdf = joined_gdf[['OPA_ID', 'geometry']]\n",
    "\n",
    "# drop the 'geometry' column from joined_gdf\n",
    "joined_gdf.drop(['geometry'], axis=1, inplace=True)\n",
    "\n",
    "# set the 'centroid' column as the geometry column\n",
    "joined_gdf.set_geometry('centroid', inplace=True)"
   ]
  },
  {
   "attachments": {},
   "cell_type": "markdown",
   "metadata": {},
   "source": [
    "### Import Philadelphia's Neighborhoods from Azavea"
   ]
  },
  {
   "cell_type": "code",
   "execution_count": null,
   "metadata": {},
   "outputs": [],
   "source": [
    "hoods_url = 'https://github.com/azavea/geo-data/raw/master/Neighborhoods_Philadelphia/Neighborhoods_Philadelphia.zip'\n",
    "\n",
    "hoods_response = requests.get(hoods_url)\n",
    "\n",
    "with io.BytesIO(hoods_response.content) as f:\n",
    "    with zipfile.ZipFile(f, 'r') as zip_ref:\n",
    "        zip_ref.extractall(\"path/to/destination/folder\")\n",
    "        \n",
    "hoods = gpd.read_file(\"path/to/destination/folder/Neighborhoods_Philadelphia.shp\")\n",
    "\n",
    "hoods = hoods.to_crs(epsg=2272)"
   ]
  },
  {
   "cell_type": "code",
   "execution_count": null,
   "metadata": {},
   "outputs": [],
   "source": [
    "joined_gdf = gpd.sjoin(joined_gdf, hoods, how='left', predicate='intersects')\n",
    "\n",
    "joined_gdf = joined_gdf.drop(['index_right', 'NAME', 'LISTNAME', 'Shape_Leng', 'Shape_Area'], axis=1)\n",
    "\n",
    "joined_gdf.rename(columns={'MAPNAME': 'neighborhood'}, inplace=True)"
   ]
  },
  {
   "attachments": {},
   "cell_type": "markdown",
   "metadata": {},
   "source": [
    "### Import RCOs from the City"
   ]
  },
  {
   "cell_type": "code",
   "execution_count": null,
   "metadata": {},
   "outputs": [],
   "source": [
    "# Define the URL for the RCOs feature service\n",
    "rcos_url = 'https://services.arcgis.com/fLeGjb7u4uXqeF9q/ArcGIS/rest/services/Zoning_RCO/FeatureServer/0/query'\n",
    "\n",
    "# Define the parameters for the RCOs API request\n",
    "rcos_params = {\n",
    "    'where': '1=1',\n",
    "    'outFields': '*',\n",
    "    'returnGeometry': 'true',\n",
    "    'f': 'json'\n",
    "}\n",
    "\n",
    "# Make the RCOs API request\n",
    "rcos_response = requests.get(rcos_url, params=rcos_params)\n",
    "\n",
    "# Check if the RCOs request was successful\n",
    "if rcos_response.status_code == 200:\n",
    "    # Convert the RCOs JSON data to a geopandas geodataframe; convert to CRS 3857\n",
    "    rcos_data = rcos_response.json()\n",
    "\n",
    "    # convert the JSON data to a pandas dataframe\n",
    "    rcos_df = pd.DataFrame(rcos_data['features'])\n",
    "\n",
    "    # separate the attributes column into one column per attribute\n",
    "    rcos_df = pd.concat([rcos_df.drop(['attributes'], axis=1), rcos_df['attributes'].apply(pd.Series)], axis=1)\n",
    "\n",
    "else:\n",
    "    print('RCOs Request failed with status code:', rcos_response.status_code)\n",
    "\n",
    "\n",
    "# make the `geometry` column a shapely geometry object\n",
    "rcos_df['geometry'] = rcos_df['geometry'].apply(lambda x: Polygon(x['rings'][0]))\n",
    "\n",
    "\n",
    " # convert the pandas dataframe to a geopandas geodataframe\n",
    "rcos_gdf = gpd.GeoDataFrame(rcos_df, geometry='geometry', crs='EPSG:3857')\n",
    "\n",
    "rcos_gdf.to_crs(epsg=2272, inplace=True)\n",
    "\n",
    "rcos_cols = ['geometry', 'ORGANIZATION_NAME', 'ORGANIZATION_ADDRESS',\n",
    "       'ORG_TYPE', 'PREFFERED_CONTACT_METHOD',\n",
    "       'PRIMARY_NAME', 'PRIMARY_ADDRESS', 'PRIMARY_EMAIL', 'PRIMARY_PHONE',\n",
    "       'EXPIRATIONYEAR']\n",
    "\n",
    "# convert primary_phone and expirationyear to strings\n",
    "rcos_gdf['PRIMARY_PHONE'] = rcos_gdf['PRIMARY_PHONE'].astype(str)\n",
    "rcos_gdf['EXPIRATIONYEAR'] = rcos_gdf['EXPIRATIONYEAR'].astype(str)"
   ]
  },
  {
   "cell_type": "code",
   "execution_count": null,
   "metadata": {},
   "outputs": [],
   "source": [
    "rco_aggregate_cols = ['ORGANIZATION_NAME', 'ORGANIZATION_ADDRESS', 'PRIMARY_EMAIL', 'PRIMARY_PHONE']\n",
    "\n",
    "rcos_gdf[\"rco_info\"] = rcos_gdf[rco_aggregate_cols].agg(\"; \".join, axis=1)"
   ]
  },
  {
   "cell_type": "code",
   "execution_count": null,
   "metadata": {},
   "outputs": [],
   "source": [
    "rcos_final_cols = ['geometry', 'rco_info']\n",
    "\n",
    "rcos_gdf = rcos_gdf[rcos_final_cols]"
   ]
  },
  {
   "attachments": {},
   "cell_type": "markdown",
   "metadata": {},
   "source": [
    "### Now we can join the RCOs to the joined_gdf."
   ]
  },
  {
   "cell_type": "code",
   "execution_count": null,
   "metadata": {},
   "outputs": [],
   "source": [
    "# spatially join rcos_gdf to joined_gdf\n",
    "w_rcos_gdf = gpd.sjoin(joined_gdf, rcos_gdf, how='left', predicate='within')\n",
    "\n",
    "# drop the index_right column\n",
    "w_rcos_gdf = w_rcos_gdf.drop(['index_right'], axis=1)\n",
    "\n",
    "# change MAPNAME to neighborhood\n",
    "\n",
    "w_rcos_gdf.rename(columns={'rco_info': 'rco_info'}, inplace=True)\n",
    "\n",
    "# remove duplicates by OPA_ID\n",
    "w_rcos_gdf = w_rcos_gdf.drop_duplicates(subset='OPA_ID')"
   ]
  },
  {
   "cell_type": "code",
   "execution_count": null,
   "metadata": {},
   "outputs": [],
   "source": [
    "# plot w_rcos_gdf\n",
    "w_rcos_gdf.shape"
   ]
  },
  {
   "cell_type": "code",
   "execution_count": null,
   "metadata": {},
   "outputs": [],
   "source": [
    "# make OPA_ID a string\n",
    "w_rcos_gdf['OPA_ID'] = w_rcos_gdf['OPA_ID'].astype(str)\n",
    "\n",
    "# collapse w_rcos_gdf by opa_id and concatenate the rco_info values into a list with a | separator\n",
    "rcos_by_opa_id_gdf = w_rcos_gdf.groupby('OPA_ID')['rco_info'].apply(lambda x: '| '.join([str(val) for val in x if val is not None])).reset_index()\n",
    "\n",
    "# rename the column to 'relevant_rcos'\n",
    "rcos_by_opa_id_gdf.rename(columns={'rco_info': 'relevant_rcos'}, inplace=True)"
   ]
  },
  {
   "cell_type": "code",
   "execution_count": null,
   "metadata": {},
   "outputs": [],
   "source": [
    "rcos_by_opa_id_gdf.shape"
   ]
  },
  {
   "cell_type": "code",
   "execution_count": null,
   "metadata": {},
   "outputs": [],
   "source": [
    "# left join the rcos_by_opa_id_gdf to the joined_gdf on opa_id\n",
    "joined_gdf = joined_gdf.merge(rcos_by_opa_id_gdf, how='left', left_on='OPA_ID', right_on='OPA_ID')\n",
    "\n",
    "# drop duplicate rows\n",
    "joined_gdf = joined_gdf.drop_duplicates(subset='OPA_ID')\n"
   ]
  },
  {
   "cell_type": "code",
   "execution_count": null,
   "metadata": {},
   "outputs": [],
   "source": [
    "joined_gdf.shape"
   ]
  },
  {
   "cell_type": "code",
   "execution_count": null,
   "metadata": {},
   "outputs": [],
   "source": [
    "joined_gdf.sample(5)"
   ]
  },
  {
   "attachments": {},
   "cell_type": "markdown",
   "metadata": {},
   "source": [
    "### Finally, tree canopy data."
   ]
  },
  {
   "cell_type": "code",
   "execution_count": null,
   "metadata": {},
   "outputs": [],
   "source": [
    "tree_url = 'https://national-tes-data-share.s3.amazonaws.com/national_tes_share/pa.zip.zip'\n",
    "\n",
    "tree_response = requests.get(tree_url)\n",
    "\n",
    "with io.BytesIO(tree_response.content) as f:\n",
    "    with zipfile.ZipFile(f, 'r') as zip_ref:\n",
    "        zip_ref.extractall(\"path/to/destination/folder\")\n",
    "        \n",
    "pa = gpd.read_file(\"path/to/destination/folder/pa.shp\")\n",
    "\n",
    "pa = pa.to_crs(epsg=2272)\n",
    "\n",
    "phl = pa[pa['county'] == 'Philadelphia County']\n",
    "\n",
    "tree_cols = ['tc_gap', 'geometry']\n",
    "\n",
    "phl = phl[tree_cols]\n",
    "\n",
    "phl.rename(columns={'tc_gap': 'tree_canopy_gap'}, inplace=True)\n",
    "\n",
    "phl.head()"
   ]
  },
  {
   "cell_type": "code",
   "execution_count": null,
   "metadata": {},
   "outputs": [],
   "source": [
    "# spatially join phl to joined_gdf\n",
    "joined_gdf = gpd.sjoin(joined_gdf, phl, how='left', predicate='intersects')\n",
    "\n",
    "joined_gdf = joined_gdf.drop(['index_right'], axis=1)\n",
    "\n",
    "# drop duplicate opa_ids\n",
    "joined_gdf = joined_gdf.drop_duplicates(subset='OPA_ID')"
   ]
  },
  {
   "cell_type": "code",
   "execution_count": null,
   "metadata": {},
   "outputs": [],
   "source": [
    "joined_gdf.shape"
   ]
  },
  {
   "cell_type": "code",
   "execution_count": null,
   "metadata": {},
   "outputs": [],
   "source": [
    "joined_gdf.head()"
   ]
  },
  {
   "cell_type": "code",
   "execution_count": null,
   "metadata": {},
   "outputs": [],
   "source": [
    "# plot the joined_gdf\n",
    "joined_gdf.plot()\n"
   ]
  },
  {
   "attachments": {},
   "cell_type": "markdown",
   "metadata": {},
   "source": [
    "# Gun Crimes\n",
    "\n",
    "For our gun crime kernel density estimate, we have two steps:"
   ]
  },
  {
   "attachments": {},
   "cell_type": "markdown",
   "metadata": {},
   "source": [
    "### 1. Import gun crime data from the City's Carto database (SQL):"
   ]
  },
  {
   "cell_type": "code",
   "execution_count": 98,
   "metadata": {
    "ExecuteTime": {
     "start_time": "2023-05-10T11:47:56.827147Z",
     "end_time": "2023-05-10T11:47:57.613316Z"
    }
   },
   "outputs": [
    {
     "name": "stderr",
     "output_type": "stream",
     "text": [
      "C:\\Users\\Nissim\\AppData\\Roaming\\Python\\Python310\\site-packages\\geopandas\\geoseries.py:752: UserWarning: GeoSeries.notna() previously returned False for both missing (None) and empty geometries. Now, it only returns False for missing values. Since the calling GeoSeries contains empty geometries, the result has changed compared to previous versions of GeoPandas.\n",
      "Given a GeoSeries 's', you can use '~s.is_empty & s.notna()' to get back the old behaviour.\n",
      "\n",
      "To further ignore this warning, you can do: \n",
      "import warnings; warnings.filterwarnings('ignore', 'GeoSeries.notna', UserWarning)\n",
      "  return self.notna()\n"
     ]
    }
   ],
   "source": [
    "# Modify the SQL query\n",
    "guncrime_sql_query = \"SELECT text_general_code, dispatch_date, point_x, point_y FROM incidents_part1_part2 WHERE dispatch_date_time >= '{}' AND text_general_code IN ('Aggravated Assault Firearm', 'Robbery Firearm')\".format(one_year_ago)\n",
    "\n",
    "# Make the GET request\n",
    "guncrime_response = requests.get(\"https://phl.carto.com/api/v2/sql\", params={\"q\": guncrime_sql_query})\n",
    "\n",
    "# Get the data\n",
    "guncrime_data = guncrime_response.json()[\"rows\"]\n",
    "\n",
    "# convert guncrime_data to a pandas dataframe\n",
    "guncrime_df = pd.DataFrame(guncrime_data)\n",
    "\n",
    "# Convert the data to a geopandas dataframe\n",
    "guncrime_gdf = gpd.GeoDataFrame(guncrime_df, geometry=gpd.points_from_xy(guncrime_df.point_x, guncrime_df.point_y), crs='EPSG:4326')\n",
    "\n",
    "# drop the lat and lon columns\n",
    "guncrime_gdf.drop(['point_x', 'point_y'], axis=1, inplace=True)\n",
    "\n",
    "# convert the geometry column to a CRS 2272\n",
    "guncrime_gdf.to_crs(epsg=2272, inplace=True)\n",
    "\n",
    "# drop null geometry values\n",
    "guncrime_gdf = guncrime_gdf[guncrime_gdf['geometry'].notnull()]"
   ]
  },
  {
   "cell_type": "code",
   "execution_count": 99,
   "metadata": {
    "ExecuteTime": {
     "start_time": "2023-05-10T11:48:06.453254Z",
     "end_time": "2023-05-10T11:48:06.467275Z"
    }
   },
   "outputs": [
    {
     "data": {
      "text/plain": "            text_general_code dispatch_date                        geometry\n0  Aggravated Assault Firearm    2023-03-11  POINT (2701499.991 254527.321)\n1  Aggravated Assault Firearm    2023-02-26  POINT (2687640.511 228770.118)\n2  Aggravated Assault Firearm    2023-02-26  POINT (2713880.884 277084.477)\n3  Aggravated Assault Firearm    2023-03-11  POINT (2693641.638 272700.071)\n4             Robbery Firearm    2023-02-22  POINT (2686795.954 250843.724)",
      "text/html": "<div>\n<style scoped>\n    .dataframe tbody tr th:only-of-type {\n        vertical-align: middle;\n    }\n\n    .dataframe tbody tr th {\n        vertical-align: top;\n    }\n\n    .dataframe thead th {\n        text-align: right;\n    }\n</style>\n<table border=\"1\" class=\"dataframe\">\n  <thead>\n    <tr style=\"text-align: right;\">\n      <th></th>\n      <th>text_general_code</th>\n      <th>dispatch_date</th>\n      <th>geometry</th>\n    </tr>\n  </thead>\n  <tbody>\n    <tr>\n      <th>0</th>\n      <td>Aggravated Assault Firearm</td>\n      <td>2023-03-11</td>\n      <td>POINT (2701499.991 254527.321)</td>\n    </tr>\n    <tr>\n      <th>1</th>\n      <td>Aggravated Assault Firearm</td>\n      <td>2023-02-26</td>\n      <td>POINT (2687640.511 228770.118)</td>\n    </tr>\n    <tr>\n      <th>2</th>\n      <td>Aggravated Assault Firearm</td>\n      <td>2023-02-26</td>\n      <td>POINT (2713880.884 277084.477)</td>\n    </tr>\n    <tr>\n      <th>3</th>\n      <td>Aggravated Assault Firearm</td>\n      <td>2023-03-11</td>\n      <td>POINT (2693641.638 272700.071)</td>\n    </tr>\n    <tr>\n      <th>4</th>\n      <td>Robbery Firearm</td>\n      <td>2023-02-22</td>\n      <td>POINT (2686795.954 250843.724)</td>\n    </tr>\n  </tbody>\n</table>\n</div>"
     },
     "execution_count": 99,
     "metadata": {},
     "output_type": "execute_result"
    }
   ],
   "source": [
    "guncrime_gdf.head()"
   ]
  },
  {
   "cell_type": "code",
   "execution_count": 100,
   "metadata": {
    "ExecuteTime": {
     "start_time": "2023-05-10T11:48:09.188925Z",
     "end_time": "2023-05-10T11:48:09.203568Z"
    }
   },
   "outputs": [
    {
     "data": {
      "text/plain": "(6124, 3)"
     },
     "execution_count": 100,
     "metadata": {},
     "output_type": "execute_result"
    }
   ],
   "source": [
    "guncrime_gdf.shape"
   ]
  },
  {
   "attachments": {},
   "cell_type": "markdown",
   "metadata": {},
   "source": [
    "### 2. Create a kernel density estimate from the gun crime data:"
   ]
  },
  {
   "attachments": {},
   "cell_type": "markdown",
   "metadata": {},
   "source": [
    "Note that, rather than following the one mile bandwidth used in the original research, I'm using an adaptive bandwidth based on Silverman's rule to account for varying local densities. Silverman's is more robust than Scott's method as well. I'm implementing this in scipy's gaussian_kde function.\n",
    "\n",
    "\\Silverman, B., 1986. Density estimation for statistic and data analysis. London, UK: Chapman and Hall. https://ned.ipac.caltech.edu/level5/March02/Silverman/paper.pdf.\n",
    "\n",
    "Note that ArcGIS Pro implements Silverman's Rule of Thumb: https://pro.arcgis.com/en/pro-app/latest/tool-reference/spatial-analyst/how-kernel-density-works.htm\n",
    "\n",
    "However, I really need to look into this more to make sure that I've implemented it correctly. The distribution of my data is non-parametric, meaning that neither Scott's nor Silverman's methods are appropriate."
   ]
  },
  {
   "cell_type": "code",
   "execution_count": 101,
   "metadata": {},
   "outputs": [
    {
     "ename": "IndexError",
     "evalue": "index out of range",
     "output_type": "error",
     "traceback": [
      "\u001B[1;31m---------------------------------------------------------------------------\u001B[0m",
      "\u001B[1;31mIndexError\u001B[0m                                Traceback (most recent call last)",
      "Cell \u001B[1;32mIn [101], line 4\u001B[0m\n\u001B[0;32m      1\u001B[0m \u001B[38;5;28;01mfrom\u001B[39;00m \u001B[38;5;21;01mscipy\u001B[39;00m\u001B[38;5;21;01m.\u001B[39;00m\u001B[38;5;21;01mstats\u001B[39;00m \u001B[38;5;28;01mimport\u001B[39;00m gaussian_kde\n\u001B[0;32m      3\u001B[0m \u001B[38;5;66;03m# Get X and Y coordinates of well points\u001B[39;00m\n\u001B[1;32m----> 4\u001B[0m x_sk \u001B[38;5;241m=\u001B[39m \u001B[43mguncrime_gdf\u001B[49m\u001B[43m[\u001B[49m\u001B[38;5;124;43m\"\u001B[39;49m\u001B[38;5;124;43mgeometry\u001B[39;49m\u001B[38;5;124;43m\"\u001B[39;49m\u001B[43m]\u001B[49m\u001B[38;5;241;43m.\u001B[39;49m\u001B[43mx\u001B[49m\n\u001B[0;32m      5\u001B[0m y_sk \u001B[38;5;241m=\u001B[39m guncrime_gdf[\u001B[38;5;124m\"\u001B[39m\u001B[38;5;124mgeometry\u001B[39m\u001B[38;5;124m\"\u001B[39m]\u001B[38;5;241m.\u001B[39my\n\u001B[0;32m      7\u001B[0m \u001B[38;5;66;03m# drop null values\u001B[39;00m\n",
      "File \u001B[1;32m~\\AppData\\Roaming\\Python\\Python310\\site-packages\\geopandas\\geoseries.py:262\u001B[0m, in \u001B[0;36mGeoSeries.x\u001B[1;34m(self)\u001B[0m\n\u001B[0;32m    236\u001B[0m \u001B[38;5;129m@property\u001B[39m\n\u001B[0;32m    237\u001B[0m \u001B[38;5;28;01mdef\u001B[39;00m \u001B[38;5;21mx\u001B[39m(\u001B[38;5;28mself\u001B[39m):\n\u001B[0;32m    238\u001B[0m     \u001B[38;5;124;03m\"\"\"Return the x location of point geometries in a GeoSeries\u001B[39;00m\n\u001B[0;32m    239\u001B[0m \n\u001B[0;32m    240\u001B[0m \u001B[38;5;124;03m    Returns\u001B[39;00m\n\u001B[1;32m   (...)\u001B[0m\n\u001B[0;32m    260\u001B[0m \n\u001B[0;32m    261\u001B[0m \u001B[38;5;124;03m    \"\"\"\u001B[39;00m\n\u001B[1;32m--> 262\u001B[0m     \u001B[38;5;28;01mreturn\u001B[39;00m \u001B[43m_delegate_property\u001B[49m\u001B[43m(\u001B[49m\u001B[38;5;124;43m\"\u001B[39;49m\u001B[38;5;124;43mx\u001B[39;49m\u001B[38;5;124;43m\"\u001B[39;49m\u001B[43m,\u001B[49m\u001B[43m \u001B[49m\u001B[38;5;28;43mself\u001B[39;49m\u001B[43m)\u001B[49m\n",
      "File \u001B[1;32m~\\AppData\\Roaming\\Python\\Python310\\site-packages\\geopandas\\base.py:66\u001B[0m, in \u001B[0;36m_delegate_property\u001B[1;34m(op, this)\u001B[0m\n\u001B[0;32m     63\u001B[0m \u001B[38;5;28;01mdef\u001B[39;00m \u001B[38;5;21m_delegate_property\u001B[39m(op, this):\n\u001B[0;32m     64\u001B[0m     \u001B[38;5;66;03m# type: (str, GeoSeries) -> GeoSeries/Series\u001B[39;00m\n\u001B[0;32m     65\u001B[0m     a_this \u001B[38;5;241m=\u001B[39m GeometryArray(this\u001B[38;5;241m.\u001B[39mgeometry\u001B[38;5;241m.\u001B[39mvalues)\n\u001B[1;32m---> 66\u001B[0m     data \u001B[38;5;241m=\u001B[39m \u001B[38;5;28;43mgetattr\u001B[39;49m\u001B[43m(\u001B[49m\u001B[43ma_this\u001B[49m\u001B[43m,\u001B[49m\u001B[43m \u001B[49m\u001B[43mop\u001B[49m\u001B[43m)\u001B[49m\n\u001B[0;32m     67\u001B[0m     \u001B[38;5;28;01mif\u001B[39;00m \u001B[38;5;28misinstance\u001B[39m(data, GeometryArray):\n\u001B[0;32m     68\u001B[0m         \u001B[38;5;28;01mfrom\u001B[39;00m \u001B[38;5;21;01m.\u001B[39;00m\u001B[38;5;21;01mgeoseries\u001B[39;00m \u001B[38;5;28;01mimport\u001B[39;00m GeoSeries\n",
      "File \u001B[1;32m~\\AppData\\Roaming\\Python\\Python310\\site-packages\\geopandas\\array.py:882\u001B[0m, in \u001B[0;36mGeometryArray.x\u001B[1;34m(self)\u001B[0m\n\u001B[0;32m    880\u001B[0m \u001B[38;5;124;03m\"\"\"Return the x location of point geometries in a GeoSeries\"\"\"\u001B[39;00m\n\u001B[0;32m    881\u001B[0m \u001B[38;5;28;01mif\u001B[39;00m (\u001B[38;5;28mself\u001B[39m\u001B[38;5;241m.\u001B[39mgeom_type[\u001B[38;5;241m~\u001B[39m\u001B[38;5;28mself\u001B[39m\u001B[38;5;241m.\u001B[39misna()] \u001B[38;5;241m==\u001B[39m \u001B[38;5;124m\"\u001B[39m\u001B[38;5;124mPoint\u001B[39m\u001B[38;5;124m\"\u001B[39m)\u001B[38;5;241m.\u001B[39mall():\n\u001B[1;32m--> 882\u001B[0m     \u001B[38;5;28;01mreturn\u001B[39;00m \u001B[43mvectorized\u001B[49m\u001B[38;5;241;43m.\u001B[39;49m\u001B[43mget_x\u001B[49m\u001B[43m(\u001B[49m\u001B[38;5;28;43mself\u001B[39;49m\u001B[38;5;241;43m.\u001B[39;49m\u001B[43mdata\u001B[49m\u001B[43m)\u001B[49m\n\u001B[0;32m    883\u001B[0m \u001B[38;5;28;01melse\u001B[39;00m:\n\u001B[0;32m    884\u001B[0m     message \u001B[38;5;241m=\u001B[39m \u001B[38;5;124m\"\u001B[39m\u001B[38;5;124mx attribute access only provided for Point geometries\u001B[39m\u001B[38;5;124m\"\u001B[39m\n",
      "File \u001B[1;32m~\\AppData\\Roaming\\Python\\Python310\\site-packages\\geopandas\\_vectorized.py:910\u001B[0m, in \u001B[0;36mget_x\u001B[1;34m(data)\u001B[0m\n\u001B[0;32m    908\u001B[0m     \u001B[38;5;28;01mreturn\u001B[39;00m pygeos\u001B[38;5;241m.\u001B[39mget_x(data)\n\u001B[0;32m    909\u001B[0m \u001B[38;5;28;01melse\u001B[39;00m:\n\u001B[1;32m--> 910\u001B[0m     \u001B[38;5;28;01mreturn\u001B[39;00m \u001B[43m_unary_op\u001B[49m\u001B[43m(\u001B[49m\u001B[38;5;124;43m\"\u001B[39;49m\u001B[38;5;124;43mx\u001B[39;49m\u001B[38;5;124;43m\"\u001B[39;49m\u001B[43m,\u001B[49m\u001B[43m \u001B[49m\u001B[43mdata\u001B[49m\u001B[43m,\u001B[49m\u001B[43m \u001B[49m\u001B[43mnull_value\u001B[49m\u001B[38;5;241;43m=\u001B[39;49m\u001B[43mnp\u001B[49m\u001B[38;5;241;43m.\u001B[39;49m\u001B[43mnan\u001B[49m\u001B[43m)\u001B[49m\n",
      "File \u001B[1;32m~\\AppData\\Roaming\\Python\\Python310\\site-packages\\geopandas\\_vectorized.py:461\u001B[0m, in \u001B[0;36m_unary_op\u001B[1;34m(op, left, null_value)\u001B[0m\n\u001B[0;32m    458\u001B[0m \u001B[38;5;28;01mdef\u001B[39;00m \u001B[38;5;21m_unary_op\u001B[39m(op, left, null_value\u001B[38;5;241m=\u001B[39m\u001B[38;5;28;01mFalse\u001B[39;00m):\n\u001B[0;32m    459\u001B[0m     \u001B[38;5;66;03m# type: (str, np.array[geoms], Any) -> np.array\u001B[39;00m\n\u001B[0;32m    460\u001B[0m     \u001B[38;5;124;03m\"\"\"Unary operation that returns a Series\"\"\"\u001B[39;00m\n\u001B[1;32m--> 461\u001B[0m     data \u001B[38;5;241m=\u001B[39m [\u001B[38;5;28mgetattr\u001B[39m(geom, op, null_value) \u001B[38;5;28;01mfor\u001B[39;00m geom \u001B[38;5;129;01min\u001B[39;00m left]\n\u001B[0;32m    462\u001B[0m     \u001B[38;5;28;01mreturn\u001B[39;00m np\u001B[38;5;241m.\u001B[39marray(data, dtype\u001B[38;5;241m=\u001B[39mnp\u001B[38;5;241m.\u001B[39mdtype(\u001B[38;5;28mtype\u001B[39m(null_value)))\n",
      "File \u001B[1;32m~\\AppData\\Roaming\\Python\\Python310\\site-packages\\geopandas\\_vectorized.py:461\u001B[0m, in \u001B[0;36m<listcomp>\u001B[1;34m(.0)\u001B[0m\n\u001B[0;32m    458\u001B[0m \u001B[38;5;28;01mdef\u001B[39;00m \u001B[38;5;21m_unary_op\u001B[39m(op, left, null_value\u001B[38;5;241m=\u001B[39m\u001B[38;5;28;01mFalse\u001B[39;00m):\n\u001B[0;32m    459\u001B[0m     \u001B[38;5;66;03m# type: (str, np.array[geoms], Any) -> np.array\u001B[39;00m\n\u001B[0;32m    460\u001B[0m     \u001B[38;5;124;03m\"\"\"Unary operation that returns a Series\"\"\"\u001B[39;00m\n\u001B[1;32m--> 461\u001B[0m     data \u001B[38;5;241m=\u001B[39m [\u001B[38;5;28;43mgetattr\u001B[39;49m\u001B[43m(\u001B[49m\u001B[43mgeom\u001B[49m\u001B[43m,\u001B[49m\u001B[43m \u001B[49m\u001B[43mop\u001B[49m\u001B[43m,\u001B[49m\u001B[43m \u001B[49m\u001B[43mnull_value\u001B[49m\u001B[43m)\u001B[49m \u001B[38;5;28;01mfor\u001B[39;00m geom \u001B[38;5;129;01min\u001B[39;00m left]\n\u001B[0;32m    462\u001B[0m     \u001B[38;5;28;01mreturn\u001B[39;00m np\u001B[38;5;241m.\u001B[39marray(data, dtype\u001B[38;5;241m=\u001B[39mnp\u001B[38;5;241m.\u001B[39mdtype(\u001B[38;5;28mtype\u001B[39m(null_value)))\n",
      "File \u001B[1;32m~\\AppData\\Roaming\\Python\\Python310\\site-packages\\shapely\\geometry\\point.py:66\u001B[0m, in \u001B[0;36mPoint.x\u001B[1;34m(self)\u001B[0m\n\u001B[0;32m     63\u001B[0m \u001B[38;5;129m@property\u001B[39m\n\u001B[0;32m     64\u001B[0m \u001B[38;5;28;01mdef\u001B[39;00m \u001B[38;5;21mx\u001B[39m(\u001B[38;5;28mself\u001B[39m):\n\u001B[0;32m     65\u001B[0m     \u001B[38;5;124;03m\"\"\"Return x coordinate.\"\"\"\u001B[39;00m\n\u001B[1;32m---> 66\u001B[0m     \u001B[38;5;28;01mreturn\u001B[39;00m \u001B[38;5;28;43mself\u001B[39;49m\u001B[38;5;241;43m.\u001B[39;49m\u001B[43mcoords\u001B[49m\u001B[43m[\u001B[49m\u001B[38;5;241;43m0\u001B[39;49m\u001B[43m]\u001B[49m[\u001B[38;5;241m0\u001B[39m]\n",
      "File \u001B[1;32m~\\AppData\\Roaming\\Python\\Python310\\site-packages\\shapely\\coords.py:85\u001B[0m, in \u001B[0;36mCoordinateSequence.__getitem__\u001B[1;34m(self, key)\u001B[0m\n\u001B[0;32m     83\u001B[0m \u001B[38;5;28;01mif\u001B[39;00m \u001B[38;5;28misinstance\u001B[39m(key, \u001B[38;5;28mint\u001B[39m):\n\u001B[0;32m     84\u001B[0m     \u001B[38;5;28;01mif\u001B[39;00m \u001B[38;5;28mself\u001B[39m\u001B[38;5;241m.\u001B[39m_cseq \u001B[38;5;129;01mis\u001B[39;00m \u001B[38;5;28;01mNone\u001B[39;00m \u001B[38;5;129;01mor\u001B[39;00m key \u001B[38;5;241m+\u001B[39m m \u001B[38;5;241m<\u001B[39m \u001B[38;5;241m0\u001B[39m \u001B[38;5;129;01mor\u001B[39;00m key \u001B[38;5;241m>\u001B[39m\u001B[38;5;241m=\u001B[39m m:\n\u001B[1;32m---> 85\u001B[0m         \u001B[38;5;28;01mraise\u001B[39;00m \u001B[38;5;167;01mIndexError\u001B[39;00m(\u001B[38;5;124m\"\u001B[39m\u001B[38;5;124mindex out of range\u001B[39m\u001B[38;5;124m\"\u001B[39m)\n\u001B[0;32m     86\u001B[0m     \u001B[38;5;28;01mif\u001B[39;00m key \u001B[38;5;241m<\u001B[39m \u001B[38;5;241m0\u001B[39m:\n\u001B[0;32m     87\u001B[0m         i \u001B[38;5;241m=\u001B[39m m \u001B[38;5;241m+\u001B[39m key\n",
      "\u001B[1;31mIndexError\u001B[0m: index out of range"
     ]
    }
   ],
   "source": [
    "from scipy.stats import gaussian_kde\n",
    "\n",
    "# Get X and Y coordinates of well points\n",
    "x_sk = guncrime_gdf[\"geometry\"].x\n",
    "y_sk = guncrime_gdf[\"geometry\"].y\n",
    "\n",
    "# drop null values\n",
    "x_sk = x_sk.dropna()\n",
    "y_sk = y_sk.dropna()\n",
    "\n",
    "# Get minimum and maximum coordinate values of well points\n",
    "min_x_sk, min_y_sk, max_x_sk, max_y_sk = guncrime_gdf.total_bounds\n",
    "\n",
    "# Create a cell mesh grid\n",
    "# Horizontal and vertical cell counts should be the same\n",
    "XX_sk, YY_sk = np.mgrid[min_x_sk:max_x_sk:100j, min_y_sk:max_y_sk:100j]\n",
    "\n",
    "# Create 2-D array of the coordinates (paired) of each cell in the mesh grid\n",
    "positions_sk = np.vstack([XX_sk.ravel(), YY_sk.ravel()])\n",
    "\n",
    "# Create 2-D array of the coordinate values of the well points\n",
    "Xtrain_sk = np.vstack([x_sk, y_sk])\n",
    "\n",
    "# Estimate the bandwidth using Silverman's rule, which is more robust than Scott's\n",
    "kde_sk = gaussian_kde(Xtrain_sk, bw_method='silverman')\n",
    "\n",
    "# Evaluate the estimator on coordinate pairs\n",
    "Z_sk = kde_sk(positions_sk)\n",
    "\n",
    "# Reshape the data to fit mesh grid\n",
    "Z_sk = Z_sk.reshape(XX_sk.shape)"
   ]
  },
  {
   "cell_type": "code",
   "execution_count": null,
   "metadata": {},
   "outputs": [],
   "source": [
    "import seaborn as sns\n",
    "\n",
    "sns.kdeplot(Z_sk.ravel())"
   ]
  },
  {
   "cell_type": "code",
   "execution_count": null,
   "metadata": {},
   "outputs": [],
   "source": [
    "# plot Z_sk\n",
    "plt.figure(figsize=(10,10))\n",
    "plt.imshow(np.rot90(Z_sk), cmap=plt.cm.gist_earth_r, extent=[min_x_sk, max_x_sk, min_y_sk, max_y_sk])\n",
    "plt.plot(x_sk, y_sk, 'k.', markersize=2)\n",
    "plt.title('Estimated density of gun crimes in Philadelphia')\n",
    "plt.show()"
   ]
  },
  {
   "cell_type": "code",
   "execution_count": null,
   "metadata": {},
   "outputs": [],
   "source": [
    "today = datetime.datetime.today().strftime('%Y_%m_%d')\n",
    "\n",
    "\n",
    "def export_kde_raster(Z, XX, YY, min_x, max_x, min_y, max_y, proj, filename):\n",
    "    '''Export and save a kernel density raster.'''\n",
    "\n",
    "    # Flip array vertically and rotate 270 degrees\n",
    "    Z_export = np.rot90(np.flip(Z, 0), 3)\n",
    "\n",
    "    # Get resolution\n",
    "    xres = (max_x - min_x) / len(XX)\n",
    "    yres = (max_y - min_y) / len(YY)\n",
    "\n",
    "    # Set transform\n",
    "    transform = rasterio.Affine.translation(min_x - xres / 2, min_y - yres / 2) * rasterio.Affine.scale(xres, yres)\n",
    "\n",
    "    # Export array as raster\n",
    "    with rasterio.open(\n",
    "            filename,\n",
    "            mode = \"w\",\n",
    "            driver = \"GTiff\",\n",
    "            height = Z_export.shape[0],\n",
    "            width = Z_export.shape[1],\n",
    "            count = 1,\n",
    "            dtype = Z_export.dtype,\n",
    "            crs = proj,\n",
    "            transform = transform,\n",
    "    ) as new_dataset:\n",
    "            new_dataset.write(Z_export, 1)\n",
    "\n",
    "# Export raster\n",
    "kde_filename = f\"C:/Users/Nissim/Desktop/Vacant Lots Project/guncrime_kde_rast_{today}.tif\"\n",
    "export_kde_raster(Z = Z_sk, XX = XX_sk, YY = YY_sk,\n",
    "                  min_x = min_x_sk, max_x = max_x_sk, min_y = min_y_sk, max_y = max_y_sk,\n",
    "                  proj = 2272, filename = kde_filename)"
   ]
  },
  {
   "cell_type": "code",
   "execution_count": null,
   "metadata": {},
   "outputs": [],
   "source": [
    "src = rasterio.open(kde_filename)"
   ]
  },
  {
   "cell_type": "code",
   "execution_count": null,
   "metadata": {},
   "outputs": [],
   "source": [
    "from rasterio.plot import show\n",
    "\n",
    "fix, ax = plt.subplots(figsize=(10, 10))\n",
    "\n",
    "extent = (src.bounds.left, src.bounds.right, src.bounds.bottom, src.bounds.top)\n",
    "ax = rasterio.plot.show(src, extent=extent, ax=ax, cmap='Blues')\n",
    "\n",
    "joined_gdf.plot(ax=ax)"
   ]
  },
  {
   "cell_type": "code",
   "execution_count": null,
   "metadata": {},
   "outputs": [],
   "source": [
    "coord_list = [(x,y) for x,y in zip(joined_gdf['centroid'].x, joined_gdf['centroid'].y)]\n",
    "\n",
    "joined_gdf['guncrime_density'] = [x for x in src.sample(coord_list)]\n",
    "\n",
    "# convert 'guncrime_density' column to float\n",
    "joined_gdf['guncrime_density'] = joined_gdf['guncrime_density'].astype(float)"
   ]
  },
  {
   "cell_type": "code",
   "execution_count": null,
   "metadata": {},
   "outputs": [],
   "source": [
    "# plot the centroids with the guncrime density as the color\n",
    "joined_gdf.plot(column='guncrime_density', cmap='Reds', legend=True)"
   ]
  },
  {
   "attachments": {},
   "cell_type": "markdown",
   "metadata": {},
   "source": [
    "Reclassify data into percentiles."
   ]
  },
  {
   "cell_type": "code",
   "execution_count": null,
   "metadata": {},
   "outputs": [],
   "source": [
    "guncrime_classifier = mapclassify.Percentiles(joined_gdf['guncrime_density'], pct=[50, 75, 90, 95, 99, 100])\n",
    "\n",
    "joined_gdf['guncrime_density'] = joined_gdf[['guncrime_density']].apply(guncrime_classifier)\n",
    "\n",
    "joined_gdf['guncrime_density'] = joined_gdf['guncrime_density'].replace([0, 1, 2, 3, 4, 5], ['Bottom 50%', 'Top 50%', 'Top 25%', 'Top 10%', 'Top 5%', 'Top 1%'])"
   ]
  },
  {
   "cell_type": "code",
   "execution_count": null,
   "metadata": {},
   "outputs": [],
   "source": [
    "# need to triple check that I'm calculating this right--is it absolute value?\n",
    "\n",
    "tree_classifier = mapclassify.Percentiles(joined_gdf['tree_canopy_gap'], pct=[50, 75, 90, 95, 99, 100])\n",
    "\n",
    "joined_gdf['tree_canopy_gap'] = joined_gdf[['tree_canopy_gap']].apply(tree_classifier)\n",
    "\n",
    "joined_gdf['tree_canopy_gap'] = joined_gdf['tree_canopy_gap'].replace([0, 1, 2, 3, 4, 5], ['Bottom 50%', 'Top 50%', 'Top 25%', 'Top 10%', 'Top 5%', 'Top 1%'])"
   ]
  },
  {
   "cell_type": "code",
   "execution_count": null,
   "metadata": {},
   "outputs": [],
   "source": [
    "joined_gdf.head()"
   ]
  },
  {
   "cell_type": "code",
   "execution_count": null,
   "metadata": {},
   "outputs": [],
   "source": [
    "# now join the poly_gdf back to the joined_gdf on the opa_id column\n",
    "joined_gdf = joined_gdf.join(poly_gdf.set_index('OPA_ID'), on='OPA_ID')\n",
    "\n",
    "# drop the 'centroids' column\n",
    "#joined_gdf = joined_gdf.drop(columns=['centroid'])\n",
    "\n",
    "# make 'geometry' the geometry column\n",
    "joined_gdf = joined_gdf.set_geometry('geometry')"
   ]
  },
  {
   "cell_type": "code",
   "execution_count": null,
   "metadata": {},
   "outputs": [],
   "source": [
    "# set all column names to lowercase\n",
    "joined_gdf.columns = map(str.lower, joined_gdf.columns)"
   ]
  },
  {
   "cell_type": "code",
   "execution_count": null,
   "metadata": {},
   "outputs": [],
   "source": [
    "joined_gdf.shape"
   ]
  },
  {
   "cell_type": "code",
   "execution_count": null,
   "metadata": {},
   "outputs": [],
   "source": [
    "import requests\n",
    "\n",
    "# Create the SQL query\n",
    "opa_sql_query = \"SELECT parcel_number, market_value FROM opa_properties_public\"\n",
    "\n",
    "# Make the GET request\n",
    "opa_response = requests.get(\"https://phl.carto.com/api/v2/sql\", params={\"q\": opa_sql_query})\n",
    "\n",
    "# Get the data\n",
    "opa_data = opa_response.json()[\"rows\"]\n",
    "\n",
    "# convert opa_data to a pandas dataframe\n",
    "opa_df = pd.DataFrame(opa_data)"
   ]
  },
  {
   "cell_type": "code",
   "execution_count": null,
   "metadata": {},
   "outputs": [],
   "source": [
    "# join the two dataframes such that opa_id = opa_number\n",
    "joined_gdf = joined_gdf.merge(opa_df, left_on='opa_id', right_on='parcel_number', how='left')\n",
    "\n",
    "# drop the parcel_number column\n",
    "joined_gdf = joined_gdf.drop(columns=['parcel_number'])\n",
    "\n",
    "joined_gdf.head()"
   ]
  },
  {
   "cell_type": "code",
   "execution_count": null,
   "metadata": {},
   "outputs": [],
   "source": [
    "# Create the SQL query\n",
    "delinq_sql_query = \"SELECT * FROM real_estate_tax_delinquencies\"\n",
    "\n",
    "# Make the GET request\n",
    "delinq_response = requests.get(\"https://phl.carto.com/api/v2/sql\", params={\"q\": delinq_sql_query})\n",
    "\n",
    "# Get the data\n",
    "delinq_data = delinq_response.json()[\"rows\"]\n",
    "\n",
    "# convert delinq_data to a pandas dataframe\n",
    "delinq_df = pd.DataFrame(delinq_data)"
   ]
  },
  {
   "cell_type": "code",
   "execution_count": null,
   "metadata": {},
   "outputs": [],
   "source": [
    "red_cols_to_keep = ['opa_number', \n",
    "                    'total_due', \n",
    "                    'is_actionable',\n",
    "                    'payment_agreement', \n",
    "                    'num_years_owed', \n",
    "                    'most_recent_year_owed', \n",
    "                    'total_assessment',\n",
    "                    'sheriff_sale']\n",
    "\n",
    "\n",
    "red_delinq_df = delinq_df[red_cols_to_keep]\n",
    "\n",
    "\n",
    "red_delinq_df.head()"
   ]
  },
  {
   "cell_type": "code",
   "execution_count": null,
   "metadata": {},
   "outputs": [],
   "source": [
    "# convert opa_number to an object\n",
    "red_delinq_df['opa_number'] = red_delinq_df['opa_number'].astype('string')"
   ]
  },
  {
   "cell_type": "code",
   "execution_count": null,
   "metadata": {},
   "outputs": [],
   "source": [
    "# join the two dataframes such that opa_id = opa_number\n",
    "joined_gdf = joined_gdf.merge(red_delinq_df, left_on='opa_id', right_on='opa_number', how='left')"
   ]
  },
  {
   "cell_type": "code",
   "execution_count": null,
   "metadata": {},
   "outputs": [],
   "source": [
    "# Define the conditions and values to assign for each condition\n",
    "cond1 = joined_gdf[\"public_owner\"]\n",
    "val1 = \"Deed from City\"\n",
    "\n",
    "cond2 = (~joined_gdf[\"public_owner\"]) & (joined_gdf[\"opa_number\"].isna())\n",
    "val2 = \"Work with owner\"\n",
    "\n",
    "cond3 = (~joined_gdf[\"public_owner\"]) & (joined_gdf[\"opa_number\"].notna()) & (joined_gdf[\"num_years_owed\"] > 3)\n",
    "val3 = \"Sherrif's sale\"\n",
    "\n",
    "cond4 = (~joined_gdf[\"public_owner\"]) & (joined_gdf[\"opa_number\"].notna()) & (joined_gdf[\"num_years_owed\"] <= 3) & (joined_gdf[\"owner\"].str.contains(\"LLC\"))\n",
    "val4 = \"Force foreclosure\"\n",
    "\n",
    "cond5 = (~joined_gdf[\"public_owner\"]) & (joined_gdf[\"opa_number\"].notna()) & (joined_gdf[\"num_years_owed\"] <= 3) & (~joined_gdf[\"owner\"].str.contains(\"LLC\")) & (joined_gdf[\"market_value\"] < 100000)\n",
    "val5 = \"Buy from owner\"\n",
    "\n",
    "cond6 = (~joined_gdf[\"public_owner\"]) & (joined_gdf[\"opa_number\"].notna()) & (joined_gdf[\"num_years_owed\"] <= 3) & (~joined_gdf[\"owner\"].str.contains(\"LLC\")) & (joined_gdf[\"market_value\"] >= 100000)\n",
    "val6 = \"Turn over to developer\"\n",
    "\n",
    "# Use np.select to create the new column based on the conditions and values\n",
    "joined_gdf[\"acquisition_process\"] = np.select([cond1, cond2, cond3, cond4, cond5, cond6], [val1, val2, val3, val4, val5, val6], default=\"Too complicated\")"
   ]
  },
  {
   "cell_type": "code",
   "execution_count": null,
   "metadata": {},
   "outputs": [],
   "source": [
    "tree_cond1 = (joined_gdf[\"guncrime_density\"] == \"Bottom 50%\") & ((joined_gdf[\"tree_canopy_gap\"] == \"Bottom 50%\") | (joined_gdf[\"tree_canopy_gap\"] == \"Top 50%\"))\n",
    "tree_val1 = \"Low Priority\"\n",
    "\n",
    "tree_cond2 = ((joined_gdf[\"guncrime_density\"] == \"Top 50%\") & ((joined_gdf[\"tree_canopy_gap\"] == \"Bottom 50%\") | (joined_gdf[\"tree_canopy_gap\"] == \"Top 50%\"))) | ((joined_gdf[\"guncrime_density\"] == \"Bottom 50%\") & ~((joined_gdf[\"tree_canopy_gap\"] == \"Bottom 50%\") | (joined_gdf[\"tree_canopy_gap\"] == \"Top 50%\")))\n",
    "tree_val2 = \"Medium Priority\"\n",
    "\n",
    "joined_gdf[\"priority_level\"] = np.select([tree_cond1, tree_cond2], [tree_val1, tree_val2], default=\"High Priority\")"
   ]
  },
  {
   "cell_type": "code",
   "execution_count": null,
   "metadata": {},
   "outputs": [],
   "source": [
    "# adds a column to link users to the atlas page for each property\n",
    "joined_gdf['atlas_url'] = '<a href=\"https://atlas.phila.gov/' + joined_gdf['address'] + '\">Click here</a>'"
   ]
  },
  {
   "cell_type": "code",
   "execution_count": null,
   "metadata": {},
   "outputs": [],
   "source": [
    "joined_gdf.head()"
   ]
  },
  {
   "cell_type": "code",
   "execution_count": null,
   "metadata": {},
   "outputs": [],
   "source": [
    "# loop through joined_gdf and return one row per guncrime_density category\n",
    "guncrime_df = pd.DataFrame()\n",
    "for i in joined_gdf['guncrime_density'].unique():\n",
    "    temp_df = joined_gdf[joined_gdf['guncrime_density'] == i]\n",
    "    guncrime_df = guncrime_df.append(temp_df.sample(n=1))\n",
    "\n",
    "guncrime_df.head(10)"
   ]
  },
  {
   "cell_type": "code",
   "execution_count": null,
   "metadata": {},
   "outputs": [],
   "source": [
    "guncrime_df.columns"
   ]
  },
  {
   "cell_type": "code",
   "execution_count": null,
   "metadata": {},
   "outputs": [],
   "source": [
    "pct_cmap = {\n",
    "    'Bottom 50%': '#00876c',\n",
    "    'Top 50%': '#61a96e',\n",
    "    'Top 25%': '#aac872',\n",
    "    'Top 10%': '#f5af5c', \n",
    "    'Top 5%' : '#ea784d',\n",
    "    'Top 1%': '#d43d51'\n",
    "}"
   ]
  },
  {
   "cell_type": "code",
   "execution_count": null,
   "metadata": {},
   "outputs": [],
   "source": [
    "# solution found here: https://www.earthdatascience.org/courses/scientists-guide-to-plotting-data-in-python/plot-spatial-data/customize-vector-plots/python-customize-map-legends-geopandas/\n",
    "\n",
    "# Plot data\n",
    "fig, ax = plt.subplots(figsize=(10, 10))\n",
    "\n",
    "# Loop through each attribute type and plot it using the colors assigned in the dictionary\n",
    "for ctype, data in joined_gdf.groupby('guncrime_density'):\n",
    "    \n",
    "    # Define the color for each group using the dictionary\n",
    "    color = pct_cmap[ctype]\n",
    "    \n",
    "    # Plot each group using the color defined above\n",
    "    data.plot(color=color,\n",
    "              ax=ax,\n",
    "              label=ctype)\n",
    "\n",
    "\n",
    "ax.set(title='Philadelphia Vacant Land by Gun Crime')\n",
    "# Place legend in the lower right hand corner of the plot\n",
    "ax.legend(loc='lower right',\n",
    "          fontsize=15,\n",
    "          frameon=True)\n",
    "\n",
    "ax.set_axis_off()\n",
    "plt.show()\n"
   ]
  },
  {
   "cell_type": "code",
   "execution_count": null,
   "metadata": {},
   "outputs": [],
   "source": [
    "# Plot data\n",
    "fig, ax = plt.subplots(figsize=(10, 10))\n",
    "\n",
    "# Loop through each attribute type and plot it using the colors assigned in the dictionary\n",
    "for ctype, data in joined_gdf.groupby('tree_canopy_gap'):\n",
    "    \n",
    "    # Define the color for each group using the dictionary\n",
    "    color = pct_cmap[ctype]\n",
    "    \n",
    "    # Plot each group using the color defined above\n",
    "    data.plot(color=color,\n",
    "              ax=ax,\n",
    "              label=ctype)\n",
    "\n",
    "ax.legend(bbox_to_anchor=(1.0, .5), prop={'size': 12})\n",
    "ax.set(title='Philadelphia Vacant Land by Tree Canopy Gap')\n",
    "\n",
    "ax.set_axis_off()\n",
    "plt.show()\n"
   ]
  },
  {
   "cell_type": "code",
   "execution_count": null,
   "metadata": {},
   "outputs": [],
   "source": [
    "# reproject to 4326 for mapping\n",
    "joined_gdf = joined_gdf.to_crs(epsg=4326)\n",
    "\n",
    "# simplify the geometry\n",
    "joined_gdf['geometry'] = joined_gdf['geometry'].simplify(5)\n",
    "\n",
    "joined_gdf_centroids = joined_gdf.set_geometry('centroid')\n",
    "\n",
    "joined_gdf_centroids = joined_gdf_centroids.drop(columns=['geometry'])\n",
    "\n",
    "joined_gdf_full = joined_gdf.set_geometry('geometry')\n",
    "\n",
    "joined_gdf_full = joined_gdf_full.drop(columns=['centroid'])"
   ]
  },
  {
   "cell_type": "code",
   "execution_count": null,
   "metadata": {},
   "outputs": [],
   "source": [
    "# need to add a column for lot size (total area)\n",
    "# the can convert geoms to points\n",
    "\n",
    "# remember--originally wanted to display lots and buildings with separate icons. Do I still want to?"
   ]
  },
  {
   "cell_type": "code",
   "execution_count": null,
   "metadata": {},
   "outputs": [],
   "source": [
    "joined_gdf_centroids.head()"
   ]
  },
  {
   "cell_type": "code",
   "execution_count": null,
   "metadata": {},
   "outputs": [],
   "source": [
    "from datetime import date\n",
    "\n",
    "# declare a variable that will call today's date in the format YYYY_MM_DD\n",
    "today = date.today().strftime(\"%Y_%m_%d\")\n",
    "\n",
    "# write the joined_gdf to a geojson with a filename that starts with today's date\n",
    "joined_gdf_centroids.to_file(f\"C:/Users/Nissim/Desktop/Vacant Lots Project/vacant-lots-proj/vacancy_guncrime_dash/{today}_joined_gdf_centroids.geojson\", driver='GeoJSON')\n",
    "\n",
    "joined_gdf_full.to_file(f\"C:/Users/Nissim/Desktop/Vacant Lots Project/vacant-lots-proj/vacancy_guncrime_dash/{today}_joined_gdf_full.geojson\", driver='GeoJSON')"
   ]
  },
  {
   "cell_type": "markdown",
   "metadata": {},
   "source": []
  }
 ],
 "metadata": {
  "kernelspec": {
   "display_name": "vac_props_guncrime_dash",
   "language": "python",
   "name": "python3"
  },
  "language_info": {
   "codemirror_mode": {
    "name": "ipython",
    "version": 3
   },
   "file_extension": ".py",
   "mimetype": "text/x-python",
   "name": "python",
   "nbconvert_exporter": "python",
   "pygments_lexer": "ipython3",
   "version": "3.11.0"
  },
  "orig_nbformat": 4,
  "vscode": {
   "interpreter": {
    "hash": "e6e6f34d5c18e199cb03cbea79929a02f010c80f88137b286b7b082b5a9d350f"
   }
  }
 },
 "nbformat": 4,
 "nbformat_minor": 2
}
