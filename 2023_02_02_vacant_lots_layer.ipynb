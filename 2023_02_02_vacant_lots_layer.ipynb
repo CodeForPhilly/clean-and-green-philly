{
 "cells": [
  {
   "attachments": {},
   "cell_type": "markdown",
   "metadata": {},
   "source": [
    "# Imports\n",
    "\n",
    "First, we'll import the necessary libraries."
   ]
  },
  {
   "cell_type": "code",
   "execution_count": 3,
   "metadata": {},
   "outputs": [],
   "source": [
    "import requests\n",
    "import pandas as pd\n",
    "import geopandas as gpd\n",
    "from shapely.geometry import Polygon"
   ]
  },
  {
   "attachments": {},
   "cell_type": "markdown",
   "metadata": {},
   "source": [
    "Next, we'll query the City of Philadelphia data via the ArcGIS REST API using the `requests` library. We'll also use the `json` library to parse the response.\n",
    "\n",
    "Finally, we'll use the `geopandas` library to create a geodataframe from the response."
   ]
  },
  {
   "attachments": {},
   "cell_type": "markdown",
   "metadata": {},
   "source": [
    "We have three different datasets to import from the City's ArcGIS server. These are:"
   ]
  },
  {
   "attachments": {},
   "cell_type": "markdown",
   "metadata": {},
   "source": [
    "### 1. Vacant Land"
   ]
  },
  {
   "cell_type": "code",
   "execution_count": 52,
   "metadata": {},
   "outputs": [],
   "source": [
    "# Define the URL for the Vacant_Indicators_Land feature service\n",
    "land_url = 'https://services.arcgis.com/fLeGjb7u4uXqeF9q/ArcGIS/rest/services/Vacant_Indicators_Land/FeatureServer/0/query'\n",
    "\n",
    "# Define the parameters for the Vacant_Indicators_Land API request\n",
    "land_params = {\n",
    "    'where': '1=1',\n",
    "    'outFields': '*',\n",
    "    'returnGeometry': 'true',\n",
    "    'f': 'json'\n",
    "}\n",
    "\n",
    "# Make the Vacant_Indicators_Land API request\n",
    "land_response = requests.get(land_url, params=land_params)\n",
    "\n",
    "# Check if the Vacant_Indicators_Land request was successful\n",
    "if land_response.status_code == 200:\n",
    "    # Convert the Vacant_Indicators_Land JSON data to a geopandas geodataframe; convert to CRS 2272\n",
    "    land_data = land_response.json()\n",
    "\n",
    "    # convert the JSON data to a pandas dataframe\n",
    "    land_df = pd.DataFrame(land_data['features'])\n",
    "\n",
    "    # separate the attributes column into one column per attribute\n",
    "    land_df = pd.concat([land_df.drop(['attributes'], axis=1), land_df['attributes'].apply(pd.Series)], axis=1)\n",
    "\n",
    "    # make the `geometry` column a shapely geometry object\n",
    "    land_df['geometry'] = land_df['geometry'].apply(lambda x: Polygon(x['rings'][0]))\n",
    "\n",
    "    # convert the pandas dataframe to a geopandas geodataframe\n",
    "    land_gdf = gpd.GeoDataFrame(land_df, geometry='geometry', crs='EPSG:2272')\n",
    "\n",
    "else:\n",
    "    print('Vacant_Indicators_Land Request failed with status code:', land_response.status_code)"
   ]
  },
  {
   "attachments": {},
   "cell_type": "markdown",
   "metadata": {},
   "source": [
    "### 2. Vacant Buildings"
   ]
  },
  {
   "cell_type": "code",
   "execution_count": 53,
   "metadata": {},
   "outputs": [],
   "source": [
    "# Define the URL for the Vacant_Indicators_Bldg feature service\n",
    "bldg_url = 'https://services.arcgis.com/fLeGjb7u4uXqeF9q/ArcGIS/rest/services/Vacant_Indicators_Bldg/FeatureServer/0/query'\n",
    "\n",
    "# Define the parameters for the Vacant_Indicators_Bldg API request\n",
    "bldg_params = {\n",
    "    'where': '1=1',\n",
    "    'outFields': '*',\n",
    "    'returnGeometry': 'true',\n",
    "    'f': 'json'\n",
    "}\n",
    "\n",
    "# Make the Vacant_Indicators_Bldg API request\n",
    "bldg_response = requests.get(bldg_url, params=bldg_params)\n",
    "\n",
    "# Check if the Vacant_Indicators_Bldg request was successful\n",
    "if bldg_response.status_code == 200:\n",
    "    # Convert the Vacant_Indicators_Bldg JSON data to a geopandas geodataframe\n",
    "    bldg_data = bldg_response.json()\n",
    "\n",
    "    # convert the JSON data to a pandas dataframe\n",
    "    bldg_df = pd.DataFrame(bldg_data['features'])\n",
    "\n",
    "    # separate the attributes column into one column per attribute\n",
    "    bldg_df = pd.concat([bldg_df.drop(['attributes'], axis=1), bldg_df['attributes'].apply(pd.Series)], axis=1)\n",
    "\n",
    "    # make the `geometry` column a shapely geometry object\n",
    "    bldg_df['geometry'] = bldg_df['geometry'].apply(lambda x: Polygon(x['rings'][0]))\n",
    "\n",
    "    # convert the pandas dataframe to a geopandas geodataframe\n",
    "    bldg_gdf = gpd.GeoDataFrame(bldg_df, geometry='geometry', crs='EPSG:2272')\n",
    "\n",
    "else:\n",
    "    print('Vacant_Indicators_Bldg Request failed with status code:', bldg_response.status_code)"
   ]
  },
  {
   "attachments": {},
   "cell_type": "markdown",
   "metadata": {},
   "source": [
    "### 3. PHS Community Landcare Parcels"
   ]
  },
  {
   "cell_type": "code",
   "execution_count": 5,
   "metadata": {},
   "outputs": [],
   "source": [
    "# Define the URL for the Vacant_Indicators_phs_landcare feature service\n",
    "phs_landcare_url = 'https://services.arcgis.com/fLeGjb7u4uXqeF9q/ArcGIS/rest/services/PHS_CommunityLandcare/FeatureServer/0/query'\n",
    "\n",
    "# Define the parameters for the Vacant_Indicators_phs_landcare API request\n",
    "phs_landcare_params = {\n",
    "    'where': '1=1',\n",
    "    'outFields': '*',\n",
    "    'returnGeometry': 'true',\n",
    "    'f': 'json'\n",
    "}\n",
    "\n",
    "# Make the Vacant_Indicators_phs_landcare API request\n",
    "phs_landcare_response = requests.get(phs_landcare_url, params=phs_landcare_params)\n",
    "\n",
    "# Check if the Vacant_Indicators_phs_landcare request was successful\n",
    "if phs_landcare_response.status_code == 200:\n",
    "    # Convert the Vacant_Indicators_phs_landcare JSON data to a geopandas geodataframe\n",
    "    phs_landcare_data = phs_landcare_response.json()\n",
    "\n",
    "    # convert the JSON data to a pandas dataframe\n",
    "    phs_landcare_df = pd.DataFrame(phs_landcare_data['features'])\n",
    "\n",
    "    # separate the attributes column into one column per attribute\n",
    "    phs_landcare_df = pd.concat([phs_landcare_df.drop(['attributes'], axis=1), phs_landcare_df['attributes'].apply(pd.Series)], axis=1)\n",
    "\n",
    "    # make the `geometry` column a shapely geometry object\n",
    "    phs_landcare_df['geometry'] = phs_landcare_df['geometry'].apply(lambda x: Polygon(x['rings'][0]))\n",
    "\n",
    "    # convert the pandas dataframe to a geopandas geodataframe\n",
    "    phs_landcare_gdf = gpd.GeoDataFrame(phs_landcare_df, geometry='geometry', crs='EPSG:2272')\n",
    "\n",
    "else:\n",
    "    print('PHS_CommunityLandcare Request failed with status code:', phs_landcare_response.status_code)"
   ]
  },
  {
   "attachments": {},
   "cell_type": "markdown",
   "metadata": {},
   "source": [
    "Now we need to import two more datasets from the City's Carto database (SQL)."
   ]
  },
  {
   "attachments": {},
   "cell_type": "markdown",
   "metadata": {},
   "source": [
    "### 1. L&I Violations"
   ]
  },
  {
   "cell_type": "code",
   "execution_count": 4,
   "metadata": {},
   "outputs": [],
   "source": [
    "import requests\n",
    "import datetime\n",
    "\n",
    "# Calculate one year ago from today's date\n",
    "one_year_ago = (datetime.datetime.now() - datetime.timedelta(days=365)).strftime(\"%Y-%m-%d\")\n",
    "\n",
    "# Create the SQL query\n",
    "li_sql_query = \"SELECT service_request_id, subject, status, service_name, service_code, lat, lon FROM public_cases_fc WHERE requested_datetime >= '{}'\".format(one_year_ago)\n",
    "\n",
    "# Make the GET request\n",
    "li_response = requests.get(\"https://phl.carto.com/api/v2/sql\", params={\"q\": li_sql_query})\n",
    "\n",
    "# Get the data\n",
    "li_data = li_response.json()[\"rows\"]\n",
    "\n",
    "# convert li_data to a pandas dataframe\n",
    "li_df = pd.DataFrame(li_data)\n",
    "\n",
    "# Convert the data to a geopandas dataframe\n",
    "li_gdf = gpd.GeoDataFrame(li_df, geometry=gpd.points_from_xy(li_df.lon, li_df.lat), crs='EPSG:2272')\n",
    "\n",
    "# drop the lat and lon columns\n",
    "li_gdf.drop(['lat', 'lon'], axis=1, inplace=True)\n"
   ]
  },
  {
   "attachments": {},
   "cell_type": "markdown",
   "metadata": {},
   "source": [
    "# Gun Crimes\n",
    "\n",
    "For our gun crime kernel density estimate, we have two steps:"
   ]
  },
  {
   "attachments": {},
   "cell_type": "markdown",
   "metadata": {},
   "source": [
    "### 1. Import gun crime data from the City's Carto database (SQL):"
   ]
  },
  {
   "cell_type": "code",
   "execution_count": 8,
   "metadata": {},
   "outputs": [],
   "source": [
    "# Modify the SQL query\n",
    "guncrimes_sql_query = \"SELECT text_general_code, dispatch_date, point_x, point_y FROM incidents_part1_part2 WHERE dispatch_date_time >= '{}' AND text_general_code\".format(one_year_ago)\n",
    "\n",
    "# Make the GET request\n",
    "guncrimes_response = requests.get(\"https://phl.carto.com/api/v2/sql\", params={\"q\": guncrimes_sql_query})\n",
    "\n",
    "# Get the data\n",
    "guncrimes_data = guncrimes_response.json()[\"rows\"]\n",
    "\n",
    "# convert guncrimes_data to a pandas dataframe\n",
    "guncrimes_df = pd.DataFrame(guncrimes_data)\n",
    "\n"
   ]
  },
  {
   "cell_type": "code",
   "execution_count": 9,
   "metadata": {},
   "outputs": [
    {
     "data": {
      "text/html": [
       "<div>\n",
       "<style scoped>\n",
       "    .dataframe tbody tr th:only-of-type {\n",
       "        vertical-align: middle;\n",
       "    }\n",
       "\n",
       "    .dataframe tbody tr th {\n",
       "        vertical-align: top;\n",
       "    }\n",
       "\n",
       "    .dataframe thead th {\n",
       "        text-align: right;\n",
       "    }\n",
       "</style>\n",
       "<table border=\"1\" class=\"dataframe\">\n",
       "  <thead>\n",
       "    <tr style=\"text-align: right;\">\n",
       "      <th></th>\n",
       "      <th>text_general_code</th>\n",
       "      <th>dispatch_date</th>\n",
       "      <th>point_x</th>\n",
       "      <th>point_y</th>\n",
       "    </tr>\n",
       "  </thead>\n",
       "  <tbody>\n",
       "    <tr>\n",
       "      <th>0</th>\n",
       "      <td>Thefts</td>\n",
       "      <td>2022-08-22</td>\n",
       "      <td>-75.247645</td>\n",
       "      <td>39.886841</td>\n",
       "    </tr>\n",
       "    <tr>\n",
       "      <th>1</th>\n",
       "      <td>Thefts</td>\n",
       "      <td>2022-09-10</td>\n",
       "      <td>-75.046249</td>\n",
       "      <td>40.033620</td>\n",
       "    </tr>\n",
       "    <tr>\n",
       "      <th>2</th>\n",
       "      <td>Thefts</td>\n",
       "      <td>2022-09-09</td>\n",
       "      <td>-75.046249</td>\n",
       "      <td>40.033620</td>\n",
       "    </tr>\n",
       "    <tr>\n",
       "      <th>3</th>\n",
       "      <td>Thefts</td>\n",
       "      <td>2022-09-09</td>\n",
       "      <td>-75.046249</td>\n",
       "      <td>40.033620</td>\n",
       "    </tr>\n",
       "    <tr>\n",
       "      <th>4</th>\n",
       "      <td>Thefts</td>\n",
       "      <td>2022-09-07</td>\n",
       "      <td>-75.046249</td>\n",
       "      <td>40.033620</td>\n",
       "    </tr>\n",
       "  </tbody>\n",
       "</table>\n",
       "</div>"
      ],
      "text/plain": [
       "  text_general_code dispatch_date    point_x    point_y\n",
       "0            Thefts    2022-08-22 -75.247645  39.886841\n",
       "1            Thefts    2022-09-10 -75.046249  40.033620\n",
       "2            Thefts    2022-09-09 -75.046249  40.033620\n",
       "3            Thefts    2022-09-09 -75.046249  40.033620\n",
       "4            Thefts    2022-09-07 -75.046249  40.033620"
      ]
     },
     "execution_count": 9,
     "metadata": {},
     "output_type": "execute_result"
    }
   ],
   "source": [
    "guncrimes_df.head()"
   ]
  },
  {
   "cell_type": "code",
   "execution_count": null,
   "metadata": {},
   "outputs": [],
   "source": [
    "\n",
    "# Convert the data to a geopandas dataframe\n",
    "guncrimes_gdf = gpd.GeoDataFrame(guncrimes_df, geometry=gpd.points_from_xy(guncrimes_df.point_x, guncrimes_df.point_y), crs='EPSG:2272')\n",
    "\n",
    "# drop the lat and lon columns\n",
    "guncrimes_gdf.drop(['point_x', 'point_y'], axis=1, inplace=True)"
   ]
  },
  {
   "attachments": {},
   "cell_type": "markdown",
   "metadata": {},
   "source": [
    "### 2. Create a kernel density estimate from the gun crime data:"
   ]
  },
  {
   "cell_type": "code",
   "execution_count": 23,
   "metadata": {},
   "outputs": [],
   "source": []
  }
 ],
 "metadata": {
  "kernelspec": {
   "display_name": "Python 3",
   "language": "python",
   "name": "python3"
  },
  "language_info": {
   "codemirror_mode": {
    "name": "ipython",
    "version": 3
   },
   "file_extension": ".py",
   "mimetype": "text/x-python",
   "name": "python",
   "nbconvert_exporter": "python",
   "pygments_lexer": "ipython3",
   "version": "3.10.6"
  },
  "orig_nbformat": 4,
  "vscode": {
   "interpreter": {
    "hash": "26de051ba29f2982a8de78e945f0abaf191376122a1563185a90213a26c5da77"
   }
  }
 },
 "nbformat": 4,
 "nbformat_minor": 2
}
