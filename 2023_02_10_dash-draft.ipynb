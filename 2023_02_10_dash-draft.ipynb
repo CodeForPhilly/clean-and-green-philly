{
 "cells": [
  {
   "cell_type": "code",
   "execution_count": null,
   "metadata": {},
   "outputs": [],
   "source": [
    "import dash\n",
    "import dash_core_components as dcc\n",
    "import dash_html_components as html\n",
    "import plotly.express as px\n",
    "import pandas as pd"
   ]
  },
  {
   "cell_type": "code",
   "execution_count": null,
   "metadata": {},
   "outputs": [],
   "source": [
    "\n",
    "# Load the data into a pandas DataFrame\n",
    "df = pd.read_csv(\"data.csv\")\n",
    "\n",
    "# Initialize the dash app\n",
    "app = dash.Dash(__name__)\n",
    "\n",
    "# Define the layout of the app\n",
    "app.layout = html.Div([\n",
    "    # The first component is the map\n",
    "    dcc.Graph(\n",
    "        id='map',\n",
    "        figure=px.scatter_mapbox(df, lat=\"latitude\", lon=\"longitude\", color=\"column_name\", size=\"size_column\", hover_data=[\"column_name\"])\n",
    "    ),\n",
    "    # The second component is the table\n",
    "    dcc.Graph(\n",
    "        id='table',\n",
    "        figure=px.table(df)\n",
    "    )\n",
    "])\n",
    "\n",
    "# Run the app\n",
    "if __name__ == '__main__':\n",
    "    app.run_server(debug=True)"
   ]
  }
 ],
 "metadata": {
  "language_info": {
   "name": "python"
  },
  "orig_nbformat": 4
 },
 "nbformat": 4,
 "nbformat_minor": 2
}
